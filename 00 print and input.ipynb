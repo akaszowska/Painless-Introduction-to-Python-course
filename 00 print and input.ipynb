{
 "cells": [
  {
   "cell_type": "markdown",
   "id": "47cf2ab6",
   "metadata": {},
   "source": [
    "# PRINT FUNCTION"
   ]
  },
  {
   "cell_type": "markdown",
   "id": "060804a3-d046-4596-b345-25f8da0d3944",
   "metadata": {},
   "source": [
    "The <i>print</i> function "
   ]
  },
  {
   "cell_type": "code",
   "execution_count": null,
   "id": "e7fef28b",
   "metadata": {},
   "outputs": [],
   "source": [
    "print(\"Hello, world!\")"
   ]
  },
  {
   "cell_type": "markdown",
   "id": "80e89de7",
   "metadata": {},
   "source": [
    "# INPUT FUNCTION"
   ]
  },
  {
   "cell_type": "code",
   "execution_count": null,
   "id": "2018c61e",
   "metadata": {
    "scrolled": true
   },
   "outputs": [],
   "source": [
    "input(\"say hello! \")"
   ]
  }
 ],
 "metadata": {
  "kernelspec": {
   "display_name": "Python 3 (ipykernel)",
   "language": "python",
   "name": "python3"
  },
  "language_info": {
   "codemirror_mode": {
    "name": "ipython",
    "version": 3
   },
   "file_extension": ".py",
   "mimetype": "text/x-python",
   "name": "python",
   "nbconvert_exporter": "python",
   "pygments_lexer": "ipython3",
   "version": "3.12.0"
  }
 },
 "nbformat": 4,
 "nbformat_minor": 5
}
