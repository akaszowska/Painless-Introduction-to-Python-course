{
 "cells": [
  {
   "cell_type": "markdown",
   "id": "a8fbc0f4",
   "metadata": {},
   "source": [
    "# VARIABLES\n",
    "\n",
    "DEFINITION: a variable is a label assigned to a value.\n",
    "\n",
    "For example, we can assign a label called <i>message</i> to a string. That way, we create a variable called <i>message</i> which contains a string. \n",
    "\n",
    "Afterwards, any time we use a function to call on that variable, we are in fact referring its contents (the string):"
   ]
  },
  {
   "cell_type": "code",
   "execution_count": 7,
   "id": "83e0a4e1",
   "metadata": {
    "scrolled": true
   },
   "outputs": [
    {
     "name": "stdout",
     "output_type": "stream",
     "text": [
      "Hello, world!\n"
     ]
    }
   ],
   "source": [
    "message = \"Hello, world!\"\n",
    "print(message)"
   ]
  },
  {
   "cell_type": "markdown",
   "id": "5a5ac632",
   "metadata": {},
   "source": [
    "A variable must be defined before a function can call on it, but it does not have to be defined immediately before the function call:"
   ]
  },
  {
   "cell_type": "code",
   "execution_count": 6,
   "id": "8c6dcdca",
   "metadata": {
    "scrolled": true
   },
   "outputs": [
    {
     "name": "stdout",
     "output_type": "stream",
     "text": [
      "Hello, world!\n",
      "oops\n"
     ]
    }
   ],
   "source": [
    "message = \"Hello, world!\"\n",
    "other_message = \"oops\"\n",
    "\n",
    "print(message)\n",
    "print(other_message)"
   ]
  },
  {
   "cell_type": "markdown",
   "id": "9e4a24c5",
   "metadata": {},
   "source": [
    "We get an error when a variable is defined after a function calls on it:"
   ]
  },
  {
   "cell_type": "code",
   "execution_count": 7,
   "id": "aef263c7",
   "metadata": {},
   "outputs": [
    {
     "ename": "NameError",
     "evalue": "name 'new_message' is not defined",
     "output_type": "error",
     "traceback": [
      "\u001b[1;31m---------------------------------------------------------------------------\u001b[0m",
      "\u001b[1;31mNameError\u001b[0m                                 Traceback (most recent call last)",
      "Cell \u001b[1;32mIn[7], line 1\u001b[0m\n\u001b[1;32m----> 1\u001b[0m \u001b[38;5;28mprint\u001b[39m(\u001b[43mnew_message\u001b[49m)\n\u001b[0;32m      2\u001b[0m \u001b[38;5;28mprint\u001b[39m(new_other_message)\n\u001b[0;32m      4\u001b[0m new_message \u001b[38;5;241m=\u001b[39m \u001b[38;5;124m\"\u001b[39m\u001b[38;5;124mHello, world!\u001b[39m\u001b[38;5;124m\"\u001b[39m\n",
      "\u001b[1;31mNameError\u001b[0m: name 'new_message' is not defined"
     ]
    }
   ],
   "source": [
    "print(new_message)\n",
    "print(new_other_message)\n",
    "\n",
    "new_message = \"Hello, world!\"\n",
    "new_other_message = \"oops\""
   ]
  },
  {
   "cell_type": "markdown",
   "id": "2d688fd1",
   "metadata": {},
   "source": [
    "## naming variables\n",
    "variable names can:\n",
    "- contain only letters (upper and lower case), numbers, and underscores\n",
    "- start with a letter or an underscore"
   ]
  },
  {
   "cell_type": "code",
   "execution_count": 2,
   "id": "d78feeb4-ac9f-46c4-a4cd-6d1e934a3a35",
   "metadata": {},
   "outputs": [],
   "source": [
    "myName = 'John'\n",
    "my_name_2 = 'Jack'"
   ]
  },
  {
   "cell_type": "markdown",
   "id": "7cacc239-8273-436e-baef-a980c3d8e84f",
   "metadata": {},
   "source": [
    "variable names cannot:\n",
    "- contain spaces\n",
    "- start with a number"
   ]
  },
  {
   "cell_type": "code",
   "execution_count": 3,
   "id": "9e30a753-0238-4c43-a6f2-28143b39cfcd",
   "metadata": {},
   "outputs": [
    {
     "ename": "SyntaxError",
     "evalue": "invalid syntax (2078289827.py, line 1)",
     "output_type": "error",
     "traceback": [
      "\u001b[1;36m  Cell \u001b[1;32mIn[3], line 1\u001b[1;36m\u001b[0m\n\u001b[1;33m    my third name = 'Susan'\u001b[0m\n\u001b[1;37m       ^\u001b[0m\n\u001b[1;31mSyntaxError\u001b[0m\u001b[1;31m:\u001b[0m invalid syntax\n"
     ]
    }
   ],
   "source": [
    "my third name = 'Susan'"
   ]
  },
  {
   "cell_type": "code",
   "execution_count": 4,
   "id": "b7915e7a-5d1a-4603-91d9-7e56edac95e9",
   "metadata": {},
   "outputs": [
    {
     "ename": "SyntaxError",
     "evalue": "invalid decimal literal (3822048542.py, line 1)",
     "output_type": "error",
     "traceback": [
      "\u001b[1;36m  Cell \u001b[1;32mIn[4], line 1\u001b[1;36m\u001b[0m\n\u001b[1;33m    4name = 'Ben'\u001b[0m\n\u001b[1;37m    ^\u001b[0m\n\u001b[1;31mSyntaxError\u001b[0m\u001b[1;31m:\u001b[0m invalid decimal literal\n"
     ]
    }
   ],
   "source": [
    "4th_name = 'Ben'"
   ]
  },
  {
   "cell_type": "markdown",
   "id": "37bf9b1a",
   "metadata": {},
   "source": [
    "Couple practical notes:\n",
    "\n",
    "Variable names should be short but descriptive, for example if your variable contains a pet's name, it is better to call that variable <i>pets_name</i> than <i>a</i>.\n",
    "\n",
    "Be careful when using the lowercasse letter L and the uppercase letter O, because they can easily be confused with 1 and 0.\n",
    "\n",
    "Variable names consisting of all uppercase letters are typically used for constants."
   ]
  },
  {
   "cell_type": "markdown",
   "id": "9072249c-9ff9-47d9-969a-5f8919a31e92",
   "metadata": {},
   "source": [
    "### what not to name your variables:"
   ]
  },
  {
   "cell_type": "markdown",
   "id": "ac06cd6d",
   "metadata": {},
   "source": [
    "Avoid using Python keywords as variable names:\n",
    "- False None True\n",
    "- and as assert async await\n",
    "- break\n",
    "- class continue\n",
    "- def del\n",
    "- elif else except\n",
    "- finally for from global\n",
    "- if import in is\n",
    "- lambda\n",
    "- nonlocal not\n",
    "- or\n",
    "- pass\n",
    "- raise return\n",
    "- try\n",
    "- while with\n",
    "- yield"
   ]
  },
  {
   "cell_type": "markdown",
   "id": "b29cddab-accd-467c-8bd5-4abe9e08d96c",
   "metadata": {},
   "source": [
    "When you use a keyword as a variable name, you will get a syntax error, since Python will not recognize the keyword as a variable name:"
   ]
  },
  {
   "cell_type": "code",
   "execution_count": 6,
   "id": "6bf77199-d405-44bb-8b6a-5ae8501fb91c",
   "metadata": {},
   "outputs": [
    {
     "ename": "SyntaxError",
     "evalue": "invalid syntax (1928626440.py, line 1)",
     "output_type": "error",
     "traceback": [
      "\u001b[1;36m  Cell \u001b[1;32mIn[6], line 1\u001b[1;36m\u001b[0m\n\u001b[1;33m    while = \"Hello, world!\"\u001b[0m\n\u001b[1;37m          ^\u001b[0m\n\u001b[1;31mSyntaxError\u001b[0m\u001b[1;31m:\u001b[0m invalid syntax\n"
     ]
    }
   ],
   "source": [
    "while = \"Hello, world!\""
   ]
  },
  {
   "cell_type": "markdown",
   "id": "3f61f815",
   "metadata": {},
   "source": [
    "Avoid using Python built-in function names as variable names:\n",
    "- abs() all() any() ascii() \n",
    "- bin() bool() breakpoint() bytearray() bytes() \n",
    "- callable() chr() classmethod() compile() complex() \n",
    "- delattr() dict() dir() divmod() \n",
    "- enumerate() eval() exec() \n",
    "- filter() float() format() frozenset() \n",
    "- getattr() globals() \n",
    "- hasattr() hash() help() hex() \n",
    "- id() input() int() isinstance() issubclass() iter() \n",
    "- len() list() locals() \n",
    "- map() max() memoryview() min() \n",
    "- next() \n",
    "- object() oct() open() ord() \n",
    "- pow() print() property() \n",
    "- range() repr() reversed() round() \n",
    "- set() setattr() slice() sorted() staticmethod() str() sum() super() \n",
    "- tuple() type() \n",
    "- vars() \n",
    "- zip()"
   ]
  },
  {
   "cell_type": "markdown",
   "id": "077ee7ae-2e9b-46db-bd78-b12ae083d266",
   "metadata": {},
   "source": [
    "When you use a python keyword or function as a variable name, you will override the behavior of the corresponding function:"
   ]
  },
  {
   "cell_type": "code",
   "execution_count": 8,
   "id": "e8c49088",
   "metadata": {},
   "outputs": [
    {
     "name": "stdout",
     "output_type": "stream",
     "text": [
      "Hello, world!\n"
     ]
    },
    {
     "ename": "TypeError",
     "evalue": "'str' object is not callable",
     "output_type": "error",
     "traceback": [
      "\u001b[1;31m---------------------------------------------------------------------------\u001b[0m",
      "\u001b[1;31mTypeError\u001b[0m                                 Traceback (most recent call last)",
      "Cell \u001b[1;32mIn[8], line 5\u001b[0m\n\u001b[0;32m      1\u001b[0m \u001b[38;5;28mprint\u001b[39m(\u001b[38;5;124m\"\u001b[39m\u001b[38;5;124mHello, world!\u001b[39m\u001b[38;5;124m\"\u001b[39m)\n\u001b[0;32m      3\u001b[0m \u001b[38;5;28mprint\u001b[39m \u001b[38;5;241m=\u001b[39m \u001b[38;5;124m\"\u001b[39m\u001b[38;5;124mHi there!\u001b[39m\u001b[38;5;124m\"\u001b[39m\n\u001b[1;32m----> 5\u001b[0m \u001b[38;5;28;43mprint\u001b[39;49m\u001b[43m(\u001b[49m\u001b[38;5;124;43m\"\u001b[39;49m\u001b[38;5;124;43mHello, world!\u001b[39;49m\u001b[38;5;124;43m\"\u001b[39;49m\u001b[43m)\u001b[49m\n\u001b[0;32m      7\u001b[0m \u001b[38;5;66;03m# remember to restart your kernel after you run this cell :-)\u001b[39;00m\n",
      "\u001b[1;31mTypeError\u001b[0m: 'str' object is not callable"
     ]
    }
   ],
   "source": [
    "print = \"Hi there!\"\n",
    "\n",
    "print(print)\n",
    "\n",
    "# remember to restart your kernel after you run this cell :-)"
   ]
  },
  {
   "cell_type": "markdown",
   "id": "0998fa85-eb31-4496-aa4d-9d8d859a710f",
   "metadata": {},
   "source": [
    "If you override an important function in Jupyter Notebook, go to kernel --> restart"
   ]
  }
 ],
 "metadata": {
  "kernelspec": {
   "display_name": "Python 3 (ipykernel)",
   "language": "python",
   "name": "python3"
  },
  "language_info": {
   "codemirror_mode": {
    "name": "ipython",
    "version": 3
   },
   "file_extension": ".py",
   "mimetype": "text/x-python",
   "name": "python",
   "nbconvert_exporter": "python",
   "pygments_lexer": "ipython3",
   "version": "3.11.5"
  }
 },
 "nbformat": 4,
 "nbformat_minor": 5
}
