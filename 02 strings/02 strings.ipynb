{
 "cells": [
  {
   "cell_type": "markdown",
   "id": "bd6d041b",
   "metadata": {},
   "source": [
    "# STRINGS\n",
    "DEFINITION: a string is a series of characters inside \"\" or '' quotes."
   ]
  },
  {
   "cell_type": "code",
   "execution_count": 15,
   "id": "a9e56f1c",
   "metadata": {},
   "outputs": [
    {
     "data": {
      "text/plain": [
       "'this is also a string.'"
      ]
     },
     "execution_count": 15,
     "metadata": {},
     "output_type": "execute_result"
    }
   ],
   "source": [
    "\"this is a string.\"\n",
    "'this is also a string.'"
   ]
  },
  {
   "cell_type": "markdown",
   "id": "b97707a1",
   "metadata": {},
   "source": [
    "Sometimes we want to put a quote character inside a string. We can do that by mixing \"\" and '' quotes:"
   ]
  },
  {
   "cell_type": "code",
   "execution_count": 16,
   "id": "7ed38e9e-0ab6-4018-bf1a-79c15246d1a1",
   "metadata": {},
   "outputs": [
    {
     "data": {
      "text/plain": [
       "'\"It isn\\'t,\" she said.'"
      ]
     },
     "execution_count": 16,
     "metadata": {},
     "output_type": "execute_result"
    }
   ],
   "source": [
    "'I told my friend, \"Python is my favorite language!\"'\n",
    "\"The language 'Python' is named after Monty Python, not the snake.\"\n",
    "\"One of Python's strengths is its diverse and supportive community.\"\n",
    "\"\"\"\"It isn't,\" she said.\"\"\""
   ]
  },
  {
   "cell_type": "markdown",
   "id": "72a71ddc-daf9-4390-ada4-a7ce3d396239",
   "metadata": {},
   "source": [
    "Strings can also be assigned to variables:"
   ]
  },
  {
   "cell_type": "code",
   "execution_count": 2,
   "id": "a1f1b0d5",
   "metadata": {},
   "outputs": [],
   "source": [
    "myString = \"This is a string.\""
   ]
  },
  {
   "cell_type": "markdown",
   "id": "36705bc8-3804-426c-a9b7-487d2819da9a",
   "metadata": {},
   "source": [
    "When we use strings, Python recognizes the contents of a string as a series of characters. For example, if our string contains the number 5, Python will not recognize its value as a number - just the fact that it is a character. This means we cannot perform any arithmetic operations on numbers that are stored as strings:"
   ]
  },
  {
   "cell_type": "code",
   "execution_count": 14,
   "id": "c35aba06",
   "metadata": {},
   "outputs": [
    {
     "data": {
      "text/plain": [
       "'52'"
      ]
     },
     "execution_count": 14,
     "metadata": {},
     "output_type": "execute_result"
    }
   ],
   "source": [
    "\"5\" + \"2\""
   ]
  },
  {
   "cell_type": "markdown",
   "id": "6a6d1574-4e5e-4de0-8f54-8752f985ef9a",
   "metadata": {},
   "source": [
    "In fact, using the <i>+</i> character with strings will result in concatenation: attaching two strings to each other:"
   ]
  },
  {
   "cell_type": "code",
   "execution_count": 13,
   "id": "d0197f39-355e-499b-b390-31bda3df613b",
   "metadata": {},
   "outputs": [
    {
     "data": {
      "text/plain": [
       "'chocolate'"
      ]
     },
     "execution_count": 13,
     "metadata": {},
     "output_type": "execute_result"
    }
   ],
   "source": [
    "\"choco\" + \"late\""
   ]
  },
  {
   "cell_type": "markdown",
   "id": "0879a2f7-3d8c-4343-a9df-c8c078c9e352",
   "metadata": {},
   "source": [
    "## manipulating strings"
   ]
  },
  {
   "cell_type": "markdown",
   "id": "4c359726",
   "metadata": {},
   "source": [
    "### changing case in a string with methods\n",
    "DEFINITION: a method is an action that python can perform on a piece of data."
   ]
  },
  {
   "cell_type": "markdown",
   "id": "f69576f9-764b-47da-ae83-cc58a9ba461c",
   "metadata": {},
   "source": [
    "#### example: .title() method"
   ]
  },
  {
   "cell_type": "markdown",
   "id": "4fd5811a-1410-46c7-9c91-cbf7d954add1",
   "metadata": {},
   "source": [
    ".title() method takes a string, and converts it so that every word in the string starts with a uppercase letter, and the remaining letters are lowercase. It is useful if you do not trust the capitalization that your users provide."
   ]
  },
  {
   "cell_type": "code",
   "execution_count": 22,
   "id": "2853e572",
   "metadata": {},
   "outputs": [
    {
     "name": "stdout",
     "output_type": "stream",
     "text": [
      "Fluffy Mcflufferson\n",
      "Whiskers Mcwhiskerson\n"
     ]
    }
   ],
   "source": [
    "nameLower = \"fluffy mcflufferson\"\n",
    "nameUpper = \"WHISKERS MCWHISKERSON\"\n",
    "print(nameLower.title())\n",
    "print(nameUpper.title())"
   ]
  },
  {
   "cell_type": "markdown",
   "id": "60e83e94-d850-4948-a113-b043d9d88f8a",
   "metadata": {},
   "source": [
    "The \".\" tells python to make the title() method act on the variable name (here, <i>nameLower</i> and <i>nameUpper</i>).\n",
    "\n",
    "Every method is followed by a set of parentheses (), because methods often need additional information to do their work and that information is provided inside the parenthesis. The .title() method doesn't need additional information, so the parentheses are empty - but they still need to be there!"
   ]
  },
  {
   "cell_type": "code",
   "execution_count": 23,
   "id": "09ab5752-b614-48a4-8a81-d9fa8c694281",
   "metadata": {},
   "outputs": [
    {
     "name": "stdout",
     "output_type": "stream",
     "text": [
      "<built-in method title of str object at 0x000001F580561110>\n"
     ]
    }
   ],
   "source": [
    "# not what we want to achieve with this method:\n",
    "\n",
    "nameLower = \"fluffy mcflufferson\"\n",
    "print(nameLower.title)"
   ]
  },
  {
   "cell_type": "code",
   "execution_count": 24,
   "id": "5aa9afa2-a040-447e-8f3d-d8b9ba6c35e6",
   "metadata": {},
   "outputs": [
    {
     "name": "stdout",
     "output_type": "stream",
     "text": [
      "FLUFFY MCFLUFFERSON\n",
      "whiskers mcwhiskerson\n"
     ]
    }
   ],
   "source": [
    "nameLower = \"fluffy mcflufferson\"\n",
    "nameUpper = \"WHISKERS MCWHISKERSON\"\n",
    "print(nameLower.upper()) \n",
    "print(nameUpper.lower()) "
   ]
  },
  {
   "cell_type": "markdown",
   "id": "c185051d",
   "metadata": {},
   "source": [
    "## using variables in strings"
   ]
  },
  {
   "cell_type": "markdown",
   "id": "c644ae01",
   "metadata": {},
   "source": [
    "#### f-string\n",
    "\n",
    "To insert a value into a string, place the f letter immediately before opening the quote:                      "
   ]
  },
  {
   "cell_type": "code",
   "execution_count": 26,
   "id": "4f803fa7",
   "metadata": {},
   "outputs": [
    {
     "name": "stdout",
     "output_type": "stream",
     "text": [
      "fluffy mcflufferson\n",
      "Hello, Fluffy Mcflufferson!\n"
     ]
    }
   ],
   "source": [
    "firstName = \"fluffy\"\n",
    "lastName = \"mcflufferson\"\n",
    "\n",
    "fullName = f\"{firstName} {lastName}\" \n",
    "\n",
    "print(fullName)\n",
    "\n",
    "print(f\"Hello, {fullName.title()}!\")"
   ]
  },
  {
   "cell_type": "code",
   "execution_count": null,
   "id": "2753f6bb",
   "metadata": {},
   "outputs": [],
   "source": [
    "firstName = input(\"What is your first name? \")\n",
    "lastName = input(\"What is your last name? \")\n",
    "fullName = f\"{firstName} {lastName}\" \n",
    "print(f\"Hello, {fullName.title()}!\")"
   ]
  },
  {
   "cell_type": "markdown",
   "id": "0186a695",
   "metadata": {},
   "source": [
    "#### whitespace \n",
    "\n",
    "Any nonprinting character (spaces, tabs, end of line symbols, etc.) that can be used to organize outputs:"
   ]
  },
  {
   "cell_type": "code",
   "execution_count": 32,
   "id": "dab29001",
   "metadata": {},
   "outputs": [
    {
     "name": "stdout",
     "output_type": "stream",
     "text": [
      "Favorite snacks:\n",
      "\tchips\n",
      "\tcookies\n",
      "\tchocolate\n"
     ]
    }
   ],
   "source": [
    "# tabs: \\t\n",
    "print(\"Favorite snacks:\")\n",
    "print(\"\\tchips\")\n",
    "print(\"\\tcookies\")\n",
    "print(\"\\tchocolate\")"
   ]
  },
  {
   "cell_type": "code",
   "execution_count": 30,
   "id": "1d715fe7-c696-47c3-b419-9263cd6ecd93",
   "metadata": {},
   "outputs": [
    {
     "name": "stdout",
     "output_type": "stream",
     "text": [
      "Favorite snacks:\n",
      "chips\n",
      "cookies\n",
      "chocolate\n"
     ]
    }
   ],
   "source": [
    "# new line in a string: \\n\n",
    "print(\"Favorite snacks:\\nchips\\ncookies\\nchocolate\")"
   ]
  },
  {
   "cell_type": "code",
   "execution_count": 31,
   "id": "16316141-1c3d-42c1-a6b1-9114d72eb8ca",
   "metadata": {},
   "outputs": [
    {
     "name": "stdout",
     "output_type": "stream",
     "text": [
      "Favorite snacks:\n",
      "\tchips\n",
      "\tcookies\n",
      "\tchocolate\n"
     ]
    }
   ],
   "source": [
    "# or combine\n",
    "print(\"Favorite snacks:\\n\\tchips\\n\\tcookies\\n\\tchocolate\")"
   ]
  },
  {
   "cell_type": "markdown",
   "id": "7db706f6",
   "metadata": {},
   "source": [
    "Temporary stripping whitespace:"
   ]
  },
  {
   "cell_type": "code",
   "execution_count": null,
   "id": "98072ee7",
   "metadata": {},
   "outputs": [],
   "source": [
    "favoriteSnack = ' cookies '\n",
    "\n",
    "favoriteSnack.rstrip() # stripping whitespace from the right side\n",
    "favoriteSnack.lstrip() # stripping whitespace from the left side\n",
    "favoriteSnack.strip() # stripping whitespace from both sides"
   ]
  },
  {
   "cell_type": "markdown",
   "id": "1f6f524a",
   "metadata": {},
   "source": [
    "Permanently removing whitespace requires associating the stripped value with variable name:"
   ]
  },
  {
   "cell_type": "code",
   "execution_count": null,
   "id": "ef40464e",
   "metadata": {},
   "outputs": [],
   "source": [
    "favoriteSnack = ' cookies '\n",
    "favoriteSnack = favoriteSnack.strip()"
   ]
  },
  {
   "cell_type": "code",
   "execution_count": null,
   "id": "28fda5d6-71fe-4f49-aae3-bca498a33aeb",
   "metadata": {},
   "outputs": [],
   "source": [
    "# you can use more than one method\n",
    "favoriteSnack = ' cookies '\n",
    "favoriteSnack = favoriteSnack.strip().upper()"
   ]
  },
  {
   "cell_type": "markdown",
   "id": "3d1616da",
   "metadata": {},
   "source": [
    "## getting to parts of strings"
   ]
  },
  {
   "cell_type": "markdown",
   "id": "3718aff4",
   "metadata": {},
   "source": [
    "Finding length of a string using len():"
   ]
  },
  {
   "cell_type": "code",
   "execution_count": 33,
   "id": "2bc9116d",
   "metadata": {},
   "outputs": [
    {
     "name": "stdout",
     "output_type": "stream",
     "text": [
      "26\n"
     ]
    }
   ],
   "source": [
    "alphabet = \"ABCDEFGHIJKLMNOPQRSTUVWXYZ\"\n",
    "alphabetLength = len(alphabet)\n",
    "print(alphabetLength)"
   ]
  },
  {
   "cell_type": "markdown",
   "id": "8a1cf440",
   "metadata": {},
   "source": [
    "We can refer to specific characters in the string by calling on their position.\n",
    "\n",
    "The position of a character is usually denoted by first calling on the string variable, then the position in [ ].\n",
    "\n",
    "In Python, forward addressing starts at 0, while backward addressing starts at -1.\n",
    "\n",
    "This means that if we are counting from left to right, the first character of the string occupies position 0, the second character occupies position 1, and so on. \n",
    "\n",
    "    0 1 2 3 4 5 6 7 8 9 10 11...\n",
    "    A B C D E F G H I J K  L  M N O P Q R S T U V W X Y Z\n",
    "    \n",
    "If we are counting from right to left, the last character of the string occupies position -1, the second to last character occupies position -2, and so on:\n",
    "    \n",
    "    A B C D E F G H I J K  L  M  N  O  P  Q  R  S  T  U  V  W  X  Y  Z\n",
    "                                                     ...-5 -4 -3 -2 -1 \n",
    "    "
   ]
  },
  {
   "cell_type": "markdown",
   "id": "f9cf9bf4-1add-40c1-b736-026311eb07ed",
   "metadata": {},
   "source": [
    "Move the 6th character of \"alphabet\" into a variable called \"letter\":"
   ]
  },
  {
   "attachments": {},
   "cell_type": "markdown",
   "id": "0c0d3c4e-7a64-4bc2-8def-963bc03b24e7",
   "metadata": {},
   "source": [
    "alphabet = \"ABCDEFGHIJKLMNOPQRSTUVWXYZ\"\n",
    "letter = alphabet[6]\n",
    "print(letter)"
   ]
  },
  {
   "cell_type": "markdown",
   "id": "0b9bf8c9",
   "metadata": {},
   "source": [
    "Put the last and first character of alphabet into a variable using len():"
   ]
  },
  {
   "cell_type": "code",
   "execution_count": 34,
   "id": "c227cd73",
   "metadata": {},
   "outputs": [
    {
     "name": "stdout",
     "output_type": "stream",
     "text": [
      "Z\n",
      "A\n"
     ]
    }
   ],
   "source": [
    "alphabet = \"ABCDEFGHIJKLMNOPQRSTUVWXYZ\"\n",
    "\n",
    "last = alphabet[len(alphabet)-1]\n",
    "print(last)\n",
    "\n",
    "first = alphabet[-len(alphabet)]\n",
    "print(first)"
   ]
  },
  {
   "cell_type": "markdown",
   "id": "a97f9d74",
   "metadata": {},
   "source": [
    "## string slicing\n",
    "\n",
    "We can refer to substrings of our string using slicing (cutting parts of the string).\n",
    "\n",
    "The \"cursor\" positions for slicing:\n",
    "\n",
    "        -9   -8   -7   -6   -5   -4   -3   -2   -1\n",
    "    s =    A    B    C    D    E    F    G    H    I\n",
    "         0    1    2    3    4    5    6    7    8    9"
   ]
  },
  {
   "cell_type": "code",
   "execution_count": 40,
   "id": "f057bddc",
   "metadata": {},
   "outputs": [
    {
     "name": "stdout",
     "output_type": "stream",
     "text": [
      "BCDE\n",
      "ABCDEF\n",
      "BCDEFGH\n",
      "ABCDEFGHI\n",
      "ABCDEFGHI\n",
      "ACEGI\n"
     ]
    }
   ],
   "source": [
    "s = \"ABCDEFGHI\"\n",
    "print(s[1:5]) # outputs BCDE\n",
    "print(s[0:-3]) # outputs ABCDEF\n",
    "print(s[-8:-1]) # outputs BCDEFGHI\n",
    "print(s[-8:0]) # outputs nothing - because we are slicing left to right, and there is no position 0 to the right of the -8 position\n",
    "print(s[:]) # outputs the whole string\n",
    "print(s[-9:9]) # outputs ABCDEFGHI\n",
    "print(s[::2]) # outputs ACEGI: every second letter in the entire string starting at A"
   ]
  },
  {
   "cell_type": "code",
   "execution_count": 51,
   "id": "a6645429",
   "metadata": {
    "scrolled": true
   },
   "outputs": [
    {
     "name": "stdout",
     "output_type": "stream",
     "text": [
      "FLUFFY MCFLUFFERSON\n"
     ]
    }
   ],
   "source": [
    "fullName = \"FLUFFYMCFLUFFERSON\"\n",
    "firstName = fullName[:6] # leaving the first one empty means \"start from the beginning\"\n",
    "lastName = fullName[6:] # leaving the second one empty means \"go through to the end\"\n",
    "\n",
    "print(firstName, lastName)"
   ]
  },
  {
   "cell_type": "markdown",
   "id": "5353f104",
   "metadata": {},
   "source": [
    "## changing elemenents in strings\n",
    "strings are immutable, meaning: once created, we cannot change the elements within the string.\n",
    "\n",
    "To change a string, we need to make a new string:"
   ]
  },
  {
   "cell_type": "code",
   "execution_count": 55,
   "id": "e788dcc0",
   "metadata": {},
   "outputs": [
    {
     "name": "stdout",
     "output_type": "stream",
     "text": [
      "Fluffy\n",
      "Flooffy\n"
     ]
    }
   ],
   "source": [
    "name = \"Fluffy\"\n",
    "nameChange = name[0:2]+\"oo\"+name[3:]\n",
    "\n",
    "print(name)\n",
    "print(nameChange)"
   ]
  },
  {
   "cell_type": "code",
   "execution_count": 56,
   "id": "81fd5b9d-e890-43ee-8153-9f9b1fbbf61d",
   "metadata": {},
   "outputs": [
    {
     "name": "stdout",
     "output_type": "stream",
     "text": [
      "Fluffy\n",
      "Flooffy\n"
     ]
    }
   ],
   "source": [
    "name = \"Fluffy\"\n",
    "nameChange = f\"{name[0:2]}oo{name[3:]}\"\n",
    "\n",
    "print(name)\n",
    "print(nameChange)"
   ]
  },
  {
   "cell_type": "markdown",
   "id": "15c7b2c6-f702-4cb9-836e-20c66022f9e6",
   "metadata": {},
   "source": [
    "## splitting a string into individual words using .split()\n",
    "\n",
    "The .split() method breaks a string into smaller strings based on spaces between characters. As a result, we get a list of substrings in the order of appearance in the original string. We can then access each substring with its index number:"
   ]
  },
  {
   "cell_type": "code",
   "execution_count": 60,
   "id": "38de1234-f1dd-494d-a83c-07a5779bfd7d",
   "metadata": {},
   "outputs": [
    {
     "name": "stdout",
     "output_type": "stream",
     "text": [
      "eat ice cream\n"
     ]
    }
   ],
   "source": [
    "long_string = \"I could eat chocolate ice cream every day.\"\n",
    "\n",
    "split_string = long_string.split()\n",
    "\n",
    "new_string = f\"{split_string[2]} {split_string[4]} {split_string[5]}\"\n",
    "print(new_string)"
   ]
  }
 ],
 "metadata": {
  "kernelspec": {
   "display_name": "Python 3 (ipykernel)",
   "language": "python",
   "name": "python3"
  },
  "language_info": {
   "codemirror_mode": {
    "name": "ipython",
    "version": 3
   },
   "file_extension": ".py",
   "mimetype": "text/x-python",
   "name": "python",
   "nbconvert_exporter": "python",
   "pygments_lexer": "ipython3",
   "version": "3.12.0"
  }
 },
 "nbformat": 4,
 "nbformat_minor": 5
}
