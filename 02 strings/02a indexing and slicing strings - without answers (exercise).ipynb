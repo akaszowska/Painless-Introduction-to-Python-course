{
 "cells": [
  {
   "cell_type": "markdown",
   "id": "89b5671c",
   "metadata": {},
   "source": [
    "## indexing and slicing strings: exercise\n",
    "using only indexing and slicing of a provided string, print specific outputs.\n",
    "\n",
    "Surprise! check the '\\' in the middle of the MScott quote. In Python, we can use '\\' to split longer strings between lines. Simply using enter would break the code. \n",
    "We can also use ';' to put multiple statements that normally would each have their own line in one line instead."
   ]
  },
  {
   "cell_type": "code",
   "execution_count": null,
   "id": "3e02a416",
   "metadata": {},
   "outputs": [],
   "source": [
    "MScott = '\"Would I rather be feared or loved? Easy. Both. I want people to be afraid of how much \\\n",
    "they love me.\" – Michael Scott'; print(MScott)"
   ]
  },
  {
   "cell_type": "markdown",
   "id": "cf8d0344-8118-4389-b35c-a02519d4afd2",
   "metadata": {},
   "source": [
    "print first five characters of the string:\n",
    "\n",
    "output: \"Woul"
   ]
  },
  {
   "cell_type": "code",
   "execution_count": null,
   "id": "0931cb22-af8c-4d99-bd20-1e772ae5b1c5",
   "metadata": {},
   "outputs": [],
   "source": []
  },
  {
   "cell_type": "markdown",
   "id": "7f0e360f-db0e-433f-b13e-a9921a9fc3cb",
   "metadata": {},
   "source": [
    "print Michael Scott's name, knowing that it is the last two words in the string, and in total it consists of 13 characters (including the whitespace):\n",
    "\n",
    "output: Michael Scott"
   ]
  },
  {
   "cell_type": "code",
   "execution_count": null,
   "id": "e1c7a46d-4841-4566-a913-e9b9d4721b14",
   "metadata": {},
   "outputs": [],
   "source": []
  },
  {
   "cell_type": "markdown",
   "id": "173babfb-99a0-46c0-be0f-3a46a7ca7174",
   "metadata": {},
   "source": [
    "print the word 'rather':\n",
    "\n",
    "output: rather"
   ]
  },
  {
   "cell_type": "code",
   "execution_count": null,
   "id": "8bd916b5-569d-42c9-ac3e-9e070fd278c0",
   "metadata": {},
   "outputs": [],
   "source": []
  },
  {
   "cell_type": "markdown",
   "id": "c72e5c4a-427e-4b87-8e42-597f42bef631",
   "metadata": {},
   "source": [
    "print the question mark using only indexing:\n",
    " \n",
    "output: ?"
   ]
  },
  {
   "cell_type": "code",
   "execution_count": null,
   "id": "c3034bb6-8c71-4526-a0b1-46cf6f85a0ce",
   "metadata": {},
   "outputs": [],
   "source": []
  },
  {
   "cell_type": "markdown",
   "id": "7996afcf-dfc5-486a-bf04-95bda3717d55",
   "metadata": {},
   "source": [
    "print the word 'rather' using .split():\n",
    "\n",
    "output: rather"
   ]
  },
  {
   "cell_type": "code",
   "execution_count": null,
   "id": "fc59407f-43f9-4b66-afd2-e7122cfcfd0a",
   "metadata": {},
   "outputs": [],
   "source": []
  },
  {
   "cell_type": "markdown",
   "id": "cf7cfc12-9365-4af3-a73e-71525010490d",
   "metadata": {},
   "source": [
    "print the question mark using .split():\n",
    "\n",
    "output: ?"
   ]
  },
  {
   "cell_type": "code",
   "execution_count": null,
   "id": "1cd7fe57-5e87-4a3c-81f9-2cf025b56486",
   "metadata": {},
   "outputs": [],
   "source": []
  },
  {
   "cell_type": "markdown",
   "id": "42b2a4e3-e6b8-4265-9076-6d50a4c87862",
   "metadata": {},
   "source": [
    "print the sentence \"Michael Scott would rather be afraid of love.\" using split() and f-strings:\n",
    "\n",
    "output: Michael Scott would rather be afraid of love."
   ]
  },
  {
   "cell_type": "code",
   "execution_count": null,
   "id": "b59c4c44-6079-4f65-bb89-b82c269f1e60",
   "metadata": {},
   "outputs": [],
   "source": []
  }
 ],
 "metadata": {
  "kernelspec": {
   "display_name": "Python 3 (ipykernel)",
   "language": "python",
   "name": "python3"
  },
  "language_info": {
   "codemirror_mode": {
    "name": "ipython",
    "version": 3
   },
   "file_extension": ".py",
   "mimetype": "text/x-python",
   "name": "python",
   "nbconvert_exporter": "python",
   "pygments_lexer": "ipython3",
   "version": "3.12.0"
  }
 },
 "nbformat": 4,
 "nbformat_minor": 5
}
