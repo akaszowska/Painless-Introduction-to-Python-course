{
 "cells": [
  {
   "cell_type": "markdown",
   "id": "8cced90b",
   "metadata": {},
   "source": [
    "# NUMBERS\n",
    "\n",
    "There are two types of numbers that we are concerned with in Python:\n",
    "- floats: a number with a decimal point \n",
    "- integer: a whole number "
   ]
  },
  {
   "cell_type": "markdown",
   "id": "61edd207",
   "metadata": {},
   "source": [
    "## arithmetic operations\n",
    "\n",
    "We can perform a variety of arithmetic operations on our numbers:"
   ]
  },
  {
   "cell_type": "code",
   "execution_count": 1,
   "id": "fed5cbc9",
   "metadata": {},
   "outputs": [
    {
     "data": {
      "text/plain": [
       "9"
      ]
     },
     "execution_count": 1,
     "metadata": {},
     "output_type": "execute_result"
    }
   ],
   "source": [
    "# addition\n",
    "2 + 3 \n",
    "\n",
    "# subtraction\n",
    "3 - 2 \n",
    "\n",
    "# multiplication\n",
    "2 * 3 \n",
    "\n",
    "# division \n",
    "3 / 2\n",
    "\n",
    "# floor division - the result will be rounded down to the nearest integer\n",
    "3 // 2 \n",
    "\n",
    "# modulus - the result is the remainder of dividing first integer by second integer\n",
    "3 % 2 \n",
    "\n",
    "# absolute value  \n",
    "abs(-5)\n",
    "\n",
    "# exponentiation\n",
    "3 ** 2 "
   ]
  },
  {
   "cell_type": "code",
   "execution_count": 2,
   "id": "9b346173-90e4-4f5c-a655-e1cd7ff0f6b8",
   "metadata": {},
   "outputs": [
    {
     "data": {
      "text/plain": [
       "3.0"
      ]
     },
     "execution_count": 2,
     "metadata": {},
     "output_type": "execute_result"
    }
   ],
   "source": [
    "# order of operations:\n",
    "\n",
    "2 + 3 * 4 \n",
    "\n",
    "(2 + 3) * 4"
   ]
  },
  {
   "cell_type": "markdown",
   "id": "a9f18a95-ea43-4fb0-9c65-797a43ce2e80",
   "metadata": {},
   "source": [
    "Converting an integer into a float:"
   ]
  },
  {
   "cell_type": "code",
   "execution_count": 7,
   "id": "7917ac85-32a2-4c4e-aed6-bcc8737fc43c",
   "metadata": {},
   "outputs": [
    {
     "data": {
      "text/plain": [
       "3.0"
      ]
     },
     "execution_count": 7,
     "metadata": {},
     "output_type": "execute_result"
    }
   ],
   "source": [
    "float(3)"
   ]
  },
  {
   "cell_type": "markdown",
   "id": "2143cd10-199d-4547-9665-e025ebce3313",
   "metadata": {},
   "source": [
    "Converting a float into an integer:"
   ]
  },
  {
   "cell_type": "code",
   "execution_count": 8,
   "id": "3dd55bd7-26d7-471c-a6fa-27bf649d0050",
   "metadata": {},
   "outputs": [
    {
     "data": {
      "text/plain": [
       "3"
      ]
     },
     "execution_count": 8,
     "metadata": {},
     "output_type": "execute_result"
    }
   ],
   "source": [
    "int(3.9)"
   ]
  },
  {
   "cell_type": "markdown",
   "id": "034a27fc",
   "metadata": {},
   "source": [
    "Important information about arithmetic operations:\n",
    "- dividing two integers always gives you a float \n",
    "- mixing integer and float, always returns a float: python defaults to a float in any operation that uses a float even if the ouput is a whole number\n",
    "- we can use understcores in numbers to help readability without impacting the variable"
   ]
  },
  {
   "cell_type": "code",
   "execution_count": 10,
   "id": "8876e24f",
   "metadata": {},
   "outputs": [
    {
     "name": "stdout",
     "output_type": "stream",
     "text": [
      "8067561446\n"
     ]
    }
   ],
   "source": [
    "worldPop = 8_067_561_446\n",
    "print(worldPop)"
   ]
  },
  {
   "cell_type": "markdown",
   "id": "dbe93561",
   "metadata": {},
   "source": [
    "multiple assignment to variables:"
   ]
  },
  {
   "cell_type": "code",
   "execution_count": null,
   "id": "df1d7f2b",
   "metadata": {},
   "outputs": [],
   "source": [
    "x, y, z = 1, 2, 3\n",
    "\n",
    "print(x)\n",
    "print(y)\n",
    "print(z)"
   ]
  }
 ],
 "metadata": {
  "kernelspec": {
   "display_name": "Python 3 (ipykernel)",
   "language": "python",
   "name": "python3"
  },
  "language_info": {
   "codemirror_mode": {
    "name": "ipython",
    "version": 3
   },
   "file_extension": ".py",
   "mimetype": "text/x-python",
   "name": "python",
   "nbconvert_exporter": "python",
   "pygments_lexer": "ipython3",
   "version": "3.12.0"
  }
 },
 "nbformat": 4,
 "nbformat_minor": 5
}
