{
 "cells": [
  {
   "cell_type": "markdown",
   "id": "d4e5bf26",
   "metadata": {},
   "source": [
    "## chatbot: using input and print functions exercise"
   ]
  },
  {
   "cell_type": "markdown",
   "id": "95306eed",
   "metadata": {},
   "source": [
    "write a chatbot program: \n",
    "    \n",
    "    1) the program asks the user for their name, and then tells them it is a very pretty name\n",
    "    2) the program asks the user if they have any fun weekend plans, and then tells them it sounds like a lot of fun\n",
    "    3) the program asks the user what is their favorite color, and then responds that (the favorite color) is also the chatbot's favorite color\n",
    "    4) the program asks the user to write a math equation, and then provides the answer to that equation\n",
    "    5) the program thanks the user for the conversation and wishes them a nice day"
   ]
  },
  {
   "cell_type": "markdown",
   "id": "44e9d991",
   "metadata": {},
   "source": [
    "hints:\n",
    "\n",
    "- assign variable names to input, and use those variables in fstrings in print\n",
    "- input function always returns a string\n",
    "- for the math question, you can only add integers (cannot add strings to each other)"
   ]
  },
  {
   "cell_type": "code",
   "execution_count": null,
   "id": "822d91e9",
   "metadata": {},
   "outputs": [],
   "source": [
    "# ask the user to input their user name\n",
    "\n",
    "# print a compliment about their name\n",
    "\n",
    "# ask the user to input their weekend plans\n",
    "\n",
    "# print a message about the weekend plans being fun, regardless of their input\n",
    "\n",
    "# ask the user about their favorite color\n",
    "\n",
    "# print a message complimenting that specific color\n",
    "\n",
    "# print a message explaining that you will ask the user for two numbers\n",
    "\n",
    "# ask the user to input the first number, and convert that number to integer right away\n",
    "\n",
    "# ask the user to input the second number, and convert that number to integer right away\n",
    "\n",
    "# calculate sum of two numbers\n",
    "\n",
    "# print the answer\n",
    "\n",
    "# print a farewell message"
   ]
  }
 ],
 "metadata": {
  "kernelspec": {
   "display_name": "Python 3 (ipykernel)",
   "language": "python",
   "name": "python3"
  },
  "language_info": {
   "codemirror_mode": {
    "name": "ipython",
    "version": 3
   },
   "file_extension": ".py",
   "mimetype": "text/x-python",
   "name": "python",
   "nbconvert_exporter": "python",
   "pygments_lexer": "ipython3",
   "version": "3.12.0"
  }
 },
 "nbformat": 4,
 "nbformat_minor": 5
}
