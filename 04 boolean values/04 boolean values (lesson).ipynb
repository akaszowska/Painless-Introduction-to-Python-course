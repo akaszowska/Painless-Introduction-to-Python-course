{
 "cells": [
  {
   "cell_type": "markdown",
   "id": "10c0930b",
   "metadata": {},
   "source": [
    "# BOOLEAN VALUES\n",
    "DEFINITION: booleans represent one of two values: True or False.\n",
    "\n",
    "Boolean values allow us to introduce some conditional situations into our code. "
   ]
  },
  {
   "cell_type": "markdown",
   "id": "ef4242df",
   "metadata": {},
   "source": [
    "Relational operators:\n",
    "    \n",
    "    == equals (remember, must use double ==, since single = is used for variable assignment)\n",
    "    > greater than\n",
    "    < less than\n",
    "    != not equal to\n",
    "    >= greater or equal to\n",
    "    <= less than or equal to"
   ]
  },
  {
   "cell_type": "code",
   "execution_count": 1,
   "id": "56a63606",
   "metadata": {},
   "outputs": [
    {
     "data": {
      "text/plain": [
       "True"
      ]
     },
     "execution_count": 1,
     "metadata": {},
     "output_type": "execute_result"
    }
   ],
   "source": [
    "1 == 1"
   ]
  },
  {
   "cell_type": "code",
   "execution_count": 3,
   "id": "59fc86e5-8c70-4b99-9bdc-b032a53861db",
   "metadata": {},
   "outputs": [
    {
     "data": {
      "text/plain": [
       "False"
      ]
     },
     "execution_count": 3,
     "metadata": {},
     "output_type": "execute_result"
    }
   ],
   "source": [
    "2 > 3"
   ]
  },
  {
   "cell_type": "markdown",
   "id": "348632b0-ead4-4536-ac66-0197ac3f1b92",
   "metadata": {},
   "source": [
    "Take a look at what happens if we compare strings:"
   ]
  },
  {
   "cell_type": "code",
   "execution_count": 4,
   "id": "39ef0d17-bf9e-48e4-9854-9e9318d7326c",
   "metadata": {},
   "outputs": [
    {
     "data": {
      "text/plain": [
       "False"
      ]
     },
     "execution_count": 4,
     "metadata": {},
     "output_type": "execute_result"
    }
   ],
   "source": [
    "\"potato\" > \"potato\""
   ]
  },
  {
   "cell_type": "code",
   "execution_count": 5,
   "id": "8bd6d29d-3ece-49ce-9c9a-cdf178ee6ef6",
   "metadata": {},
   "outputs": [
    {
     "data": {
      "text/plain": [
       "True"
      ]
     },
     "execution_count": 5,
     "metadata": {},
     "output_type": "execute_result"
    }
   ],
   "source": [
    "\"potato\" == \"potato\""
   ]
  },
  {
   "cell_type": "code",
   "execution_count": 7,
   "id": "736df9ed-a5ce-4d6b-a05d-814d4a62368a",
   "metadata": {},
   "outputs": [
    {
     "data": {
      "text/plain": [
       "True"
      ]
     },
     "execution_count": 7,
     "metadata": {},
     "output_type": "execute_result"
    }
   ],
   "source": [
    "\"potato\" < \"tomato\""
   ]
  },
  {
   "cell_type": "markdown",
   "id": "7933fe0e-0021-4dca-8c57-ae67552d429d",
   "metadata": {},
   "source": [
    "What happened in the last example? Why are tomatoes superior to potatoes?\n",
    "\n",
    "When comparing strings, Python compares them on a character-by-character basis. When Python encounters two different characters, they are compared by their Unicode Values. You can use the funciton ord() to check unicode values for different characters. "
   ]
  },
  {
   "cell_type": "code",
   "execution_count": 16,
   "id": "7c6808cf-2e7a-4c04-badc-aacf185438ca",
   "metadata": {},
   "outputs": [
    {
     "data": {
      "text/plain": [
       "112"
      ]
     },
     "execution_count": 16,
     "metadata": {},
     "output_type": "execute_result"
    }
   ],
   "source": [
    "ord('p')"
   ]
  },
  {
   "cell_type": "markdown",
   "id": "a63cbdd6",
   "metadata": {},
   "source": [
    "## boolean operators"
   ]
  },
  {
   "cell_type": "markdown",
   "id": "9a57fa0b",
   "metadata": {},
   "source": [
    "    ordered by priority: \n",
    "    \n",
    "    not - \"flips\" the operand; requires use of ( ) if not is after operator, e.g. False == (not True), not can be used with common Python objects, such as numbers, strings, lists, etc.\n",
    "    and - requires both terms to be returned\n",
    "    or - either terms (or both) will be returned"
   ]
  },
  {
   "cell_type": "code",
   "execution_count": 19,
   "id": "32c96432-027d-4238-897c-63c2f92d0edc",
   "metadata": {},
   "outputs": [
    {
     "data": {
      "text/plain": [
       "False"
      ]
     },
     "execution_count": 19,
     "metadata": {},
     "output_type": "execute_result"
    }
   ],
   "source": [
    "1 == 2"
   ]
  },
  {
   "cell_type": "code",
   "execution_count": 20,
   "id": "ada60089-fa4d-4816-8608-1d5f0677da64",
   "metadata": {},
   "outputs": [
    {
     "data": {
      "text/plain": [
       "True"
      ]
     },
     "execution_count": 20,
     "metadata": {},
     "output_type": "execute_result"
    }
   ],
   "source": [
    "# not true\n",
    "not 1 == 2"
   ]
  },
  {
   "cell_type": "code",
   "execution_count": 21,
   "id": "881392bc-e1aa-4cc0-834f-11b2c31f2252",
   "metadata": {},
   "outputs": [
    {
     "data": {
      "text/plain": [
       "True"
      ]
     },
     "execution_count": 21,
     "metadata": {},
     "output_type": "execute_result"
    }
   ],
   "source": [
    "# true and true\n",
    "1 == 1 and 2 == 2"
   ]
  },
  {
   "cell_type": "code",
   "execution_count": 22,
   "id": "0385dade-8eb5-4605-b9d7-e6a0efc5b736",
   "metadata": {},
   "outputs": [
    {
     "data": {
      "text/plain": [
       "True"
      ]
     },
     "execution_count": 22,
     "metadata": {},
     "output_type": "execute_result"
    }
   ],
   "source": [
    "# true or false\n",
    "1 == 1 or 1 == 2"
   ]
  },
  {
   "cell_type": "markdown",
   "id": "b9667df0",
   "metadata": {},
   "source": [
    "    true and true = true\n",
    "    true and false = false\n",
    "    false and false = false\n",
    "    false and true = false\n",
    "\n",
    "    true or true = true\n",
    "    true or false = true\n",
    "    false or false = false\n",
    "    false or true = true\n",
    "\n",
    "    not true = false\n",
    "    not false = true"
   ]
  }
 ],
 "metadata": {
  "kernelspec": {
   "display_name": "Python 3 (ipykernel)",
   "language": "python",
   "name": "python3"
  },
  "language_info": {
   "codemirror_mode": {
    "name": "ipython",
    "version": 3
   },
   "file_extension": ".py",
   "mimetype": "text/x-python",
   "name": "python",
   "nbconvert_exporter": "python",
   "pygments_lexer": "ipython3",
   "version": "3.11.5"
  }
 },
 "nbformat": 4,
 "nbformat_minor": 5
}
