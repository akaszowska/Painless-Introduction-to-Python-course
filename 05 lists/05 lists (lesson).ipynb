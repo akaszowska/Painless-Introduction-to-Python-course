{
 "cells": [
  {
   "cell_type": "markdown",
   "id": "c854745f",
   "metadata": {},
   "source": [
    "# LISTS\n",
    "DEFINITION: a list is a collection of items in a particular order (position matters in lists).\n",
    "\n",
    "You can put anything into a list. Below is a list of strings:"
   ]
  },
  {
   "cell_type": "code",
   "execution_count": 1,
   "id": "76913b4a",
   "metadata": {},
   "outputs": [
    {
     "name": "stdout",
     "output_type": "stream",
     "text": [
      "['potato', 'carrot', 'beetroot', 'onion']\n"
     ]
    }
   ],
   "source": [
    "vegetables = ['potato','carrot','beetroot','onion']\n",
    "print(vegetables)"
   ]
  },
  {
   "cell_type": "markdown",
   "id": "a4bc0cde",
   "metadata": {},
   "source": [
    "There are different ways to create lists:"
   ]
  },
  {
   "cell_type": "code",
   "execution_count": 2,
   "id": "5704db73",
   "metadata": {},
   "outputs": [],
   "source": [
    "L1 = list() # this creates an EMPTY list (one with 0 elements)(L1 is a variable that contains an empty list)\n",
    "L2 = [] # this is also an EMPTY list\n",
    "L3 = [1, 2, 3] # this is a non-empty list with elements separated by commas , \n",
    "L4 = [1, \"two\", 3.1415] # you can mix types in lists!\n",
    "L5 = [1,\"two\",[10,\"eleven\",12],[]] # you can put lists in lists too!"
   ]
  },
  {
   "cell_type": "markdown",
   "id": "76f1b183",
   "metadata": {},
   "source": [
    "## finding item in list by position"
   ]
  },
  {
   "cell_type": "markdown",
   "id": "75d407e3",
   "metadata": {},
   "source": [
    "item order from beginning: 0, 1, 2, 3...\n",
    "\n",
    "item order from end: -1, -2, -3...\n",
    "\n",
    "\n",
    "for a four-item list, the positions are:\n",
    "  \n",
    "     0   1   2   3\n",
    "     A   B   C   D\n",
    "    -4  -3  -2  -1"
   ]
  },
  {
   "cell_type": "code",
   "execution_count": 3,
   "id": "d9c9f351",
   "metadata": {},
   "outputs": [
    {
     "name": "stdout",
     "output_type": "stream",
     "text": [
      "['potato', 'carrot', 'beetroot', 'onion']\n",
      "potato\n",
      "Potato\n",
      "carrot\n",
      "onion\n",
      "beetroot\n"
     ]
    },
    {
     "data": {
      "text/plain": [
       "True"
      ]
     },
     "execution_count": 3,
     "metadata": {},
     "output_type": "execute_result"
    }
   ],
   "source": [
    "vegetables = ['potato','carrot','beetroot','onion']\n",
    "print(vegetables)\n",
    "\n",
    "print(vegetables[0])\n",
    "print(vegetables[0].title())\n",
    "print(vegetables[1])\n",
    "print(vegetables[3])\n",
    "\n",
    "print(vegetables[-2])\n",
    "\n",
    "vegetables[2] == vegetables[-2]"
   ]
  },
  {
   "cell_type": "markdown",
   "id": "37b446c6",
   "metadata": {},
   "source": [
    "L[0] is the first element\n",
    "\n",
    "len(L) gives you the number of elements\n",
    "\n",
    "L[-len(L)] is also the first element \n",
    "\n",
    "L[3:5] is the sublist or slice containing the 4th and 5th element of the list"
   ]
  },
  {
   "cell_type": "code",
   "execution_count": 4,
   "id": "6dd5d154",
   "metadata": {},
   "outputs": [
    {
     "name": "stdout",
     "output_type": "stream",
     "text": [
      "Please remember to buy one potato.\n",
      "Potato is my favorite vegetable!\n"
     ]
    }
   ],
   "source": [
    "message = f\"Please remember to buy one {vegetables[0]}.\"\n",
    "print(message)\n",
    "\n",
    "otherMessage = f\"{vegetables[0].title()} is my favorite vegetable!\"\n",
    "print(otherMessage)"
   ]
  },
  {
   "cell_type": "markdown",
   "id": "c208b7ee",
   "metadata": {},
   "source": [
    "using an integer variable as index:"
   ]
  },
  {
   "cell_type": "code",
   "execution_count": 5,
   "id": "1ffda869",
   "metadata": {},
   "outputs": [
    {
     "data": {
      "text/plain": [
       "'beetroot'"
      ]
     },
     "execution_count": 5,
     "metadata": {},
     "output_type": "execute_result"
    }
   ],
   "source": [
    "a = 2\n",
    "\n",
    "vegetables[a]"
   ]
  },
  {
   "cell_type": "markdown",
   "id": "66faccba",
   "metadata": {},
   "source": [
    "## lists within lists"
   ]
  },
  {
   "cell_type": "code",
   "execution_count": 6,
   "id": "a0b4b922",
   "metadata": {},
   "outputs": [
    {
     "name": "stdout",
     "output_type": "stream",
     "text": [
      "[2, [3, [4], 5], 6]\n",
      "2\n",
      "4\n"
     ]
    },
    {
     "data": {
      "text/plain": [
       "[4]"
      ]
     },
     "execution_count": 6,
     "metadata": {},
     "output_type": "execute_result"
    }
   ],
   "source": [
    "funlist=[1,[2,[3,[4],5],6],7]\n",
    "print(funlist[1])\n",
    "print(funlist[1][0]) # print the zero element of element 1\n",
    "print(funlist[1][1][1][0]) # element 4\n",
    "funlist[1][1][1] # list containing element 4"
   ]
  },
  {
   "cell_type": "code",
   "execution_count": 7,
   "id": "a1a99957",
   "metadata": {},
   "outputs": [
    {
     "data": {
      "text/plain": [
       "'i'"
      ]
     },
     "execution_count": 7,
     "metadata": {},
     "output_type": "execute_result"
    }
   ],
   "source": [
    "headachelist = [1,2,[\"earth\",[3.0,4.0,[\"fire\",\"water\"],[\"air\"],True,False,[],]]]\n",
    "\n",
    "# address the i in fire\n",
    "headachelist[2][1][2][0][1]\n",
    "\n",
    "# address the i in air\n",
    "headachelist[2][1][3][0][1]"
   ]
  },
  {
   "cell_type": "markdown",
   "id": "92d3559d",
   "metadata": {},
   "source": [
    "## changing, adding, and removing elements\n",
    "Lists are mutable, meaning: we can always change the elements within the list."
   ]
  },
  {
   "cell_type": "markdown",
   "id": "8c34f40f",
   "metadata": {},
   "source": [
    "Modifying elements:"
   ]
  },
  {
   "cell_type": "code",
   "execution_count": 8,
   "id": "451fe481",
   "metadata": {},
   "outputs": [
    {
     "name": "stdout",
     "output_type": "stream",
     "text": [
      "['potato', 'carrot', 'beetroot', 'onion']\n",
      "['peas', 'carrot', 'beetroot', 'onion']\n"
     ]
    }
   ],
   "source": [
    "vegetables = ['potato','carrot','beetroot','onion']\n",
    "print(vegetables)\n",
    "\n",
    "vegetables[0] = 'peas'\n",
    "print(vegetables)"
   ]
  },
  {
   "cell_type": "markdown",
   "id": "091ef22f",
   "metadata": {},
   "source": [
    "Adding elements using .append() - append adds at the end:"
   ]
  },
  {
   "cell_type": "code",
   "execution_count": 9,
   "id": "9db48012",
   "metadata": {},
   "outputs": [
    {
     "name": "stdout",
     "output_type": "stream",
     "text": [
      "['potato', 'carrot', 'beetroot', 'onion']\n",
      "['potato', 'carrot', 'beetroot', 'onion', 'peas']\n"
     ]
    }
   ],
   "source": [
    "vegetables = ['potato','carrot','beetroot','onion']\n",
    "print(vegetables)\n",
    "\n",
    "vegetables.append('peas')\n",
    "print(vegetables)"
   ]
  },
  {
   "cell_type": "markdown",
   "id": "d9c5594a",
   "metadata": {},
   "source": [
    ".append() lets you build lists dynamically:"
   ]
  },
  {
   "cell_type": "code",
   "execution_count": 10,
   "id": "c9c71bef",
   "metadata": {},
   "outputs": [
    {
     "name": "stdout",
     "output_type": "stream",
     "text": [
      "['potato', 'carrot', 'beetroot', 'peas']\n"
     ]
    }
   ],
   "source": [
    "vegetables = [] # empty list we will fill out\n",
    "vegetables.append('potato')\n",
    "print(vegetables)\n",
    "\n",
    "vegetables.append('carrot')\n",
    "print(vegetables)\n",
    "\n",
    "vegetables.append('beetroot')\n",
    "print(vegetables)\n",
    "\n",
    "vegetables.append('peas')\n",
    "print(vegetables)"
   ]
  },
  {
   "cell_type": "markdown",
   "id": "e2a8aff8",
   "metadata": {},
   "source": [
    "Inserting elements into a specific position in the list:"
   ]
  },
  {
   "cell_type": "code",
   "execution_count": 11,
   "id": "7d6cc8c5",
   "metadata": {},
   "outputs": [
    {
     "name": "stdout",
     "output_type": "stream",
     "text": [
      "['potato', 'carrot', 'beetroot', 'onion']\n",
      "['potato', 'peas', 'carrot', 'beetroot', 'onion']\n"
     ]
    }
   ],
   "source": [
    "vegetables = ['potato','carrot','beetroot','onion']\n",
    "print(vegetables)\n",
    "\n",
    "vegetables.insert(1, 'peas')\n",
    "print(vegetables)"
   ]
  },
  {
   "cell_type": "markdown",
   "id": "85865e68",
   "metadata": {},
   "source": [
    "Removing elements from the list when you know the exact position of the item:"
   ]
  },
  {
   "cell_type": "code",
   "execution_count": 12,
   "id": "f9069b1c",
   "metadata": {},
   "outputs": [
    {
     "name": "stdout",
     "output_type": "stream",
     "text": [
      "['potato', 'carrot', 'beetroot', 'onion', 'peas']\n",
      "['potato', 'carrot', 'onion', 'peas']\n"
     ]
    }
   ],
   "source": [
    "vegetables = ['potato','carrot','beetroot','onion','peas']\n",
    "print(vegetables)\n",
    "\n",
    "del vegetables[2]\n",
    "print(vegetables)"
   ]
  },
  {
   "cell_type": "markdown",
   "id": "148970a8",
   "metadata": {},
   "source": [
    "Removing an item using .pop() - takes off the last item from the list and stores it as a new variable:"
   ]
  },
  {
   "cell_type": "code",
   "execution_count": 13,
   "id": "6741a75d",
   "metadata": {},
   "outputs": [
    {
     "name": "stdout",
     "output_type": "stream",
     "text": [
      "['potato', 'carrot', 'beetroot', 'onion', 'peas']\n",
      "The vegetable I hate the most is peas.\n"
     ]
    }
   ],
   "source": [
    "vegetables = ['potato','carrot','beetroot','onion','peas']\n",
    "print(vegetables)\n",
    "\n",
    "hated_vegetables = vegetables.pop()\n",
    "\n",
    "print(f\"The vegetable I hate the most is {hated_vegetables}.\")"
   ]
  },
  {
   "cell_type": "markdown",
   "id": "1326f0a5",
   "metadata": {},
   "source": [
    "Popping item from any position in a list (remember any time you use .pop(), the item is REMOVED from the list):"
   ]
  },
  {
   "cell_type": "code",
   "execution_count": 14,
   "id": "aff7ea77",
   "metadata": {},
   "outputs": [
    {
     "name": "stdout",
     "output_type": "stream",
     "text": [
      "['potato', 'carrot', 'beetroot', 'onion', 'peas']\n",
      "The vegetable I love the most is potato.\n"
     ]
    }
   ],
   "source": [
    "vegetables = ['potato','carrot','beetroot','onion','peas']\n",
    "print(vegetables)\n",
    "\n",
    "loved_vegetables = vegetables.pop(0)\n",
    "print(f\"The vegetable I love the most is {loved_vegetables}.\")"
   ]
  },
  {
   "cell_type": "markdown",
   "id": "afa07bb6",
   "metadata": {},
   "source": [
    "Removing an item by value:\n",
    "\n",
    "- remember that .remove() only removes the first occurence in a list, so if an item shows up multiple times, you'll need  a loop"
   ]
  },
  {
   "cell_type": "code",
   "execution_count": 15,
   "id": "acdd3ac2",
   "metadata": {},
   "outputs": [
    {
     "name": "stdout",
     "output_type": "stream",
     "text": [
      "['potato', 'carrot', 'beetroot', 'onion', 'peas']\n",
      "['potato', 'beetroot', 'onion', 'peas']\n"
     ]
    }
   ],
   "source": [
    "vegetables = ['potato','carrot','beetroot','onion','peas']\n",
    "print(vegetables)\n",
    "\n",
    "vegetables.remove('carrot')\n",
    "print(vegetables)"
   ]
  },
  {
   "cell_type": "code",
   "execution_count": 16,
   "id": "dca6eb82",
   "metadata": {},
   "outputs": [
    {
     "name": "stdout",
     "output_type": "stream",
     "text": [
      "['potato', 'carrot', 'beetroot', 'onion', 'peas']\n",
      "['potato', 'beetroot', 'onion', 'peas']\n",
      "\n",
      "A carrot is too orange for me.\n",
      "['potato', 'beetroot', 'onion', 'peas']\n",
      "['banana', 'apple', 'orange', 'banana']\n",
      "['apple', 'orange', 'banana']\n"
     ]
    }
   ],
   "source": [
    "vegetables = ['potato','carrot','beetroot','onion','peas']\n",
    "print(vegetables)\n",
    "\n",
    "too_orange = 'carrot'\n",
    "vegetables.remove(too_orange)\n",
    "print(vegetables)\n",
    "print(f\"\\nA {too_orange} is too orange for me.\")\n",
    "print(vegetables)\n",
    "\n",
    "fruit = ['banana','apple','orange','banana']\n",
    "print(fruit)\n",
    "fruit.remove('banana')\n",
    "print(fruit)"
   ]
  },
  {
   "cell_type": "markdown",
   "id": "0d2dafca",
   "metadata": {},
   "source": [
    "## tuples\n",
    "An immutable list is called a tuple.\n",
    "\n",
    "They are very simple, they behave exactly like lists, except:\n",
    "- you use ( and ) instead of [ and ]\n",
    "- you still use the T[n] and T[a:b] notation to refer to parts\n",
    "- they are immutable, so the T[n] and T[a:b] only works at the right hand side\n",
    "\n",
    "tuple with one element must include a trailing comma: T = (3,)"
   ]
  },
  {
   "cell_type": "code",
   "execution_count": 17,
   "id": "a5de7f6a",
   "metadata": {},
   "outputs": [
    {
     "name": "stdout",
     "output_type": "stream",
     "text": [
      "('potato', 'carrot', 'beetroot', 'onion')\n"
     ]
    },
    {
     "ename": "TypeError",
     "evalue": "'tuple' object does not support item assignment",
     "output_type": "error",
     "traceback": [
      "\u001b[1;31m---------------------------------------------------------------------------\u001b[0m",
      "\u001b[1;31mTypeError\u001b[0m                                 Traceback (most recent call last)",
      "Input \u001b[1;32mIn [17]\u001b[0m, in \u001b[0;36m<cell line: 4>\u001b[1;34m()\u001b[0m\n\u001b[0;32m      1\u001b[0m vegetables \u001b[38;5;241m=\u001b[39m (\u001b[38;5;124m'\u001b[39m\u001b[38;5;124mpotato\u001b[39m\u001b[38;5;124m'\u001b[39m,\u001b[38;5;124m'\u001b[39m\u001b[38;5;124mcarrot\u001b[39m\u001b[38;5;124m'\u001b[39m,\u001b[38;5;124m'\u001b[39m\u001b[38;5;124mbeetroot\u001b[39m\u001b[38;5;124m'\u001b[39m,\u001b[38;5;124m'\u001b[39m\u001b[38;5;124monion\u001b[39m\u001b[38;5;124m'\u001b[39m)\n\u001b[0;32m      2\u001b[0m \u001b[38;5;28mprint\u001b[39m(vegetables)\n\u001b[1;32m----> 4\u001b[0m vegetables[\u001b[38;5;241m1\u001b[39m] \u001b[38;5;241m=\u001b[39m \u001b[38;5;124m'\u001b[39m\u001b[38;5;124mpeas\u001b[39m\u001b[38;5;124m'\u001b[39m\n\u001b[0;32m      5\u001b[0m \u001b[38;5;28mprint\u001b[39m(vegetables)\n",
      "\u001b[1;31mTypeError\u001b[0m: 'tuple' object does not support item assignment"
     ]
    }
   ],
   "source": [
    "vegetables = ('potato','carrot','beetroot','onion')\n",
    "print(vegetables)\n",
    "\n",
    "vegetables[1] = 'peas'\n",
    "print(vegetables)"
   ]
  },
  {
   "cell_type": "markdown",
   "id": "045c98e4",
   "metadata": {},
   "source": [
    "## organizing lists"
   ]
  },
  {
   "cell_type": "markdown",
   "id": "fe852dfd",
   "metadata": {},
   "source": [
    "Sorting permanently with .sort() - alphabetic sorting:"
   ]
  },
  {
   "cell_type": "code",
   "execution_count": null,
   "id": "d7daf9e2",
   "metadata": {},
   "outputs": [],
   "source": [
    "fruit = ['banana','pineapple','apple','lemon','peach']\n",
    "print(fruit)\n",
    "fruit.sort()\n",
    "print(fruit)\n",
    "\n",
    "# reverse alphabetical\n",
    "fruit.sort(reverse=True)\n",
    "print(fruit)"
   ]
  },
  {
   "cell_type": "markdown",
   "id": "4b76ebed",
   "metadata": {},
   "source": [
    "Sorting temporarily with sorted():"
   ]
  },
  {
   "cell_type": "code",
   "execution_count": null,
   "id": "2c20f548",
   "metadata": {},
   "outputs": [],
   "source": [
    "fruit = ['banana','pineapple','apple','lemon','peach']\n",
    "print(\"here's the original list:\")\n",
    "print(fruit)\n",
    "\n",
    "print(\"\\nHere is the sorted list:\")\n",
    "print(sorted(fruit))\n",
    "\n",
    "print(\"\\nHere is the original list again:\")\n",
    "print(fruit)\n",
    "\n",
    "print(\"\\nHere is the reverse-sorted list:\")\n",
    "print(sorted(fruit, reverse=True))"
   ]
  },
  {
   "cell_type": "markdown",
   "id": "35f99ec5",
   "metadata": {},
   "source": [
    "Print list in reverse order - permanent:"
   ]
  },
  {
   "cell_type": "code",
   "execution_count": null,
   "id": "1cb966f7",
   "metadata": {},
   "outputs": [],
   "source": [
    "fruit = ['banana','pineapple','apple','lemon','peach']\n",
    "print(fruit)\n",
    "\n",
    "fruit.reverse()\n",
    "print(fruit)"
   ]
  },
  {
   "cell_type": "markdown",
   "id": "4483d404",
   "metadata": {},
   "source": [
    "Find length of a list:"
   ]
  },
  {
   "cell_type": "code",
   "execution_count": null,
   "id": "24b015a2",
   "metadata": {},
   "outputs": [],
   "source": [
    "fruit = ['banana','pineapple','apple','lemon','peach']\n",
    "len(fruit)"
   ]
  },
  {
   "cell_type": "markdown",
   "id": "f808ba03",
   "metadata": {},
   "source": [
    "Avoiding index errors when working with lists:"
   ]
  },
  {
   "cell_type": "code",
   "execution_count": null,
   "id": "8d68fec7",
   "metadata": {},
   "outputs": [],
   "source": [
    "fruit = ['banana','pineapple','apple','lemon','peach']\n",
    "print(fruit[5])"
   ]
  },
  {
   "cell_type": "markdown",
   "id": "ef80fdd9",
   "metadata": {},
   "source": [
    "Finding position of a specific item:"
   ]
  },
  {
   "cell_type": "code",
   "execution_count": null,
   "id": "5e63a158",
   "metadata": {},
   "outputs": [],
   "source": [
    "fruit.index('banana')"
   ]
  }
 ],
 "metadata": {
  "kernelspec": {
   "display_name": "Python 3 (ipykernel)",
   "language": "python",
   "name": "python3"
  },
  "language_info": {
   "codemirror_mode": {
    "name": "ipython",
    "version": 3
   },
   "file_extension": ".py",
   "mimetype": "text/x-python",
   "name": "python",
   "nbconvert_exporter": "python",
   "pygments_lexer": "ipython3",
   "version": "3.11.5"
  }
 },
 "nbformat": 4,
 "nbformat_minor": 5
}
