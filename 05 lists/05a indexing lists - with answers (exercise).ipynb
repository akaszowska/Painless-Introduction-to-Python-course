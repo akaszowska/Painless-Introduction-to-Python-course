{
 "cells": [
  {
   "cell_type": "markdown",
   "id": "dd45e6e7",
   "metadata": {},
   "source": [
    "## indexing lists: exercise answers"
   ]
  },
  {
   "cell_type": "code",
   "execution_count": null,
   "id": "39742e58",
   "metadata": {},
   "outputs": [],
   "source": [
    "omgWhy = [10, 20, [\"activity sheet\", \"coding\", [\"Python\", \"Jupyter Notebooks\", \"Mars\"], [False, False, True, [], [3.14, \n",
    "        3.3333, [\"rubber duck\", [\"why are you doing this to me?!\"], False, [\"I like potatoes\", \"I hate chewing gum\", \n",
    "        \"what the actual fuck\",]]]]], 1]"
   ]
  },
  {
   "cell_type": "markdown",
   "id": "421d71f9-e13f-483c-89ee-34444d9672e4",
   "metadata": {},
   "source": [
    "address the phrase that best describes what you think about this list:\n",
    "\n",
    "output: 'what the actual fuck'"
   ]
  },
  {
   "cell_type": "code",
   "execution_count": null,
   "id": "168bf2d4-9701-4135-b3c4-4a25039b5611",
   "metadata": {},
   "outputs": [],
   "source": [
    "omgWhy[2][3][4][2][3][2]"
   ]
  },
  {
   "cell_type": "markdown",
   "id": "c9abbe8b-99fe-4a69-9229-91141d62aad3",
   "metadata": {},
   "source": [
    "address the phrase that best describes what you were thinking while doing the previous exercise:\n",
    "\n",
    "output: 'why are you doing this to me?!'"
   ]
  },
  {
   "cell_type": "code",
   "execution_count": null,
   "id": "b285ca6e-63ec-4928-8386-a872b6c154eb",
   "metadata": {},
   "outputs": [],
   "source": [
    "omgWhy[2][3][4][2][1][0]"
   ]
  },
  {
   "cell_type": "markdown",
   "id": "57287604-6b86-4735-92e2-5ea1661cf9d2",
   "metadata": {},
   "source": [
    "address what you are solving right now:\n",
    "\n",
    "output: activity sheet"
   ]
  },
  {
   "cell_type": "code",
   "execution_count": null,
   "id": "6270fca0-8922-4edb-be9a-0c26c90e2e3e",
   "metadata": {},
   "outputs": [],
   "source": [
    "omgWhy[2][0]"
   ]
  },
  {
   "cell_type": "markdown",
   "id": "c96d2c7e-163f-4723-b30c-84f8137d1033",
   "metadata": {},
   "source": [
    "address the programming language we are learning:\n",
    "\n",
    "output: Python"
   ]
  },
  {
   "cell_type": "code",
   "execution_count": null,
   "id": "3f4a5f24-03cd-4325-a5f9-2b3db50067d2",
   "metadata": {},
   "outputs": [],
   "source": [
    "omgWhy[2][2][0]"
   ]
  },
  {
   "cell_type": "markdown",
   "id": "9423ee16-e008-4433-a56e-15f9ef7d9fa8",
   "metadata": {},
   "source": [
    "address the software you are using right now:\n",
    "\n",
    "output: Jupyter Notebooks"
   ]
  },
  {
   "cell_type": "code",
   "execution_count": null,
   "id": "c8ba230f-8906-4f9a-a8b0-b23d1686f53f",
   "metadata": {},
   "outputs": [],
   "source": [
    "omgWhy[2][2][1]"
   ]
  },
  {
   "cell_type": "markdown",
   "id": "74d5c1c3-423c-4cd2-8161-7f92f4b222ad",
   "metadata": {},
   "source": [
    "address the 1:\n",
    "\n",
    "output: 1"
   ]
  },
  {
   "cell_type": "code",
   "execution_count": null,
   "id": "3c12442c-693b-4161-a849-64580531859d",
   "metadata": {},
   "outputs": [],
   "source": [
    "omgWhy[3]\n",
    "omgWhy[-1]"
   ]
  },
  {
   "cell_type": "markdown",
   "id": "e8680ddd-c1d6-42d5-981d-18a2344c6049",
   "metadata": {},
   "source": [
    "address the True value:\n",
    "\n",
    "output: True"
   ]
  },
  {
   "cell_type": "code",
   "execution_count": null,
   "id": "7bc2dc68-2284-4d49-9881-50d11c542cce",
   "metadata": {},
   "outputs": [],
   "source": [
    "omgWhy[2][3][2]"
   ]
  },
  {
   "cell_type": "markdown",
   "id": "81c15caf-1090-48f4-b9b0-21b471c6da0d",
   "metadata": {},
   "source": [
    "adress the empty list:\n",
    "\n",
    "output: []"
   ]
  },
  {
   "cell_type": "code",
   "execution_count": null,
   "id": "5502b5df-8951-45f6-877c-172a2e6138b5",
   "metadata": {},
   "outputs": [],
   "source": [
    "omgWhy[2][3][3]"
   ]
  },
  {
   "cell_type": "markdown",
   "id": "6593b18a-42ff-4da3-9741-c2b2986e24d9",
   "metadata": {},
   "source": [
    "address the word 'potatoes' using only 1 line of code:\n",
    "\n",
    "output: 'potatoes'"
   ]
  },
  {
   "cell_type": "code",
   "execution_count": null,
   "id": "728ccd1c-e752-4382-b3e1-3eb7bbb6e3b4",
   "metadata": {},
   "outputs": [],
   "source": [
    "omgWhy[2][3][4][2][3][0][7:]"
   ]
  },
  {
   "cell_type": "markdown",
   "id": "39540b50-ca7f-49b8-9b87-9a44d22fe6c8",
   "metadata": {},
   "source": [
    "address the M in Mars:\n",
    "\n",
    "output: 'M'"
   ]
  },
  {
   "cell_type": "code",
   "execution_count": null,
   "id": "917d612a-1f6e-4c7c-a22f-4fb214810b68",
   "metadata": {},
   "outputs": [],
   "source": [
    "omgWhy[2][2][2][0]"
   ]
  },
  {
   "cell_type": "markdown",
   "id": "04388230-7c25-49a4-81ac-194f87d1ccd4",
   "metadata": {},
   "source": [
    "address the exclamation mark, knowing that it is the last character in a string:\n",
    "\n",
    "output: '!'"
   ]
  },
  {
   "cell_type": "code",
   "execution_count": null,
   "id": "fc53f372-08ef-4a37-8611-8916e57e15b0",
   "metadata": {},
   "outputs": [],
   "source": [
    "omgWhy[2][3][4][2][1][0][-1]"
   ]
  }
 ],
 "metadata": {
  "kernelspec": {
   "display_name": "Python 3 (ipykernel)",
   "language": "python",
   "name": "python3"
  },
  "language_info": {
   "codemirror_mode": {
    "name": "ipython",
    "version": 3
   },
   "file_extension": ".py",
   "mimetype": "text/x-python",
   "name": "python",
   "nbconvert_exporter": "python",
   "pygments_lexer": "ipython3",
   "version": "3.12.0"
  }
 },
 "nbformat": 4,
 "nbformat_minor": 5
}
