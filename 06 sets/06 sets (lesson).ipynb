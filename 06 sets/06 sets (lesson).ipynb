{
 "cells": [
  {
   "cell_type": "markdown",
   "id": "b33b001c",
   "metadata": {},
   "source": [
    "# SETS\n",
    "DEFINITION: a collection of items without a particular order (position does not matter in sets), so we can't rely on indexing (no [] or [:]).\n",
    "\n",
    "Every set element is unique - there are no duplicates. If you try adding two identical elements to a set, the set will only contain that element once."
   ]
  },
  {
   "cell_type": "markdown",
   "id": "bea5e71e",
   "metadata": {},
   "source": [
    "Different ways to create sets:"
   ]
  },
  {
   "cell_type": "code",
   "execution_count": null,
   "id": "8b2ea06b",
   "metadata": {},
   "outputs": [],
   "source": [
    "s1 = set() # empty set\n",
    "s3 = {1,2,3} # three integers\n",
    "s4 = {1,\"two\",3.0} # mixing is allowed\n",
    "s5 = {1,1,1} # three identical integers, try printing it and see what happens\n",
    "\n",
    "type(s1)"
   ]
  },
  {
   "cell_type": "markdown",
   "id": "0d68649d",
   "metadata": {},
   "source": [
    "We can also use the len function with sets:"
   ]
  },
  {
   "cell_type": "code",
   "execution_count": null,
   "id": "1859321e-fd5b-4219-83be-740b9c9274f3",
   "metadata": {},
   "outputs": [],
   "source": [
    "len(s3)"
   ]
  },
  {
   "cell_type": "markdown",
   "id": "3faf7eb6",
   "metadata": {},
   "source": [
    "### make a set out of a list"
   ]
  },
  {
   "cell_type": "code",
   "execution_count": null,
   "id": "9d37081a",
   "metadata": {},
   "outputs": [],
   "source": [
    "primes20list = [2,3,5,7,11,13,17,19,23,29,31,37,41,43,47,53,59,61,67,71]\n",
    "primes20set = set(primes20list)"
   ]
  },
  {
   "cell_type": "markdown",
   "id": "740f5282",
   "metadata": {},
   "source": [
    "### add items to set\n",
    "\n",
    ".add()"
   ]
  },
  {
   "cell_type": "code",
   "execution_count": 1,
   "id": "7545c257",
   "metadata": {},
   "outputs": [
    {
     "name": "stdout",
     "output_type": "stream",
     "text": [
      "{1}\n"
     ]
    }
   ],
   "source": [
    "myset = set()\n",
    "myset.add(1)\n",
    "print(myset)"
   ]
  },
  {
   "cell_type": "markdown",
   "id": "e2d49d64",
   "metadata": {},
   "source": [
    "### remove items from set"
   ]
  },
  {
   "cell_type": "markdown",
   "id": "d3ffc857",
   "metadata": {},
   "source": [
    ".discard() leaves the set unchanges if the element is not present in the set.\n",
    "\n",
    ".remove() will raise an error if element is not present in the set.\n",
    "\n",
    "Ff you use .pop() then a random item will be removed, since sets are unordered.\n",
    "\n",
    ".clear() will also remove all the items from a set."
   ]
  },
  {
   "cell_type": "code",
   "execution_count": null,
   "id": "814b6134",
   "metadata": {},
   "outputs": [],
   "source": [
    "s1 = {1,2,3,4,5,6}\n",
    "s1.discard(4)\n",
    "print(s1)\n",
    "\n",
    "s1.discard(7)\n",
    "print(s1)\n",
    "\n",
    "s1.remove(1)\n",
    "print(s1)\n",
    "\n",
    "s1.remove(7)\n",
    "print(s1)"
   ]
  },
  {
   "cell_type": "markdown",
   "id": "7d0980c7",
   "metadata": {},
   "source": [
    "## set operations\n",
    "\n",
    "set union: | \n",
    "a set of all elements from both sets; it can also be accomplished using .union() method"
   ]
  },
  {
   "cell_type": "code",
   "execution_count": 1,
   "id": "c670477c",
   "metadata": {},
   "outputs": [
    {
     "name": "stdout",
     "output_type": "stream",
     "text": [
      "{1, 2, 3, 4, 5, 6}\n",
      "{1, 2, 3, 4, 5, 6}\n"
     ]
    }
   ],
   "source": [
    "A = {1, 2, 3}\n",
    "B = {4, 5, 6}\n",
    "print(A | B)\n",
    "print(A.union(B))"
   ]
  },
  {
   "cell_type": "markdown",
   "id": "c9dfb0f2",
   "metadata": {},
   "source": [
    "set intersection: &\n",
    "a set of elements that are common in both sets; it can also be accomplished using the .intersection() method"
   ]
  },
  {
   "cell_type": "code",
   "execution_count": 1,
   "id": "3754b69a",
   "metadata": {},
   "outputs": [
    {
     "name": "stdout",
     "output_type": "stream",
     "text": [
      "{4, 5}\n",
      "{4, 5}\n"
     ]
    }
   ],
   "source": [
    "A = {1, 2, 3, 4, 5}\n",
    "B = {4, 5, 6, 7, 8}\n",
    "print(A & B)\n",
    "print(A.intersection(B))"
   ]
  },
  {
   "cell_type": "markdown",
   "id": "46d14dcf",
   "metadata": {},
   "source": [
    "set difference: -\n",
    "a set of elements that are only in A but not in B; it can also be accomplished using the .difference() method"
   ]
  },
  {
   "cell_type": "code",
   "execution_count": 2,
   "id": "ac1cebff",
   "metadata": {},
   "outputs": [
    {
     "name": "stdout",
     "output_type": "stream",
     "text": [
      "{1, 2, 3}\n",
      "{1, 2, 3}\n"
     ]
    }
   ],
   "source": [
    "A = {1, 2, 3, 4, 5}\n",
    "B = {4, 5, 6, 7, 8}\n",
    "print(A - B)\n",
    "print(A.difference(B))"
   ]
  },
  {
   "cell_type": "markdown",
   "id": "a1705910",
   "metadata": {},
   "source": [
    "set symmetric difference: ^\n",
    "a set of elements in A and B but not in both; it can also be accomplished using the .symmetric_difference() method"
   ]
  },
  {
   "cell_type": "code",
   "execution_count": null,
   "id": "5f1d80f5",
   "metadata": {},
   "outputs": [],
   "source": [
    "A = {1, 2, 3, 4, 5}\n",
    "B = {4, 5, 6, 7, 8}\n",
    "print(A ^ B)\n",
    "print(A.symmetric_difference(B))"
   ]
  },
  {
   "cell_type": "code",
   "execution_count": null,
   "id": "faa286c7",
   "metadata": {},
   "outputs": [],
   "source": [
    "odd = {1,3,5,7,9,11,13,15,17,19,21,23,25}\n",
    "squares = {1,4,9,16,25}\n",
    "powers = {1,2,4,8,16}\n",
    "\n",
    "# Which of the squares ARE ALSO an odd number?\n",
    "print(odd&squares)\n",
    "\n",
    "# Which of the powers are square?\n",
    "print(squares&powers)\n",
    "\n",
    "# What numbers from 1 to 25 are \"missing\" in odd, squares, and powers together?\n",
    "allnumbers = set(range(1,26)) #All numbers from beginning to end, but leaves off the last one.\n",
    "all_odd_sqr_power = odd | squares | powers\n",
    "print(allnumbers-all_odd_sqr_power)"
   ]
  },
  {
   "cell_type": "markdown",
   "id": "87b1bede",
   "metadata": {},
   "source": [
    "## set membership test\n",
    "We can test if item exists in a set or not:"
   ]
  },
  {
   "cell_type": "code",
   "execution_count": null,
   "id": "1d69413f",
   "metadata": {},
   "outputs": [],
   "source": [
    "A = {1, 2, 3, 4, 5}\n",
    "7 in A"
   ]
  }
 ],
 "metadata": {
  "kernelspec": {
   "display_name": "Python 3 (ipykernel)",
   "language": "python",
   "name": "python3"
  },
  "language_info": {
   "codemirror_mode": {
    "name": "ipython",
    "version": 3
   },
   "file_extension": ".py",
   "mimetype": "text/x-python",
   "name": "python",
   "nbconvert_exporter": "python",
   "pygments_lexer": "ipython3",
   "version": "3.11.5"
  }
 },
 "nbformat": 4,
 "nbformat_minor": 5
}
