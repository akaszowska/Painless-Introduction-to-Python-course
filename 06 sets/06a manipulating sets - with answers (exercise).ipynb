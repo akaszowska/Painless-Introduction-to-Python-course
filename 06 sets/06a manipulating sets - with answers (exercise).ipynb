{
 "cells": [
  {
   "cell_type": "markdown",
   "id": "abeb3c33",
   "metadata": {},
   "source": [
    "## manipulating sets: exercise answers"
   ]
  },
  {
   "cell_type": "code",
   "execution_count": null,
   "id": "c5f2d543",
   "metadata": {},
   "outputs": [],
   "source": [
    "# define what you have in the kitchen\n",
    "inFridge = {'milk', 'butter', 'sour cream', 'eggs', 'orange juice', 'cola', 'ketchup', 'mayo'}\n",
    "inFreezer = {'ice cream', 'ice', 'pizza'}\n",
    "inCabinet = {'tomato sauce', 'garlic', 'basil', 'pepper', 'salt', 'rice', 'beans', 'nutella'}\n",
    "inBar = {'gin', 'rum'}\n",
    "\n",
    "# define what you need to cook the menu\n",
    "starter = {'nacho chips', 'cheddar', 'salsa', 'avocado', 'sour cream'}\n",
    "main = {'buns', 'burgers', 'tomato', 'lettuce', 'pickles', 'onions', 'ketchup', 'mayo', 'fries'}\n",
    "dessert = {'ice cream', 'milk', 'whipped cream', 'strawberries'}\n",
    "drinks = {'vodka', 'orange juice', 'cola', 'beer', 'ice'}"
   ]
  },
  {
   "cell_type": "markdown",
   "id": "735a89da-b198-4b97-8615-4e39d279fd0e",
   "metadata": {},
   "source": [
    "Turns out, the milk went sour in the fridge. Remove milk from the fridge:"
   ]
  },
  {
   "cell_type": "code",
   "execution_count": null,
   "id": "34356675-08a1-4e3d-8a8c-908ce9fa651b",
   "metadata": {},
   "outputs": [],
   "source": [
    "inFridge.remove('milk')\n",
    "inFridge.discard('milk')"
   ]
  },
  {
   "cell_type": "markdown",
   "id": "4ca5ff73-58ab-4396-b8b1-ddfee541bc88",
   "metadata": {},
   "source": [
    "Make a shopping list:"
   ]
  },
  {
   "cell_type": "code",
   "execution_count": null,
   "id": "56384c7b-240f-4a27-9eee-d96c83d95024",
   "metadata": {},
   "outputs": [],
   "source": [
    "# make a shopping list\n",
    "allAtHome = inFridge | inFreezer | inCabinet | inBar\n",
    "allNeeded = starter | main | dessert | drinks\n",
    "shoppingList = allNeeded - allAtHome"
   ]
  },
  {
   "cell_type": "markdown",
   "id": "4bbf71c3-1dd8-483a-97bd-9f160fac016d",
   "metadata": {},
   "source": [
    "your guests want to drink gin and tonics (gin, tonic, ice, and limes) at dinner; what should they bring?\n",
    "hint: they need to bring ingredients that are required for gin and tonic \n",
    "hint: there is no need to bring ingredients that are in your kitchen and on your shopping list"
   ]
  },
  {
   "cell_type": "code",
   "execution_count": null,
   "id": "47a91c88-b265-4f58-9ce8-ad69f7127a10",
   "metadata": {},
   "outputs": [],
   "source": [
    "ginTonic = {'gin','tonic', 'ice', 'limes'}\n",
    "bringGinTonic = ginTonic - allAtHome - allNeeded"
   ]
  },
  {
   "cell_type": "markdown",
   "id": "3d362fb8-b801-4270-8d25-f10ff2ab8883",
   "metadata": {},
   "source": [
    "one of your guests requested you add mustard to your shopping list:"
   ]
  },
  {
   "cell_type": "code",
   "execution_count": null,
   "id": "49c8e9e0-edc2-41c3-a666-2590e35e0d77",
   "metadata": {},
   "outputs": [],
   "source": [
    "shoppingList.add('mustard')"
   ]
  },
  {
   "cell_type": "markdown",
   "id": "38dbd91d-2041-4b15-b473-bd6f7af1d9db",
   "metadata": {},
   "source": [
    "one of your guests is allergic to peanuts; confirm that the food at dinner is safe for them\n",
    "hint: check if there are peanuts in the dinner menu"
   ]
  },
  {
   "cell_type": "code",
   "execution_count": null,
   "id": "220f95cf-3fb0-468c-a7b2-ebb3248f4c55",
   "metadata": {},
   "outputs": [],
   "source": [
    "allergy = {'peanuts'}\n",
    "allergy in allNeeded"
   ]
  },
  {
   "cell_type": "markdown",
   "id": "0261cd97-b951-464d-a758-91ff25828124",
   "metadata": {},
   "source": [
    "The dinner party is on a Friday evening. Assume that if an ingredient is in the dinner party menu, it will all be eaten. \n",
    "You go into your kitchen on Saturday morning. What food do you have in the kitchen then?"
   ]
  },
  {
   "cell_type": "code",
   "execution_count": null,
   "id": "e5710851-fe47-4a6a-ae25-404866e71ec9",
   "metadata": {},
   "outputs": [],
   "source": [
    "leftoverFood = allAtHome - allNeeded"
   ]
  },
  {
   "cell_type": "markdown",
   "id": "1b5102e2-da90-4e56-b5e3-402577c7649e",
   "metadata": {},
   "source": [
    "Your roommate wants to know which ingredients from the kitchen you used to cook dinner:"
   ]
  },
  {
   "cell_type": "code",
   "execution_count": null,
   "id": "4018e6fa-4a2c-413b-8dd2-57206f19e0e4",
   "metadata": {},
   "outputs": [],
   "source": [
    "usedToCook = allAtHome & allNeeded"
   ]
  }
 ],
 "metadata": {
  "kernelspec": {
   "display_name": "Python 3 (ipykernel)",
   "language": "python",
   "name": "python3"
  },
  "language_info": {
   "codemirror_mode": {
    "name": "ipython",
    "version": 3
   },
   "file_extension": ".py",
   "mimetype": "text/x-python",
   "name": "python",
   "nbconvert_exporter": "python",
   "pygments_lexer": "ipython3",
   "version": "3.12.0"
  }
 },
 "nbformat": 4,
 "nbformat_minor": 5
}
