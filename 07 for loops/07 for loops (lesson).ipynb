{
 "cells": [
  {
   "cell_type": "markdown",
   "id": "c448a230",
   "metadata": {},
   "source": [
    "# FOR LOOPS\n",
    "DEFINITION: a for-loop is a definite iteration, which means the same block of code will be repeated a specified number of times."
   ]
  },
  {
   "cell_type": "markdown",
   "id": "b5e4fe4e-baba-4730-b02d-e725a739531d",
   "metadata": {},
   "source": [
    "In the code below, we are telling Python to retrieve the first item in the list of cookies, and associate it with the variable <i>cookie</i>. This step is repeated once for every item in the list, no matter how many items there are: for a million items, there will be a million iterations. "
   ]
  },
  {
   "cell_type": "code",
   "execution_count": null,
   "id": "5480e456",
   "metadata": {},
   "outputs": [],
   "source": [
    "cookies = ['chocolate chip','oatmeal raisin','snickerdoodle','toffee']\n",
    "for cookie in cookies: \n",
    "    print(cookie.title())"
   ]
  },
  {
   "cell_type": "markdown",
   "id": "1ad8f126",
   "metadata": {},
   "source": [
    "You can put however many items or commands you want inside the loop:"
   ]
  },
  {
   "cell_type": "code",
   "execution_count": null,
   "id": "75dbeafa",
   "metadata": {},
   "outputs": [],
   "source": [
    "cookies = ['chocolate chip','oatmeal raisin','snickerdoodle','toffee']\n",
    "for cookie in cookies: \n",
    "    print(f\"{cookie.title()} is the tastiest cookie in the world!\")\n",
    "    print(f\"I love {cookie} cookies so much.\\n\")"
   ]
  },
  {
   "cell_type": "markdown",
   "id": "ea2a206d",
   "metadata": {},
   "source": [
    "Python relies on indentation to determine how a line, or a group of lines, is related to the rest of the program.\n",
    "\n",
    "To leave a loop, go back an indent:"
   ]
  },
  {
   "cell_type": "code",
   "execution_count": null,
   "id": "fe588115",
   "metadata": {},
   "outputs": [],
   "source": [
    "cookies = ['chocolate chip','oatmeal raisin','snickerdoodle','toffee']\n",
    "for cookie in cookies: \n",
    "    print(f\"{cookie.title()} is the tastiest cookie in the world!\")\n",
    "    print(f\"I love {cookie} cookies so much.\\n\")\n",
    "    \n",
    "print(\"Honestly, I just love all cookies.\")"
   ]
  },
  {
   "cell_type": "markdown",
   "id": "84f4a92c",
   "metadata": {},
   "source": [
    "### making a numerical list using range()\n",
    "\n",
    "In this example, range() prints only the numbers 1 through 4. The range() function causes Python to start counting at the first value you give it, and it stops when it reaches the second value you provide. Because it stops at that second value, the output never contains the end value, which would have been 5 in this case. To print the numbers from 1 to 5, you would use range(1, 6):"
   ]
  },
  {
   "cell_type": "code",
   "execution_count": null,
   "id": "bcfc82fb",
   "metadata": {},
   "outputs": [],
   "source": [
    "for value in range(1,5):\n",
    "    print(value)"
   ]
  },
  {
   "cell_type": "markdown",
   "id": "2a979426",
   "metadata": {},
   "source": [
    "If you only give range() a number of items you want to get, without the starting item, it will start at 0:"
   ]
  },
  {
   "cell_type": "code",
   "execution_count": null,
   "id": "9411729f",
   "metadata": {},
   "outputs": [],
   "source": [
    "for value in range(6):\n",
    "    print(value)"
   ]
  },
  {
   "cell_type": "markdown",
   "id": "62602618",
   "metadata": {},
   "source": [
    "if you give range() three inputs, they are: starting number, how many numbers starting from 0, step size when generating numbers:"
   ]
  },
  {
   "cell_type": "code",
   "execution_count": null,
   "id": "8e1fa808",
   "metadata": {},
   "outputs": [],
   "source": [
    "even_numbers = list(range(2, 11, 2)) \n",
    "print(even_numbers)\n",
    "\n",
    "odd_numbers = list(range(1, 11, 2))\n",
    "print(odd_numbers)"
   ]
  },
  {
   "cell_type": "markdown",
   "id": "38ce2bd1",
   "metadata": {},
   "source": [
    "## using for loops for making lists"
   ]
  },
  {
   "cell_type": "markdown",
   "id": "98fe950e",
   "metadata": {},
   "source": [
    "Make a list of the first 10 square numbers (that is, the square of each integer from 1 through 10):"
   ]
  },
  {
   "cell_type": "code",
   "execution_count": null,
   "id": "0459532b",
   "metadata": {},
   "outputs": [],
   "source": [
    "# 4 lines of code\n",
    "\n",
    "squares = [] # empty list\n",
    "    \n",
    "for value in range(1, 11):\n",
    "    square = value ** 2\n",
    "    squares.append(square)\n",
    "    \n",
    "print(squares)"
   ]
  },
  {
   "cell_type": "code",
   "execution_count": null,
   "id": "97dcb9cc",
   "metadata": {},
   "outputs": [],
   "source": [
    "# 3 lines of code: a more concise version\n",
    "\n",
    "squares = []\n",
    "\n",
    "for value in range(1, 11):\n",
    "    squares.append(value**2)\n",
    "    \n",
    "print(squares)"
   ]
  },
  {
   "cell_type": "markdown",
   "id": "b127dcb8",
   "metadata": {},
   "source": [
    "#### optimizing your code: list comprehension\n",
    "\n",
    "A list comprehension combines the for loop and the creation of new elements into one line, and automatically appends each new element:"
   ]
  },
  {
   "cell_type": "code",
   "execution_count": null,
   "id": "093e1a78",
   "metadata": {},
   "outputs": [],
   "source": [
    "# 1 line of code: the most concise version\n",
    "\n",
    "squares = [value**2 for value in range(1, 11)]\n",
    "print(squares)"
   ]
  },
  {
   "cell_type": "markdown",
   "id": "e46c78f2",
   "metadata": {},
   "source": [
    "## looping through a slice of a list"
   ]
  },
  {
   "cell_type": "code",
   "execution_count": null,
   "id": "f1e51441",
   "metadata": {},
   "outputs": [],
   "source": [
    "cookies = ['chocolate chip','oatmeal raisin','snickerdoodle','toffee']\n",
    "for cookie in cookies[:2]:\n",
    "    print(cookie)"
   ]
  },
  {
   "cell_type": "markdown",
   "id": "9414f75b",
   "metadata": {},
   "source": [
    "## make a list out of a set"
   ]
  },
  {
   "cell_type": "code",
   "execution_count": null,
   "id": "e62a0258",
   "metadata": {},
   "outputs": [],
   "source": [
    "primes20set = {2,3,5,7,11,13,17,19,23,29,31,37,41,43,47,53,59,61,67,71}\n",
    "primes20list = []\n",
    "\n",
    "for prime in primes20set:\n",
    "    primes20list.append(prime)\n",
    "print(primes20list)\n",
    "\n",
    "len(primes20set) == len(primes20list) # check if all values made it to the list"
   ]
  },
  {
   "cell_type": "markdown",
   "id": "63fde95d",
   "metadata": {},
   "source": [
    "#### Playing with for loops:"
   ]
  },
  {
   "cell_type": "code",
   "execution_count": null,
   "id": "4771d225",
   "metadata": {},
   "outputs": [],
   "source": [
    "primes20set = {2,3,5,7,11,13,17,19,23,29,31,37,41,43,47,53,59,61,67,71}"
   ]
  },
  {
   "cell_type": "markdown",
   "id": "5ee010fe-5ac6-4a63-97f2-9d6346dd7b9d",
   "metadata": {},
   "source": [
    "what is the sum of the first 20 primes? (sum of all the numbers in the set)"
   ]
  },
  {
   "cell_type": "code",
   "execution_count": null,
   "id": "29600ab8-b250-4923-b723-4435084eb3c1",
   "metadata": {},
   "outputs": [],
   "source": [
    "theSum = 0 # declaring and initializing\n",
    "for element in primes20set: # for all elements in the set primes20\n",
    "    theSum = theSum + element\n",
    "print(\"\\n\\nThe sum of the first 20 primes is:\",theSum)"
   ]
  },
  {
   "cell_type": "markdown",
   "id": "49feb8bd-3a98-492b-9300-bacbd5225223",
   "metadata": {},
   "source": [
    "what is the sum of the first 10 primes?"
   ]
  },
  {
   "cell_type": "code",
   "execution_count": null,
   "id": "b9be1475-414f-4d97-87a3-130651c6759d",
   "metadata": {},
   "outputs": [],
   "source": [
    "anotherSum = 0 # always remember to set this to 0 first\n",
    "for element in primes20list[0:10]:\n",
    "    anotherSum = anotherSum + element\n",
    "print(\"\\n\\nThe sum of the first 10 primes is:\",anotherSum)"
   ]
  },
  {
   "cell_type": "markdown",
   "id": "04d83ee6-4268-4fc1-89ab-334959c5e9d0",
   "metadata": {},
   "source": [
    "mulitply all members of the set:"
   ]
  },
  {
   "cell_type": "code",
   "execution_count": null,
   "id": "e439956b-a816-4347-be2f-109c1df55f36",
   "metadata": {},
   "outputs": [],
   "source": [
    "theMultiplication = 1 # you have to start with 1 bc this is multiplication, not addition\n",
    "for element in primes20set:\n",
    "    theMultiplication = theMultiplication * element\n",
    "print(\"\\n\\nThe result of multiplication is:\",theMultiplication)"
   ]
  },
  {
   "cell_type": "markdown",
   "id": "4593a0db-d241-4c45-aa96-878bf03b884e",
   "metadata": {},
   "source": [
    "here we are introducing a conditional statement - spoiler alert for next topic!\n",
    "\n",
    "count the numbers of even numbers that are in this set:\n",
    "\n",
    "hint: even means number%2==0"
   ]
  },
  {
   "cell_type": "code",
   "execution_count": null,
   "id": "edf3e3d9-f278-40fd-a58b-0a07580e7ab5",
   "metadata": {},
   "outputs": [],
   "source": [
    "how_many = 0\n",
    "for element in primes20set:\n",
    "    if element % 2 == 0:\n",
    "        how_many = how_many + 1\n",
    "print(\"\\n\\nThere are\",how_many,\"even numbers in this set\")\n",
    "        \n",
    "# OR\n",
    "evens = 0\n",
    "for element in primes20set:\n",
    "    if element % 2 == 0:\n",
    "        evens += 1\n",
    "print(\"\\n\\nThere are\",evens,\"even numbers in this set\")"
   ]
  },
  {
   "cell_type": "markdown",
   "id": "29d320d3-3b83-4815-8b28-509ec6862d30",
   "metadata": {},
   "source": [
    "iterating through strings in a set to add them to a list:"
   ]
  },
  {
   "cell_type": "code",
   "execution_count": null,
   "id": "a97ec775",
   "metadata": {},
   "outputs": [],
   "source": [
    "# with strings\n",
    "\n",
    "s = \"abcdefg\"\n",
    "list_s = []\n",
    "for character in s:\n",
    "    list_s.append(character)\n",
    "print(list_s)"
   ]
  },
  {
   "cell_type": "markdown",
   "id": "c99c323b",
   "metadata": {},
   "source": [
    "loop inside a loop:"
   ]
  },
  {
   "cell_type": "code",
   "execution_count": null,
   "id": "fafc6c66",
   "metadata": {},
   "outputs": [],
   "source": [
    "L2 = [[1,2,3],[4,5,6],[7,8,9]]\n",
    "for element in L2:\n",
    "    for number in element:\n",
    "        print(number)"
   ]
  }
 ],
 "metadata": {
  "kernelspec": {
   "display_name": "Python 3 (ipykernel)",
   "language": "python",
   "name": "python3"
  },
  "language_info": {
   "codemirror_mode": {
    "name": "ipython",
    "version": 3
   },
   "file_extension": ".py",
   "mimetype": "text/x-python",
   "name": "python",
   "nbconvert_exporter": "python",
   "pygments_lexer": "ipython3",
   "version": "3.12.0"
  }
 },
 "nbformat": 4,
 "nbformat_minor": 5
}
