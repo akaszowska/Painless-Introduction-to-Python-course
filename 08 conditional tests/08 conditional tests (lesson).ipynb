{
 "cells": [
  {
   "cell_type": "markdown",
   "id": "ddc611ef",
   "metadata": {},
   "source": [
    "# CONDITIONAL TESTS\n",
    "DEFINITION: a conditional test allows you to check any condition of interest. This means that, at the heart of every if statement, there is an expression that can be evaluated as either True or False. \n",
    "\n",
    "Python uses True and False values to \"decide\" if a statement should be executed. \n",
    "\n",
    "If a condition is evaluated as True, then Python executes the code following the if statement.\n",
    "\n",
    "If the test evaluates as False, then Python ignores the code following the if statement. "
   ]
  },
  {
   "cell_type": "code",
   "execution_count": null,
   "id": "1602146e",
   "metadata": {},
   "outputs": [],
   "source": [
    "reactions = ['hooray','great','oh no','omg','please stop']\n",
    "\n",
    "for reaction in reactions:\n",
    "    if reaction == 'omg':\n",
    "        print(reaction.upper())\n",
    "    else:\n",
    "        print(reaction)"
   ]
  },
  {
   "cell_type": "markdown",
   "id": "48e512d9",
   "metadata": {},
   "source": [
    "remember from boolean values:\n",
    "\n",
    "    == equals (remember, must use double ==, since single = is a variable assignment)\n",
    "    > greater than\n",
    "    < less than\n",
    "    != not equal to\n",
    "    >= greater or equal to\n",
    "    <= less than or equal to\n",
    "    \n",
    "ordered by priority: \n",
    "\n",
    "    not - \"flips\" the operand; requires use of ( ) if not is after operator, e.g. False == (not True), not can be used with common Python objects, such as numbers, strings, lists, etc.\n",
    "    and - requires both terms to be returned\n",
    "    or - either terms (or both) will be returned"
   ]
  },
  {
   "cell_type": "code",
   "execution_count": null,
   "id": "ac93e4ab",
   "metadata": {},
   "outputs": [],
   "source": [
    "answer = 17\n",
    "\n",
    "if answer != 42:\n",
    "    print(\"That is not the correct answer. Please try again!\")"
   ]
  },
  {
   "cell_type": "markdown",
   "id": "52ff0a25",
   "metadata": {},
   "source": [
    "## if/else\n",
    "if conditional test is passed, then do something\n",
    "\n",
    "else allows you to define another action to be executed if conditional statement fails\n",
    "\n",
    "reminder: indenting is REALLY important!"
   ]
  },
  {
   "cell_type": "code",
   "execution_count": null,
   "id": "befdfaa8",
   "metadata": {},
   "outputs": [],
   "source": [
    "height = 125\n",
    "\n",
    "if height >= 125:\n",
    "    print(\"You are tall enough to ride this rollercoaster!\")\n",
    "else: \n",
    "    print(\"Sorry, you are not tall enough to ride this rollercoaster.\")"
   ]
  },
  {
   "cell_type": "code",
   "execution_count": null,
   "id": "0d989d2c",
   "metadata": {},
   "outputs": [],
   "source": [
    "birthday = input(\"is it your birthday today? (yes/no) \")\n",
    "if birthday == 'yes':\n",
    "    print(\"CONGRATULATIONS!\")\n",
    "else:\n",
    "    print(\"I'm sorry :(\")\n",
    "\n",
    "# another version:\n",
    "if input(\"is it your birthday today? (yes/no) \") == \"yes\":\n",
    "    print(\"congratulations!\")\n",
    "else:\n",
    "    print(\"I'm sorry :(\")"
   ]
  },
  {
   "cell_type": "markdown",
   "id": "7e8b46eb",
   "metadata": {},
   "source": [
    "## pass\n",
    "pass statement means that nothing happens if a condition is satisfied:"
   ]
  },
  {
   "cell_type": "code",
   "execution_count": 1,
   "id": "37464718",
   "metadata": {},
   "outputs": [
    {
     "name": "stdout",
     "output_type": "stream",
     "text": [
      "I also love chocolate chip cookies!\n"
     ]
    }
   ],
   "source": [
    "likesCookies = \"yes\"\n",
    "cookie = \"chocolate chip\"\n",
    "\n",
    "if likesCookies == \"no\":\n",
    "    pass\n",
    "else:\n",
    "    print(f\"I also love {cookie} cookies!\")"
   ]
  },
  {
   "cell_type": "markdown",
   "id": "e1c5f8b0",
   "metadata": {},
   "source": [
    "## if/elif/else chain\n",
    "The if-elif-else chain is powerful, but it’s only appropriate to use when you just need one test to pass. As soon as Python finds one test that passes, it skips the rest of the tests. This behavior is beneficial, because it’s efficient and allows you to test for one specific condition."
   ]
  },
  {
   "cell_type": "code",
   "execution_count": 9,
   "id": "f6697050",
   "metadata": {},
   "outputs": [
    {
     "name": "stdout",
     "output_type": "stream",
     "text": [
      "You can have a martini in Europe, but not in USA.\n"
     ]
    }
   ],
   "source": [
    "# if-elif-else chain \n",
    "\n",
    "# you are not allowed to consume alcohol if you are younger than 18\n",
    "# you are allowed to consume alcohol in Europe if you are 18 or older, but not in USA\n",
    "# you are allowed to consume alcohol in USA if you are 21 or older\n",
    "\n",
    "age = 20\n",
    "\n",
    "if age < 18: # if you are younger than 18 (so: between 1 day old and 17 years and 364 days old)\n",
    "    print(\"No martinis for you!\") # print message\n",
    "elif age < 21: # if you are 18 or above 18, but below 21 (remember: we already processed under 18 earlier)\n",
    "    print(\"You can have a martini in Europe, but not in USA.\") # print message\n",
    "else: # if any number including or above 21 - so any number that was not caught by previous statements\n",
    "    print(\"You can have a martini both in Europe and in USA\") # print message"
   ]
  },
  {
   "cell_type": "code",
   "execution_count": null,
   "id": "83dc7f11",
   "metadata": {},
   "outputs": [],
   "source": [
    "age = 20\n",
    "\n",
    "if age < 18: \n",
    "    print(\"No martinis for you!\") \n",
    "elif age < 21: \n",
    "    print(\"You can have a martini in Europe, but not in USA.\") \n",
    "else: \n",
    "    print(\"You can have a martini both in Europe and in USA\") "
   ]
  },
  {
   "cell_type": "markdown",
   "id": "4d7aa51f",
   "metadata": {},
   "source": [
    "checking for special items in list:"
   ]
  },
  {
   "cell_type": "code",
   "execution_count": 12,
   "id": "64c7ccc9",
   "metadata": {},
   "outputs": [
    {
     "name": "stdout",
     "output_type": "stream",
     "text": [
      "Please remember to buy bread.\n",
      "Please remember to buy milk.\n",
      "Please remember to buy eggs.\n",
      "You cannot buy a bicycle at the grocery store.\n",
      "\n",
      "Thank you for taking care of the groceries today!\n"
     ]
    }
   ],
   "source": [
    "grocery_list = ['bread', 'milk', 'eggs', 'bicycle']\n",
    "\n",
    "for eachItem in grocery_list: # for every item on grocery list\n",
    "    if eachItem == 'bicycle': # check if the item is a bicycle, if yes: \n",
    "        print(\"You cannot buy a bicycle at the grocery store.\") # print message\n",
    "    else: # if item is not a bicycle, then\n",
    "        print(f\"Please remember to buy {eachItem}.\") # print message\n",
    "    \n",
    "print(\"\\nThank you for taking care of the groceries today!\")"
   ]
  },
  {
   "cell_type": "markdown",
   "id": "d346c2ea",
   "metadata": {},
   "source": [
    "checking that a list is not empty: "
   ]
  },
  {
   "cell_type": "code",
   "execution_count": 13,
   "id": "18ac82d5",
   "metadata": {},
   "outputs": [
    {
     "name": "stdout",
     "output_type": "stream",
     "text": [
      "We do not need anything from the store today.\n"
     ]
    }
   ],
   "source": [
    "# create empty list\n",
    "grocery_list = []\n",
    "\n",
    "if grocery_list: # if there is anything in grocery list\n",
    "    for eachItem in grocery_list: # then for each individual item from list\n",
    "        print(f\"Please remember to buy {eachItem}.\") # print a message\n",
    "    print(\"\\nThank you for taking care of the groceries today!\") # after messages for all individual items are printed, print another message\n",
    "else: # otherwise (if there is nothing in grocery list)\n",
    "    print(\"We do not need anything from the store today.\") # print a message"
   ]
  },
  {
   "cell_type": "code",
   "execution_count": 11,
   "id": "94e115b2-640a-4e5e-a3a7-28513d5529e5",
   "metadata": {},
   "outputs": [
    {
     "name": "stdout",
     "output_type": "stream",
     "text": [
      "list is empty\n"
     ]
    }
   ],
   "source": [
    "empty_list = []\n",
    "\n",
    "if empty_list: \n",
    "    for item in empty_list:\n",
    "        print(f\"{item}\") \n",
    "else: \n",
    "    print(\"list is empty\")"
   ]
  },
  {
   "cell_type": "markdown",
   "id": "118e22c3",
   "metadata": {},
   "source": [
    "using multiple lists:"
   ]
  },
  {
   "cell_type": "code",
   "execution_count": 14,
   "id": "56846f92",
   "metadata": {
    "scrolled": true
   },
   "outputs": [
    {
     "name": "stdout",
     "output_type": "stream",
     "text": [
      "Please go to the store and buy eggs.\n",
      "We have milk at home.\n",
      "We have flour at home.\n",
      "Please go to the store and buy sugar.\n",
      "Please go to the store and buy butter.\n",
      "We have vanilla at home.\n",
      "We have baking powder at home.\n"
     ]
    }
   ],
   "source": [
    "needed_for_cake = ['eggs', 'milk', 'flour', 'sugar', 'butter', 'vanilla', 'baking powder']\n",
    "in_kitchen = ['milk', 'flour', 'vanilla', 'baking powder']\n",
    "\n",
    "for ingredient in needed_for_cake: # for every ingredient in list of things needed for cake\n",
    "    if ingredient in in_kitchen: # if needed ingredient is in the kitchen\n",
    "        print(f\"We have {ingredient} at home.\") # then print message\n",
    "    else: # if needed ingredient is NOT in the kitchen\n",
    "        print(f\"Please go to the store and buy {ingredient}.\") # then add it to the shopping list"
   ]
  },
  {
   "cell_type": "code",
   "execution_count": 16,
   "id": "b999b7bd-0825-40b5-8969-39a4d693f943",
   "metadata": {
    "scrolled": true
   },
   "outputs": [
    {
     "name": "stdout",
     "output_type": "stream",
     "text": [
      "Please go to the store and buy ['eggs', 'sugar', 'butter'].\n"
     ]
    }
   ],
   "source": [
    "# alternative approach\n",
    "\n",
    "needed_for_cake = ['eggs', 'milk', 'flour', 'sugar', 'butter', 'vanilla', 'baking powder']\n",
    "in_kitchen = ['milk', 'flour', 'vanilla', 'baking powder']\n",
    "shopping_list = []\n",
    "\n",
    "for ingredient in needed_for_cake: # for every ingredient in list of things needed for cake\n",
    "    if ingredient in in_kitchen: # if needed ingredient is in the kitchen\n",
    "        pass\n",
    "    else: # if needed ingredient is NOT in the kitchen\n",
    "        shopping_list.append(ingredient) # then add it to the shopping list\n",
    "    \n",
    "print(f\"Please go to the store and buy {shopping_list}.\") "
   ]
  },
  {
   "cell_type": "markdown",
   "id": "bc1fcfd6",
   "metadata": {},
   "source": [
    "## break\n",
    "break stops execution of a loop\n",
    "\n",
    "note: you cannot break out of an if statement, only out of a loop:"
   ]
  },
  {
   "cell_type": "code",
   "execution_count": 17,
   "id": "c28b0c7f",
   "metadata": {
    "scrolled": true
   },
   "outputs": [
    {
     "name": "stdout",
     "output_type": "stream",
     "text": [
      "Hello Tom, welcome to the roller coaster, please show me your ticket...\n",
      "Hello Susan, welcome to the roller coaster, please show me your ticket...\n",
      "Hello Jenny, welcome to the roller coaster, please show me your ticket...\n",
      "Sorry, your group cannot ride the rollercoaster after all, you have a pet with you!\n"
     ]
    }
   ],
   "source": [
    "ride_rollercoaster = ['Tom','Susan','Jenny','Fluffy']\n",
    "pets = ['Fluffy']\n",
    "\n",
    "for each in ride_rollercoaster:\n",
    "    if each in pets:\n",
    "        print(f\"Sorry, your group cannot ride the rollercoaster after all, you have a pet with you!\")\n",
    "        break\n",
    "    else:\n",
    "        print(f\"Hello {each}, welcome to the roller coaster, please show me your ticket... Thank you\")"
   ]
  }
 ],
 "metadata": {
  "kernelspec": {
   "display_name": "Python 3 (ipykernel)",
   "language": "python",
   "name": "python3"
  },
  "language_info": {
   "codemirror_mode": {
    "name": "ipython",
    "version": 3
   },
   "file_extension": ".py",
   "mimetype": "text/x-python",
   "name": "python",
   "nbconvert_exporter": "python",
   "pygments_lexer": "ipython3",
   "version": "3.12.0"
  }
 },
 "nbformat": 4,
 "nbformat_minor": 5
}
