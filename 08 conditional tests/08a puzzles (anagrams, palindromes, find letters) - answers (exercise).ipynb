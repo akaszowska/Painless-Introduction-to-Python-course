{
 "cells": [
  {
   "cell_type": "markdown",
   "id": "264d76d6",
   "metadata": {},
   "source": [
    "## puzzle: are two words anagrams?\n",
    "validate anagrams: the user inputs two words, and your code judges whether those words are anagrams and returns a true/false answer\n",
    "\n",
    "an anagram is a word or phrase that forms a different words when the letters are rearranged, for example \"cinema\" and \"iceman\""
   ]
  },
  {
   "cell_type": "code",
   "execution_count": null,
   "id": "ee962215",
   "metadata": {},
   "outputs": [],
   "source": [
    "word1 = 'cinema'\n",
    "word2 = 'iceman'\n",
    "\n",
    "if sorted(word1) == sorted(word2):\n",
    "    print(f\"{word1} and {word2} are anagrams\")"
   ]
  },
  {
   "cell_type": "code",
   "execution_count": null,
   "id": "76ecc613",
   "metadata": {},
   "outputs": [],
   "source": [
    "# alternatively\n",
    "word1 = 'iceman'\n",
    "word2 = 'cinema'\n",
    "\n",
    "answer = sorted(word1) == sorted(word2)\n",
    "print(f\"It is {answer} that {word1} and {word2} are anagrams.\")"
   ]
  },
  {
   "cell_type": "markdown",
   "id": "5e769ce1",
   "metadata": {},
   "source": [
    "## puzzle: find letters\n",
    "write a script that asks the user to choose a letter, and then tells the user how many times that letter occurs in the names of months (all 12)"
   ]
  },
  {
   "cell_type": "code",
   "execution_count": null,
   "id": "d0dd29ab",
   "metadata": {},
   "outputs": [],
   "source": [
    "searchFor = input(\"Please choose a letter: \") # user indicates a letter of interest\n",
    "allMonths = ['January','February','March','April','May','June','July','August',\n",
    "           'September','October','November','December'] # search list including all names of months\n",
    "\n",
    "howMany = 0 # initiate counter\n",
    "for month in allMonths: # for every month in list of months\n",
    "    for letter in month: # for every letter in month\n",
    "        if letter.lower() == searchFor.lower(): # if the lower case letter is the same as the letter we are searching for\n",
    "            howMany += 1                        # add 1 to the counter\n",
    "            \n",
    "print(f\"The {searchFor} letter  occurs {howMany} times in names of the months.\")"
   ]
  },
  {
   "cell_type": "markdown",
   "id": "81d54334",
   "metadata": {},
   "source": [
    "## puzzle: palindromes\n",
    "write a script that checks a list of words and returns how many palindromes are in the words, and a list of all palindromes\n",
    "\n",
    "a palindrome is a word that is read the same from the beginning or from the end, such as \"mom\""
   ]
  },
  {
   "cell_type": "code",
   "execution_count": null,
   "id": "00b967a7",
   "metadata": {},
   "outputs": [],
   "source": [
    "checkWords = [\"mom\",\"anna\",\"potato\",\"tacocat\"] # define list of words that you will check for palindromes\n",
    "palindrome = [] # define empty list where you will put your palindromes\n",
    "\n",
    "for word in checkWords: # for every word in the user input\n",
    "    if word == word[::-1]: # check if it is the same backwards\n",
    "        palindrome.append(word) # if yes, add to list\n",
    "        \n",
    "print(f\"There are {len(palindrome)} palindromes in your list: {palindrome}.\")"
   ]
  }
 ],
 "metadata": {
  "kernelspec": {
   "display_name": "Python 3 (ipykernel)",
   "language": "python",
   "name": "python3"
  },
  "language_info": {
   "codemirror_mode": {
    "name": "ipython",
    "version": 3
   },
   "file_extension": ".py",
   "mimetype": "text/x-python",
   "name": "python",
   "nbconvert_exporter": "python",
   "pygments_lexer": "ipython3",
   "version": "3.12.0"
  }
 },
 "nbformat": 4,
 "nbformat_minor": 5
}
