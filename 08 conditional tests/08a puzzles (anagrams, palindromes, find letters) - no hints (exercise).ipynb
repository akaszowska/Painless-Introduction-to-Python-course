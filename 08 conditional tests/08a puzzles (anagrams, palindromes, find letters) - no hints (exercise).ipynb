{
 "cells": [
  {
   "cell_type": "markdown",
   "id": "264d76d6",
   "metadata": {},
   "source": [
    "## puzzle: are two words anagrams?\n",
    "validate anagrams: the user inputs two words, and your code judges whether those words are anagrams and returns a true/false answer\n",
    "\n",
    "an anagram is a word or phrase that forms a different words when the letters are rearranged, for example \"cinema\" and \"iceman\""
   ]
  },
  {
   "cell_type": "code",
   "execution_count": null,
   "id": "76ecc613",
   "metadata": {},
   "outputs": [],
   "source": []
  },
  {
   "cell_type": "markdown",
   "id": "5e769ce1",
   "metadata": {},
   "source": [
    "## puzzle: find letters\n",
    "write a script that asks the user to choose a letter, and then tells the user how many times that letter occurs in the names of months (all 12)"
   ]
  },
  {
   "cell_type": "code",
   "execution_count": null,
   "id": "d0dd29ab",
   "metadata": {},
   "outputs": [],
   "source": []
  },
  {
   "cell_type": "markdown",
   "id": "81d54334",
   "metadata": {},
   "source": [
    "## puzzle: palindromes\n",
    "write a script that checks a list of words and returns how many palindromes are in the words, and a list of all palindromes\n",
    "\n",
    "a palindrome is a word that is read the same from the beginning or from the end, such as \"mom\""
   ]
  },
  {
   "cell_type": "code",
   "execution_count": null,
   "id": "00b967a7",
   "metadata": {},
   "outputs": [],
   "source": []
  }
 ],
 "metadata": {
  "kernelspec": {
   "display_name": "Python 3 (ipykernel)",
   "language": "python",
   "name": "python3"
  },
  "language_info": {
   "codemirror_mode": {
    "name": "ipython",
    "version": 3
   },
   "file_extension": ".py",
   "mimetype": "text/x-python",
   "name": "python",
   "nbconvert_exporter": "python",
   "pygments_lexer": "ipython3",
   "version": "3.12.0"
  }
 },
 "nbformat": 4,
 "nbformat_minor": 5
}
