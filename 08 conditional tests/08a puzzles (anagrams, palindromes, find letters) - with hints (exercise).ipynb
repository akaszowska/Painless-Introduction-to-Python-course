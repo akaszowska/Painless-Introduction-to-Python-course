{
 "cells": [
  {
   "cell_type": "markdown",
   "id": "264d76d6",
   "metadata": {},
   "source": [
    "## puzzle: are two words anagrams?\n",
    "validate anagrams: the user inputs two words, and your code judges whether those words are anagrams and returns a true/false answer\n",
    "\n",
    "an anagram is a word or phrase that forms a different words when the letters are rearranged, for example \"cinema\" and \"iceman\""
   ]
  },
  {
   "cell_type": "code",
   "execution_count": null,
   "id": "ee962215",
   "metadata": {},
   "outputs": [],
   "source": [
    "# define two words to compare\n",
    "\n",
    "\n",
    "# check if the words are made of the same letters\n",
    "\n"
   ]
  },
  {
   "cell_type": "markdown",
   "id": "5e769ce1",
   "metadata": {},
   "source": [
    "## puzzle: find letters\n",
    "write a script that asks the user to choose a letter, and then tells the user how many times that letter occurs in the names of months (all 12)"
   ]
  },
  {
   "cell_type": "code",
   "execution_count": null,
   "id": "d0dd29ab",
   "metadata": {},
   "outputs": [],
   "source": [
    "# ask user to indicate a letter of interest\n",
    "\n",
    "\n",
    "# make a list with names of all months\n",
    "\n",
    "\n",
    "# make a counter for counting letter occurences\n",
    "\n",
    "\n",
    "# for every month in list of months,\n",
    "# hint: you will need to use a for loop\n",
    "\n",
    "\n",
    "# for every letter in month,\n",
    "# hint: for loop inside a for loop\n",
    "\n",
    "\n",
    "# if lower case letter of interest is the same as the lower case letter you are currently looping\n",
    "# through, add 1 to the counter\n",
    "\n",
    "\n",
    "# print answer"
   ]
  },
  {
   "cell_type": "markdown",
   "id": "81d54334",
   "metadata": {},
   "source": [
    "## puzzle: palindromes\n",
    "write a script that checks a list of words and returns how many palindromes are in the words, and a list of all palindromes\n",
    "\n",
    "a palindrome is a word that is read the same from the beginning or from the end, such as \"mom\""
   ]
  },
  {
   "cell_type": "code",
   "execution_count": null,
   "id": "00b967a7",
   "metadata": {},
   "outputs": [],
   "source": [
    "# define list of words that you will check for palindromes\n",
    "\n",
    "\n",
    "# define empty list where you will put your palindromes\n",
    "\n",
    "\n",
    "# for every word in list\n",
    "\n",
    "\n",
    "# check if it is the same backwards\n",
    "# hint: use indexing\n",
    "\n",
    "# if yes, add to list\n",
    "\n",
    "\n",
    "# print answer\n",
    "\n",
    "\n"
   ]
  }
 ],
 "metadata": {
  "kernelspec": {
   "display_name": "Python 3 (ipykernel)",
   "language": "python",
   "name": "python3"
  },
  "language_info": {
   "codemirror_mode": {
    "name": "ipython",
    "version": 3
   },
   "file_extension": ".py",
   "mimetype": "text/x-python",
   "name": "python",
   "nbconvert_exporter": "python",
   "pygments_lexer": "ipython3",
   "version": "3.12.0"
  }
 },
 "nbformat": 4,
 "nbformat_minor": 5
}
