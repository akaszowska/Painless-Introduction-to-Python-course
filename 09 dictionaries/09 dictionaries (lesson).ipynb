{
 "cells": [
  {
   "cell_type": "markdown",
   "id": "ff1edb6e",
   "metadata": {},
   "source": [
    "# DICTIONARIES\n",
    "DEFINITION: a dictionary in Python is a collection of key-value pairs.\n",
    "\n",
    "Each key is connected to a value, and you can use a key to access the value associated with that key.\n",
    "\n",
    "A key's value can be a number, a string, a list, or even a different dictionary: any object you can create in Python can also be a value in a dictionary.\n",
    "\n",
    "You can have an unlimited number of key-value pairs in a dictionary.\n",
    "\n",
    "starting with an empty dictionary: variableName = {}"
   ]
  },
  {
   "cell_type": "code",
   "execution_count": null,
   "id": "0bfb12c7",
   "metadata": {},
   "outputs": [],
   "source": [
    "# different ways to create a dictionary\n",
    "\n",
    "pineapple = dict()\n",
    "pineapple = {key: value, key2: value2} \n",
    "# key and value here correspond to actual inputs; \n",
    "# if you use just {} you will end up with a list, not a dictionary\n",
    "pineapple[key] = value\n",
    "pineapple[key2] = value2  "
   ]
  },
  {
   "cell_type": "code",
   "execution_count": null,
   "id": "9b639cdb",
   "metadata": {},
   "outputs": [],
   "source": [
    "# a silly dictionary showing the mapping of keys to values:\n",
    "\n",
    "numbers = dict()\n",
    "numbers[1] = \"one\"\n",
    "numbers[2] = \"two\"\n",
    "numbers[3] = \"three\"\n",
    "print(numbers)\n",
    "\n",
    "numbers[20] = \"twenty\"\n",
    "numbers[21] = numbers[20]+ \" \" +numbers[1]\n",
    "print(numbers)\n",
    "\n",
    "alsoNumbers = dict()\n",
    "alsoNumbers['one'] = 1\n",
    "alsoNumbers['two'] = 2\n",
    "alsoNumbers['three'] = 3\n",
    "print(alsoNumbers)"
   ]
  },
  {
   "cell_type": "code",
   "execution_count": null,
   "id": "73f396a1",
   "metadata": {},
   "outputs": [],
   "source": [
    "# a simple dictionary:\n",
    "pineapple = {'Danish': 'ananas', 'color': 'yellow'}\n",
    "\n",
    "print(pineapple['Danish'])\n",
    "print(pineapple['color'])\n",
    "\n",
    "Danish = pineapple['Danish']\n",
    "print(f\"A pineapple in Danish is called '{Danish}'!\")"
   ]
  },
  {
   "cell_type": "markdown",
   "id": "155763bc",
   "metadata": {},
   "source": [
    "adding new key-value pairs:"
   ]
  },
  {
   "cell_type": "code",
   "execution_count": null,
   "id": "31e5a6eb",
   "metadata": {},
   "outputs": [],
   "source": [
    "pineapple['taste'] = 'acidic'\n",
    "pineapple['price'] = 16\n",
    "print(pineapple)"
   ]
  },
  {
   "cell_type": "markdown",
   "id": "61f218bd",
   "metadata": {},
   "source": [
    "values are mutable:"
   ]
  },
  {
   "cell_type": "code",
   "execution_count": null,
   "id": "fd680519",
   "metadata": {},
   "outputs": [],
   "source": [
    "print(f\"Pineapples are {pineapple['color']}.\")\n",
    "\n",
    "pineapple['color'] = 'green'\n",
    "print(f\"Pineapples are now {pineapple['color']}.\")"
   ]
  },
  {
   "cell_type": "markdown",
   "id": "adda7e98",
   "metadata": {},
   "source": [
    "keys are immutable! "
   ]
  },
  {
   "cell_type": "markdown",
   "id": "4032de3e",
   "metadata": {},
   "source": [
    "example script for adding your own items to the dictionary:"
   ]
  },
  {
   "cell_type": "code",
   "execution_count": null,
   "id": "1301d526",
   "metadata": {},
   "outputs": [],
   "source": [
    "lastnames = dict() # define an empty dictionary\n",
    "lastnames[\"Chandler\"] = \"Bing\"\n",
    "lastnames[\"Rachel\"] = \"Green\"\n",
    "lastnames[\"Monica\"] = \"Geller\"\n",
    "firstname = str(input(\"type in name: \"))\n",
    "if firstname in lastnames:\n",
    "    print(lastnames[firstname])\n",
    "else:\n",
    "    print(\"we don't know anyone by the name of\",firstname)\n",
    "addperson = str(input(\"would you like to add this person to directory? (y/n):\"))\n",
    "if addperson == 'y':\n",
    "    newfirstname = str(input(\"first name: \"))\n",
    "    newlastname = str(input(\"last name: \"))\n",
    "    lastnames[newlastname] = newfirstname\n",
    "    print(newlastname,newfirstname,\"was successfully added to directory\")\n",
    "else:\n",
    "    print(\"thank you!\")"
   ]
  },
  {
   "cell_type": "code",
   "execution_count": null,
   "id": "7715bccb",
   "metadata": {},
   "outputs": [],
   "source": [
    "# determine how many people can eat one pineapple for dinner based on it's size\n",
    "pineapple = {'Danish': 'ananas', 'color': 'yellow', 'taste': 'acidic', 'price': 16, 'size': 'medium'}\n",
    "\n",
    "if pineapple['size'] == 'small':\n",
    "    feed = 3\n",
    "elif pineapple['size'] == 'medium':\n",
    "    feed = 5\n",
    "else: # this must be a large pineapple\n",
    "    feed = 8 \n",
    "    \n",
    "# dhow many roommates roommates started eating the pineapple already: \n",
    "pineapple['ate today'] = 2\n",
    "canFeed = feed - pineapple['ate today']\n",
    "\n",
    "print(f\"The pineapple can feed {canFeed} people for dinner.\")"
   ]
  },
  {
   "cell_type": "markdown",
   "id": "1522dcdf",
   "metadata": {},
   "source": [
    "removing key value pairs permanently:"
   ]
  },
  {
   "cell_type": "code",
   "execution_count": null,
   "id": "69ee4215",
   "metadata": {},
   "outputs": [],
   "source": [
    "print(pineapple)\n",
    "del pineapple['taste']\n",
    "print(pineapple)"
   ]
  },
  {
   "cell_type": "markdown",
   "id": "35013e45",
   "metadata": {},
   "source": [
    "a dictionary of similar objects:"
   ]
  },
  {
   "cell_type": "code",
   "execution_count": null,
   "id": "2d71c382",
   "metadata": {},
   "outputs": [],
   "source": [
    "fruit = {\n",
    "    'pineapple': 'yellow',\n",
    "    'apple': 'red',\n",
    "    'kiwi': 'green',\n",
    "    'orange': 'orange' }\n",
    "\n",
    "color = fruit['apple']\n",
    "print(f\"Apples are {color}.\")"
   ]
  },
  {
   "cell_type": "markdown",
   "id": "357c27d9",
   "metadata": {},
   "source": [
    "accessing values:"
   ]
  },
  {
   "cell_type": "code",
   "execution_count": null,
   "id": "756afcd7",
   "metadata": {},
   "outputs": [],
   "source": [
    "# error:\n",
    "print(pineapple['weight'])"
   ]
  },
  {
   "cell_type": "code",
   "execution_count": null,
   "id": "eed15438",
   "metadata": {},
   "outputs": [],
   "source": [
    "# using .get()\n",
    "weight = pineapple.get('weight','no information about weight available')\n",
    "print(weight)"
   ]
  },
  {
   "cell_type": "markdown",
   "id": "2718c994",
   "metadata": {},
   "source": [
    "looping through a dictionary:"
   ]
  },
  {
   "cell_type": "code",
   "execution_count": null,
   "id": "28c51840",
   "metadata": {},
   "outputs": [],
   "source": [
    "# looping through a dictionary\n",
    "pineapple = {\n",
    "    'Danish': 'ananas', \n",
    "    'color': 'yellow', \n",
    "    'taste': 'acidic', \n",
    "    'price': 16, \n",
    "    'size': 'medium' }\n",
    "\n",
    "for key, value in pineapple.items():\n",
    "    print(f\"\\nKey: {key}\")\n",
    "    print(f\"Value: {value}\")\n",
    "    \n",
    "# this also works if you do: for k, v in user_0.items()\n",
    "# because variable names don't matter"
   ]
  },
  {
   "cell_type": "code",
   "execution_count": null,
   "id": "9c11af61",
   "metadata": {},
   "outputs": [],
   "source": [
    "fruit = {\n",
    "    'pineapple': 'yellow',\n",
    "    'apple': 'red',\n",
    "    'strawberry': 'red',\n",
    "    'kiwi': 'green',\n",
    "    'orange': 'orange' }\n",
    "\n",
    "for eachFruit, color in fruit.items():\n",
    "    print(f\"{eachFruit.title()}'s color is {color}.\")"
   ]
  },
  {
   "cell_type": "code",
   "execution_count": null,
   "id": "759a0987",
   "metadata": {},
   "outputs": [],
   "source": [
    "# looping through all the keys in adictionary\n",
    "for eachFruit in fruit.keys():\n",
    "    print(eachFruit.title())\n",
    "    \n",
    "# looping through keys is the default behavior when looping through a dictionary\n",
    "# therefore this also works:\n",
    "for eachFruit in fruit:\n",
    "    print(eachFruit.title())"
   ]
  },
  {
   "cell_type": "code",
   "execution_count": null,
   "id": "704756e6",
   "metadata": {},
   "outputs": [],
   "source": [
    "friends = ['monica', 'chandler']\n",
    "favoriteFruit = ['apple', 'orange']\n",
    "\n",
    "for eachFruit in fruit.keys():\n",
    "    print(eachFruit)\n",
    "    if eachFruit in favoriteFruit:\n",
    "        color = fruit[eachFruit]\n",
    "        print(f\"\\t{eachFruit} is my favorite, and it has a beautiful {color} color!\")"
   ]
  },
  {
   "cell_type": "markdown",
   "id": "1eca8953",
   "metadata": {},
   "source": [
    "use keys() method to see if key is in dictionary:"
   ]
  },
  {
   "cell_type": "code",
   "execution_count": null,
   "id": "4d66b122",
   "metadata": {},
   "outputs": [],
   "source": [
    "if 'banana' not in fruit.keys(): \n",
    "    print(\"We have no idea what color bananas are!\")"
   ]
  },
  {
   "cell_type": "markdown",
   "id": "dcefa9c8",
   "metadata": {},
   "source": [
    "looping through a dictionary's key in a particular order: sorted() alphabetically"
   ]
  },
  {
   "cell_type": "code",
   "execution_count": null,
   "id": "dbebe0fa",
   "metadata": {},
   "outputs": [],
   "source": [
    "for eachFruit in sorted(fruit.keys()):\n",
    "    print(f\"{eachFruit.title()} is delicious.\")"
   ]
  },
  {
   "cell_type": "markdown",
   "id": "8d610d65",
   "metadata": {},
   "source": [
    "looping through all values in a dicitonary: .values() - pulls all values without checking for repeats"
   ]
  },
  {
   "cell_type": "code",
   "execution_count": null,
   "id": "8e010dfc",
   "metadata": {},
   "outputs": [],
   "source": [
    "print(\"The following colors have been mentioned:\")\n",
    "for color in fruit.values():\n",
    "    print(color)"
   ]
  },
  {
   "cell_type": "markdown",
   "id": "580a8cda",
   "metadata": {},
   "source": [
    "looping through all values in a dictionary: set() - pulls all values WITH checking for repeats\n"
   ]
  },
  {
   "cell_type": "code",
   "execution_count": null,
   "id": "6401b6e3",
   "metadata": {},
   "outputs": [],
   "source": [
    "print(\"The following colors have been mentioned:\")\n",
    "for color in set(fruit.values()):\n",
    "    print(color)"
   ]
  },
  {
   "cell_type": "markdown",
   "id": "8f26fa52",
   "metadata": {},
   "source": [
    "## careful! building a set by using braces and separating elements with commas:\n",
    "It’s easy to mistake sets for dictionaries because they’re both wrapped in braces. When you see braces but no key-value pairs, you’re probably looking at a set."
   ]
  }
 ],
 "metadata": {
  "kernelspec": {
   "display_name": "Python 3 (ipykernel)",
   "language": "python",
   "name": "python3"
  },
  "language_info": {
   "codemirror_mode": {
    "name": "ipython",
    "version": 3
   },
   "file_extension": ".py",
   "mimetype": "text/x-python",
   "name": "python",
   "nbconvert_exporter": "python",
   "pygments_lexer": "ipython3",
   "version": "3.12.0"
  }
 },
 "nbformat": 4,
 "nbformat_minor": 5
}
