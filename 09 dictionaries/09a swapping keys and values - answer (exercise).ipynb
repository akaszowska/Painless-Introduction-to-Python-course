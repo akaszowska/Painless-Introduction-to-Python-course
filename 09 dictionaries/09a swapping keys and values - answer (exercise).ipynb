{
 "cells": [
  {
   "cell_type": "markdown",
   "id": "8cbe2da3",
   "metadata": {},
   "source": [
    "# swapping keys and values in dictionaries\n",
    "TASK: write a script that swaps keys and values in a dicitonary and tests if it was successful"
   ]
  },
  {
   "cell_type": "code",
   "execution_count": 6,
   "id": "44a2d356",
   "metadata": {},
   "outputs": [
    {
     "name": "stdout",
     "output_type": "stream",
     "text": [
      "yup, it worked.\n"
     ]
    }
   ],
   "source": [
    "number_names = {1: 'one', 2: 'two', 3: 'three', 4: 'four', 5: 'five'}\n",
    "\n",
    "inverse_number_names = dict()\n",
    "\n",
    "for digits in number_names.keys():\n",
    "    inverse_number_names[number_names[digits]] = digits\n",
    "\n",
    "if inverse_number_names[\"one\"] == 1:\n",
    "    print(\"yup, it worked.\")\n",
    "else:\n",
    "    print(\"nope, it did not work.\")"
   ]
  },
  {
   "cell_type": "markdown",
   "id": "9754f0b3",
   "metadata": {},
   "source": [
    "answer using dictionary comprehension:"
   ]
  },
  {
   "cell_type": "code",
   "execution_count": null,
   "id": "9eb5bbcd",
   "metadata": {},
   "outputs": [],
   "source": [
    "number_names = {1: 'one', 2: 'two', 3: 'three', 4: 'four', 5: 'five'}\n",
    "inverse_number_names = dict([(value, key) for key, value in number_names.items()])\n",
    "\n",
    "if inverse_number_names[\"one\"] == 1:\n",
    "    print(\"yup, it worked.\")\n",
    "else:\n",
    "    print(\"nope, it did not work.\")"
   ]
  },
  {
   "cell_type": "code",
   "execution_count": 1,
   "id": "510d3e9e",
   "metadata": {},
   "outputs": [
    {
     "name": "stdout",
     "output_type": "stream",
     "text": [
      "{'banana': 'yellow', 'apple': 'red', 'lime': 'green', 'grape': 'purple'}\n",
      "{'yellow': 'banana', 'red': 'apple', 'green': 'lime', 'purple': 'grape'}\n"
     ]
    }
   ],
   "source": [
    "fruit = {\"banana\": \"yellow\", \"apple\": \"red\", \n",
    "         \"lime\": \"green\", \"grape\": \"purple\"}\n",
    "\n",
    "colors = dict()\n",
    "\n",
    "for eachFruit in fruit:\n",
    "    colors[fruit[eachFruit]] = eachFruit\n",
    "    \n",
    "print(fruit)\n",
    "print(colors)"
   ]
  }
 ],
 "metadata": {
  "kernelspec": {
   "display_name": "Python 3 (ipykernel)",
   "language": "python",
   "name": "python3"
  },
  "language_info": {
   "codemirror_mode": {
    "name": "ipython",
    "version": 3
   },
   "file_extension": ".py",
   "mimetype": "text/x-python",
   "name": "python",
   "nbconvert_exporter": "python",
   "pygments_lexer": "ipython3",
   "version": "3.12.0"
  }
 },
 "nbformat": 4,
 "nbformat_minor": 5
}
