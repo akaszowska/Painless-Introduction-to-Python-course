{
 "cells": [
  {
   "cell_type": "markdown",
   "id": "8cbe2da3",
   "metadata": {},
   "source": [
    "# swapping keys and values in dictionaries\n",
    "TASK: write a script that swaps keys and values in a dicitonary and tests if it was successful"
   ]
  },
  {
   "cell_type": "code",
   "execution_count": null,
   "id": "44a2d356",
   "metadata": {},
   "outputs": [],
   "source": [
    "emptydictionary = dict()"
   ]
  }
 ],
 "metadata": {
  "kernelspec": {
   "display_name": "Python 3 (ipykernel)",
   "language": "python",
   "name": "python3"
  },
  "language_info": {
   "codemirror_mode": {
    "name": "ipython",
    "version": 3
   },
   "file_extension": ".py",
   "mimetype": "text/x-python",
   "name": "python",
   "nbconvert_exporter": "python",
   "pygments_lexer": "ipython3",
   "version": "3.12.0"
  }
 },
 "nbformat": 4,
 "nbformat_minor": 5
}
