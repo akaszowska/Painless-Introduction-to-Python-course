{
 "cells": [
  {
   "cell_type": "markdown",
   "id": "8cbe2da3",
   "metadata": {},
   "source": [
    "# swapping keys and values in dictionaries\n",
    "TASK: write a script that swaps keys and values in a dicitonary and tests if it was successful"
   ]
  },
  {
   "cell_type": "code",
   "execution_count": null,
   "id": "44a2d356",
   "metadata": {},
   "outputs": [],
   "source": [
    "# first, understand the challenge in terms of input/output: \n",
    "# input: I have a dictionary: {1: 'one', 2: 'two', 3: 'three', 4: 'four', 5: 'five'}\n",
    "# output: I want to create this dictionary: {'one': 1, 'two': 2, 'three': 3, 'four': 4, 'five': 5}\n",
    "\n",
    "# now, onto the code:\n",
    "# create a dictionary with at least five key-value pairs - this is the dictionary we will be \"swapping\"\n",
    "# anything can go into this dictionary \n",
    "\n",
    "# create an empty dictionary - this is where the \"swapped\" values will be placed\n",
    "\n",
    "# write a for loop, where every value from the first dictionary ('one') is added as a key to the empty dictionary\n",
    "# and every corresponding key from the first dictionary (1) is added as a value to the empty dictionary\n",
    "\n",
    "# then test if the swap was successful:\n",
    "# see if a value from the first dictionary is equal to the key from the second dictionary\n",
    "# and print \"worked\"/\"didn't work\" depending on the test outcome"
   ]
  },
  {
   "cell_type": "code",
   "execution_count": 6,
   "id": "d46e90bf",
   "metadata": {},
   "outputs": [
    {
     "name": "stdout",
     "output_type": "stream",
     "text": [
      "\n",
      "key is: blue\n",
      "key is: red\n",
      "key is: green\n",
      "{'pretty': 'blue', 'very pretty': 'red', 'extremely pretty': 'green'}\n"
     ]
    }
   ],
   "source": [
    "colors = {\n",
    "    \"blue\": \"pretty\", \n",
    "    \"red\": \"very pretty\",\n",
    "    \"green\": \"extremely pretty\"\n",
    "}\n",
    "print()\n",
    "newcolors = dict()\n",
    "\n",
    "for keys in colors.keys():\n",
    "    print(f\"key is: {keys}\")\n",
    "    newcolors[colors[keys]] = keys\n",
    "    \n",
    "print(newcolors)\n"
   ]
  },
  {
   "cell_type": "code",
   "execution_count": null,
   "id": "375673a2",
   "metadata": {},
   "outputs": [],
   "source": []
  }
 ],
 "metadata": {
  "kernelspec": {
   "display_name": "Python 3 (ipykernel)",
   "language": "python",
   "name": "python3"
  },
  "language_info": {
   "codemirror_mode": {
    "name": "ipython",
    "version": 3
   },
   "file_extension": ".py",
   "mimetype": "text/x-python",
   "name": "python",
   "nbconvert_exporter": "python",
   "pygments_lexer": "ipython3",
   "version": "3.12.0"
  }
 },
 "nbformat": 4,
 "nbformat_minor": 5
}
