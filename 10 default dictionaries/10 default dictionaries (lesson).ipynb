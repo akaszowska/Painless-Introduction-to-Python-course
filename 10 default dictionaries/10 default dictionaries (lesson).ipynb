{
 "cells": [
  {
   "cell_type": "markdown",
   "id": "89b4dd9d",
   "metadata": {},
   "source": [
    "# DEFAULT DICTIONARIES \n",
    "DEFINITION: a default dictionary is an empty dictionary, where if a missing key is called on, an empty integer (0) or an empty list is assigned automatically (instead of throwing a missing key error).\n",
    "\n",
    "Default dictionaries are useful when you are unsure of exact dictionary contents. "
   ]
  },
  {
   "cell_type": "code",
   "execution_count": null,
   "id": "3e544870",
   "metadata": {},
   "outputs": [],
   "source": [
    "from collections import defaultdict \n",
    "# this is important as defaultdictionaries are not part of \n",
    "# the standard python release\n",
    "# we will talk more about importing functions later in the course\n",
    "    \n",
    "wow = defaultdict(int) \n",
    "# uses 'empty' value of int, which is 0\n",
    "# we are creating a dictionary for which anything that is NOT in it, \n",
    "# the value is 0\n",
    "# any time we call on a key that does not exist, \n",
    "# that key gets automatically \n",
    "# created, and the assigned value is 0\n",
    "            \n",
    "print(wow['whatever'])    "
   ]
  },
  {
   "cell_type": "code",
   "execution_count": null,
   "id": "7da82c3d",
   "metadata": {},
   "outputs": [],
   "source": [
    "wow = defaultdict(list) \n",
    "# uses 'empty' value of list, which is an empty list\n",
    "# we are creating a dictionary for which anything that is NOT in it, \n",
    "# the value is an empty list\n",
    "# any time we call on a key that does not exist, \n",
    "# that key gets automatically \n",
    "# created, and the assigned value is an empty list\n",
    "            \n",
    "print(wow['whatever'])    "
   ]
  },
  {
   "cell_type": "code",
   "execution_count": null,
   "id": "b5240815",
   "metadata": {},
   "outputs": [],
   "source": [
    "from collections import defaultdict\n",
    "\n",
    "wow = defaultdict(lambda: \"potato\") # you can define the default string or integer\n",
    "print(wow['whatever'])  \n",
    "\n",
    "wow2 = defaultdict(lambda: 42) # you can define the default string or integer\n",
    "print(wow2['whatever']) "
   ]
  },
  {
   "cell_type": "code",
   "execution_count": null,
   "id": "c558c418",
   "metadata": {},
   "outputs": [],
   "source": [
    "from collections import defaultdict\n",
    "\n",
    "count_words = defaultdict(int)\n",
    "\n",
    "list_of_strings = ['potato', 'tomato', 'eggplant', 'mushroom', 'onion',\n",
    "                   'leek', 'garlic', 'squash', 'potato', 'potato',\n",
    "                   'squash', 'cucumber', 'cucumber']\n",
    "for veggie in list_of_strings:\n",
    "    count_words[veggie] += 1\n",
    "    print(veggie, \":\", count_words[veggie])\n",
    "    \n",
    "print(count_words)"
   ]
  },
  {
   "cell_type": "code",
   "execution_count": null,
   "id": "5684a1bc-93eb-49f3-a668-d042f0eaf675",
   "metadata": {},
   "outputs": [],
   "source": []
  }
 ],
 "metadata": {
  "kernelspec": {
   "display_name": "Python 3 (ipykernel)",
   "language": "python",
   "name": "python3"
  },
  "language_info": {
   "codemirror_mode": {
    "name": "ipython",
    "version": 3
   },
   "file_extension": ".py",
   "mimetype": "text/x-python",
   "name": "python",
   "nbconvert_exporter": "python",
   "pygments_lexer": "ipython3",
   "version": "3.12.0"
  }
 },
 "nbformat": 4,
 "nbformat_minor": 5
}
