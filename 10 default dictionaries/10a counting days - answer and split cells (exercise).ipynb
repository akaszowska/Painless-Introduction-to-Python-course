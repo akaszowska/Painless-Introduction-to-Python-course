{
 "cells": [
  {
   "cell_type": "markdown",
   "id": "409ec074",
   "metadata": {},
   "source": [
    "# count days between two user-defined dates: exercise (answers)\n",
    "TASK: write a script that calculates how many days are between two user-defined dates\n",
    "\n",
    "confirm that your results are correct here: https://www.timeanddate.com/date/duration.html\n",
    "\n",
    "PLEASE NOTE: if you google this challenge, you will find a very simple and elegant solution using datetime package. Try writing this script WITHOUT using datetime, and using your own logic and the programming knowledge you have from class.\n",
    "\n",
    "If you are having trouble putting this into code, try writing a flowchart of your algorithm.\n",
    "\n",
    "There will NOT be one correct answer to this challenge. "
   ]
  },
  {
   "cell_type": "markdown",
   "id": "2e9c59c7",
   "metadata": {},
   "source": [
    "## code starts below this line (split into cells)"
   ]
  },
  {
   "cell_type": "markdown",
   "id": "7bec0531",
   "metadata": {},
   "source": [
    "### assumptions/constants:"
   ]
  },
  {
   "cell_type": "markdown",
   "id": "7f700666",
   "metadata": {},
   "source": [
    "a leap year occurs every 4 years except years 1700, 1800, 1900, and 2100:"
   ]
  },
  {
   "cell_type": "code",
   "execution_count": 1,
   "id": "3843b0ce",
   "metadata": {},
   "outputs": [],
   "source": [
    "leapYears = set(range(1700, 2500, 4)) - {1700, 1800, 1900, 2100}"
   ]
  },
  {
   "cell_type": "markdown",
   "id": "ee522f53",
   "metadata": {},
   "source": [
    "different months have different durations:"
   ]
  },
  {
   "cell_type": "code",
   "execution_count": 2,
   "id": "b391002b",
   "metadata": {},
   "outputs": [],
   "source": [
    "daysInMonthDict = {1: 31, 2: 28, 3: 31, 4: 30, 5: 31, 6: 30, 7: 31, 8: 31, 9: 30, 10: 31, 11: 30, 12: 31}"
   ]
  },
  {
   "cell_type": "markdown",
   "id": "89881167",
   "metadata": {},
   "source": [
    "ask user to specify dates:"
   ]
  },
  {
   "cell_type": "code",
   "execution_count": 3,
   "id": "18241fd0",
   "metadata": {},
   "outputs": [
    {
     "name": "stdout",
     "output_type": "stream",
     "text": [
      "Please choose a date using DD MM YYYY format: 28 09 2022\n",
      "Please choose another date using DD MM YYYY format: 20 07 1989\n"
     ]
    }
   ],
   "source": [
    "InputA = input(\"Please choose a date using DD MM YYYY format: \")\n",
    "InputB = input(\"Please choose another date using DD MM YYYY format: \")"
   ]
  },
  {
   "cell_type": "markdown",
   "id": "ed94aeaf",
   "metadata": {},
   "source": [
    "which date is earlier? specify start and end dates to calculation:"
   ]
  },
  {
   "cell_type": "code",
   "execution_count": 4,
   "id": "b1652cc1",
   "metadata": {},
   "outputs": [],
   "source": [
    "ACompare = int(f\"{InputA.split()[2]}{InputA.split()[1]}{InputA.split()[0]}\")\n",
    "BCompare = int(f\"{InputB.split()[2]}{InputB.split()[1]}{InputB.split()[0]}\")\n",
    "\n",
    "if ACompare < BCompare: # if inputA is an earlier date\n",
    "    firstDate = InputA\n",
    "    secondDate = InputB\n",
    "else: \n",
    "    firstDate = InputB\n",
    "    secondDate = InputA"
   ]
  },
  {
   "cell_type": "markdown",
   "id": "95bac1cd",
   "metadata": {},
   "source": [
    "convert user-specified dates to integers:"
   ]
  },
  {
   "cell_type": "code",
   "execution_count": 5,
   "id": "45e644b2",
   "metadata": {},
   "outputs": [],
   "source": [
    "firstDay, firstMonth, firstYear = int(firstDate.split()[0]), int(firstDate.split()[1]), int(firstDate.split()[2])\n",
    "secondDay, secondMonth, secondYear = int(secondDate.split()[0]), int(secondDate.split()[1]), int(secondDate.split()[2])"
   ]
  },
  {
   "cell_type": "markdown",
   "id": "69183d95",
   "metadata": {},
   "source": [
    "### algorithm:"
   ]
  },
  {
   "cell_type": "markdown",
   "id": "1df93381",
   "metadata": {},
   "source": [
    "#### FIRST STEP: calculate how many days are between the earlier date user specified, and the end of that calendar year"
   ]
  },
  {
   "cell_type": "code",
   "execution_count": 6,
   "id": "9312a419",
   "metadata": {},
   "outputs": [],
   "source": [
    "# days between firstDate and end of year\n",
    "firstToEnd = 0\n",
    "\n",
    "# days to the end of month\n",
    "firstToEnd += daysInMonthDict[firstMonth] - firstDay\n",
    "\n",
    "# full months to the end of year\n",
    "monthsAfterFirst = list(range(firstMonth+1, 13))\n",
    "for month in monthsAfterFirst:\n",
    "    firstToEnd += daysInMonthDict[month]\n",
    "\n",
    "# is firstYear a leap year and firstDay&firstMonth on or before February 29?\n",
    "if firstMonth <= 2 and firstYear in leapYears: # before leap day\n",
    "    firstToEnd += 1"
   ]
  },
  {
   "cell_type": "markdown",
   "id": "66f0b34d",
   "metadata": {},
   "source": [
    "#### SECOND STEP: calculate how many days are between the later date user specified, and the beginning of that calendar year"
   ]
  },
  {
   "cell_type": "code",
   "execution_count": 7,
   "id": "1c4e32a6",
   "metadata": {},
   "outputs": [],
   "source": [
    "# days between secondDate and beginning of year:\n",
    "secondToBeginning = 0\n",
    "secondToBeginning += secondDay\n",
    "\n",
    "# full months between secondDate and beginning of year:\n",
    "monthsBeforeSecond = list(range(1,secondMonth))\n",
    "for month in monthsBeforeSecond:\n",
    "    secondToBeginning += daysInMonthDict[month]                    \n",
    "\n",
    "# is secondYear a leap year and secondDay&secondMonth on or after Feb29?\n",
    "if secondMonth <= 2 and firstYear in leapYears: # after leap day\n",
    "    secondToBeginning += 1"
   ]
  },
  {
   "cell_type": "markdown",
   "id": "cd9c4ebc",
   "metadata": {},
   "source": [
    "#### THIRD STEP: calculate how many days there are in the full years between dates"
   ]
  },
  {
   "cell_type": "code",
   "execution_count": 8,
   "id": "cf6a6d3b",
   "metadata": {},
   "outputs": [],
   "source": [
    "# days in full years between dates\n",
    "YearsBtwn = set(range(firstYear+1, secondYear))\n",
    "leapYearsBtwn = leapYears.intersection(YearsBtwn)                     \n",
    "inBetween = int(len(YearsBtwn) * 365) + int(len(leapYearsBtwn))   "
   ]
  },
  {
   "cell_type": "markdown",
   "id": "207a1907",
   "metadata": {},
   "source": [
    "#### FOURTH STEP: calculate sum total"
   ]
  },
  {
   "cell_type": "code",
   "execution_count": 9,
   "id": "f2e1c9a2",
   "metadata": {},
   "outputs": [],
   "source": [
    "# this formula works if days are in different calendar years:\n",
    "if firstYear != secondYear:\n",
    "    howManyDays = firstToEnd + secondToBeginning + inBetween\n",
    "# this formula works if days are in same calendar year:\n",
    "else:\n",
    "    howManyDays = 365 - firstToEnd - secondToBeginning"
   ]
  },
  {
   "cell_type": "markdown",
   "id": "209c3345",
   "metadata": {},
   "source": [
    "#### FIFTH STEP: print results"
   ]
  },
  {
   "cell_type": "code",
   "execution_count": 10,
   "id": "ca60004f",
   "metadata": {},
   "outputs": [
    {
     "name": "stdout",
     "output_type": "stream",
     "text": [
      "28 09 2022 and 20 07 1989 are 12123 days apart!\n"
     ]
    }
   ],
   "source": [
    "if ACompare == BCompare:\n",
    "    print(f\"{InputA} and {InputB} are the same date, and therefore they are exactly 0 days apart!\")\n",
    "else:\n",
    "    print(f\"{InputA} and {InputB} are {abs(howManyDays)} days apart!\")"
   ]
  }
 ],
 "metadata": {
  "kernelspec": {
   "display_name": "Python 3 (ipykernel)",
   "language": "python",
   "name": "python3"
  },
  "language_info": {
   "codemirror_mode": {
    "name": "ipython",
    "version": 3
   },
   "file_extension": ".py",
   "mimetype": "text/x-python",
   "name": "python",
   "nbconvert_exporter": "python",
   "pygments_lexer": "ipython3",
   "version": "3.12.0"
  }
 },
 "nbformat": 4,
 "nbformat_minor": 5
}
