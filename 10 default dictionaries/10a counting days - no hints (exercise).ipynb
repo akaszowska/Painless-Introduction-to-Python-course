{
 "cells": [
  {
   "cell_type": "markdown",
   "id": "a1c104f0",
   "metadata": {},
   "source": [
    "# count days between two user-defined dates: exercise\n",
    "write a script that calculates how many days are between two user-defined dates\n",
    "\n",
    "confirm that your results are correct here: https://www.timeanddate.com/date/duration.html\n",
    "\n",
    "PLEASE NOTE: if you google this challenge, you will find a very simple and elegant solution using datetime package. Try writing this script WITHOUT using datetime, and using your own logic and the programming knowledge you have from class.\n",
    "\n",
    "If you are having trouble putting this into code, try writing a flowchart of your algorithm\n",
    "\n",
    "There will NOT be one correct answer to this challenge; the hints below are hints to the code I wrote, but there are more ways you can solve this problem"
   ]
  },
  {
   "cell_type": "code",
   "execution_count": null,
   "id": "942e10b6",
   "metadata": {},
   "outputs": [],
   "source": []
  }
 ],
 "metadata": {
  "kernelspec": {
   "display_name": "Python 3 (ipykernel)",
   "language": "python",
   "name": "python3"
  },
  "language_info": {
   "codemirror_mode": {
    "name": "ipython",
    "version": 3
   },
   "file_extension": ".py",
   "mimetype": "text/x-python",
   "name": "python",
   "nbconvert_exporter": "python",
   "pygments_lexer": "ipython3",
   "version": "3.12.0"
  }
 },
 "nbformat": 4,
 "nbformat_minor": 5
}
