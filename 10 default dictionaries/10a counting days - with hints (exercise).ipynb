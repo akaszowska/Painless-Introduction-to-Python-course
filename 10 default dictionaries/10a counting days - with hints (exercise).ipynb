{
 "cells": [
  {
   "cell_type": "markdown",
   "id": "039acc32-01ba-4dc6-96b1-58cebad59229",
   "metadata": {},
   "source": [
    "# count days between two user-defined dates"
   ]
  },
  {
   "cell_type": "markdown",
   "id": "c6a1da37",
   "metadata": {},
   "source": [
    "# HINT: SPLITTING CELLS\n",
    "typically in class, we write a lot of code in one cell, and we add #comments to it. When we then run a cell, all the code in that cell is executed. This is fine when there is not that much code in a cell.\n",
    "\n",
    "with a challenge like this one, there are several steps you need to complete. Each step is a series of calculations. It is easier if you split your code across cells: if each cell contains one step, or even one little calculation. That way when you run just that one cell, you can see if your piece of code is working (instead of running all the code, all the time). \n",
    "\n",
    "so the hints below are split into cells, step-by-step. \n",
    "\n",
    "when you execute a cell, JupyterNotebooks remembers the output: so if you define a variable in cell1, and then run that cell: your variable will still be available to you in cell5, etc. "
   ]
  },
  {
   "cell_type": "markdown",
   "id": "a1c104f0",
   "metadata": {},
   "source": [
    "# count days between two user-defined dates\n",
    "write a script that calculates how many days are between two user-defined dates\n",
    "\n",
    "confirm that your results are correct here: https://www.timeanddate.com/date/duration.html\n",
    "\n",
    "PLEASE NOTE: if you google this challenge, you will find a very simple and elegant solution using datetime package. Try writing this script WITHOUT using datetime, and using your own logic and the programming knowledge you have from class.\n",
    "\n",
    "If you are having trouble putting this into code, try writing a flowchart of your algorithm\n",
    "\n",
    "There will NOT be one correct answer to this challenge; the hints below are hints to the code I wrote, but there are more ways you can solve this problem"
   ]
  },
  {
   "cell_type": "code",
   "execution_count": null,
   "id": "942e10b6",
   "metadata": {},
   "outputs": [],
   "source": [
    "### define assumptions ### \n",
    "# a leap year occurs every 4 years except years 1700, 1800, 1900, and 2100\n",
    "\n",
    "# different months have different durations\n",
    "\n",
    "### end of assumptions ###"
   ]
  },
  {
   "cell_type": "code",
   "execution_count": null,
   "id": "59d757c4",
   "metadata": {},
   "outputs": [],
   "source": [
    "# ask user to specify two dates\n",
    "# hint: when you are writing code, and troubleshooting it, you can define your own dates here\n",
    "# this means that you define two dates that you want to use as variables, and then write the rest of your code\n",
    "# once your code works, you come back to this cell and convert your variables into input()\n",
    "\n",
    "# remember that input function always returns a string!\n",
    "# also remember that your user might want to put a later date as the first input, and an earlier date as the second input\n",
    "# you need to tell users exactly what to do, otherwise they will do silly things that can mess up your code"
   ]
  },
  {
   "cell_type": "markdown",
   "id": "f71528f9",
   "metadata": {},
   "source": [
    "procedure/algorithm: \n",
    "\n",
    "first, calculate how many days are between the earlier date user specified, and end of that calendar year (Dec 31)\n",
    "\n",
    "second, calculate how many days are between the later date user specified, and beginning of that calendar year (Jan 1)\n",
    "\n",
    "third, calculate how many days are in the full years between the two dates specified\n",
    "\n",
    "fourth, calculate the total result\n",
    "\n",
    "fifth, print the results"
   ]
  },
  {
   "cell_type": "code",
   "execution_count": null,
   "id": "a3bb12b7",
   "metadata": {},
   "outputs": [],
   "source": [
    "### FIRST STEP: calculate how many days are between the earlier date user specified, and the end of that calendar year\n",
    "# create empty counter for days between first-date and end of calendar year\n",
    "\n",
    "# add days to the end of month\n",
    "\n",
    "# add days in full months to the end of year\n",
    "\n",
    "# is year-from-first-date a leap year and date-and-month-from-first-date on or before February 29?\n",
    "# if yes, add one day to calculation\n"
   ]
  },
  {
   "cell_type": "code",
   "execution_count": null,
   "id": "8fc6757f",
   "metadata": {},
   "outputs": [],
   "source": [
    "### SECOND STEP: calculate how many days are between the later date user specified, and the beginning of that calendar year\n",
    "# create empty counter for days between second-date and beginning of year:\n",
    "\n",
    "# add days from beginning of the month to second-date-day:\n",
    "\n",
    "# add days in full months between second-date and beginning of year:\n",
    "\n",
    "# is secondYear a leap year and secondDay&secondMonth on or after Feb29?\n",
    "# if yes, add one day to calculation\n"
   ]
  },
  {
   "cell_type": "code",
   "execution_count": null,
   "id": "eea6b3cb",
   "metadata": {},
   "outputs": [],
   "source": [
    "### THIRD STEP: calculate how many days there are in the full years between dates"
   ]
  },
  {
   "cell_type": "code",
   "execution_count": null,
   "id": "bb7dec3d",
   "metadata": {},
   "outputs": [],
   "source": [
    "### FOURTH STEP: calculate sum total: days from first step plus days from second step plus days from third step"
   ]
  },
  {
   "cell_type": "code",
   "execution_count": null,
   "id": "ba14d677",
   "metadata": {},
   "outputs": [],
   "source": [
    "### FIFTH STEP: print results"
   ]
  }
 ],
 "metadata": {
  "kernelspec": {
   "display_name": "Python 3 (ipykernel)",
   "language": "python",
   "name": "python3"
  },
  "language_info": {
   "codemirror_mode": {
    "name": "ipython",
    "version": 3
   },
   "file_extension": ".py",
   "mimetype": "text/x-python",
   "name": "python",
   "nbconvert_exporter": "python",
   "pygments_lexer": "ipython3",
   "version": "3.12.0"
  }
 },
 "nbformat": 4,
 "nbformat_minor": 5
}
