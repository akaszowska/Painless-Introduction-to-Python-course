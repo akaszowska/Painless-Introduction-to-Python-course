{
 "cells": [
  {
   "cell_type": "markdown",
   "id": "775afe44",
   "metadata": {},
   "source": [
    "# NESTING\n",
    "Nesting is making a list of dictionaries, or a list of items as a value in a dictionary."
   ]
  },
  {
   "cell_type": "code",
   "execution_count": null,
   "id": "9fcfd2ff",
   "metadata": {},
   "outputs": [],
   "source": [
    "# a list of dictionaries\n",
    "\n",
    "# each fruit is it's own dictionary\n",
    "fruit_1 = {'type': 'apple', 'color': 'red'}\n",
    "fruit_2 = {'type': 'banana', 'color': 'yellow'}\n",
    "fruit_3 = {'type': 'pear', 'color': 'green'}\n",
    "\n",
    "# list of dictionaries / list of fruit\n",
    "fruit = [fruit_1, fruit_2, fruit_3]\n",
    "\n",
    "for eachOne in fruit:\n",
    "    print(eachOne)"
   ]
  },
  {
   "cell_type": "code",
   "execution_count": null,
   "id": "34dda226",
   "metadata": {
    "scrolled": true
   },
   "outputs": [],
   "source": [
    "# make a basket of 15 identical fruit (apples)\n",
    "\n",
    "# Make an empty list for storing apples\n",
    "fruit = []\n",
    "\n",
    "# Make 15 red apples\n",
    "for apple_number in range(15):\n",
    "    new_apple = {'type': 'apple', 'color': 'red', 'size': 'medium', 'taste': 'sweet'}\n",
    "    fruit.append(new_apple)\n",
    "    \n",
    "# Show the first 5 apples\n",
    "for apple in fruit[:5]:\n",
    "    print(apple)\n",
    "print(\"...\")\n",
    "\n",
    "#Show how many apples you created\n",
    "print(f\"Total number of apples in the basket: {len(fruit)}\")"
   ]
  },
  {
   "cell_type": "code",
   "execution_count": null,
   "id": "9dd3c916",
   "metadata": {},
   "outputs": [],
   "source": [
    "# modify first 3 fruit to be green pears\n",
    "\n",
    "# Make an empty list for storing apples\n",
    "fruit = []\n",
    "\n",
    "# Make 15 red apples\n",
    "for apple_number in range(15):\n",
    "    new_apple = {'type': 'apple', 'color': 'red', 'size': 'medium', 'taste': 'sweet'}\n",
    "    fruit.append(new_apple)\n",
    "    \n",
    "# modify first three\n",
    "for eachOne in fruit[:3]:\n",
    "    if eachOne['type'] == 'apple':\n",
    "        eachOne['type'] = 'pear'\n",
    "        eachOne['color'] = 'green'\n",
    "        \n",
    "# show the first 5 fruit\n",
    "for eachOne in fruit[:5]:\n",
    "    print(eachOne)"
   ]
  },
  {
   "cell_type": "markdown",
   "id": "02cfa193",
   "metadata": {},
   "source": [
    "   \n",
    "   \n",
    "    \n",
    "       "
   ]
  },
  {
   "cell_type": "code",
   "execution_count": null,
   "id": "a49648e7",
   "metadata": {},
   "outputs": [],
   "source": [
    "# modify first 3 fruit to be green pears, and then all bananas to be blue\n",
    "\n",
    "# Make an empty list for storing apples\n",
    "fruit = []\n",
    "\n",
    "# Make 15 red apples\n",
    "for apple_number in range(15):\n",
    "    new_apple = {'type': 'apple', 'color': 'red', 'size': 'medium', 'taste': 'sweet'}\n",
    "    fruit.append(new_apple)\n",
    "    \n",
    "# modify first three\n",
    "for eachOne in fruit[:3]:\n",
    "    if eachOne['type'] == 'apple':\n",
    "        eachOne['type'] = 'pear'\n",
    "        eachOne['color'] = 'green'\n",
    "    elif eachOne['type'] == 'banana':\n",
    "        eachOne['color'] = 'blue'\n",
    "        \n",
    "# show the first 5 fruit\n",
    "for eachOne in fruit[:5]:\n",
    "    print(eachOne)"
   ]
  },
  {
   "cell_type": "markdown",
   "id": "98a40440",
   "metadata": {},
   "source": [
    "## a list in a dictionary"
   ]
  },
  {
   "cell_type": "code",
   "execution_count": null,
   "id": "111c57d5",
   "metadata": {},
   "outputs": [],
   "source": [
    "# In the following example, two kinds of information are stored for each\n",
    "# child: their age and a list of their favorite candy. The list of candy is a value\n",
    "# associated with the key 'candy'. To use the items in the list, we give the\n",
    "# name of the dictionary and the key 'candy', as we would any value in the\n",
    "# dictionary. Instead of returning a single value, we get a list of candies:\n",
    "\n",
    "# Store information about a child:\n",
    "Timmy = {\n",
    "    'age': '8',\n",
    "    'candy': ['snickers', 'mars'],\n",
    "    }\n",
    "\n",
    "# Summarize the dictionary.\n",
    "print(f\"Timmy is {Timmy['age']} years old and his favorite Halloween candy are:\")\n",
    "for eachCandy in Timmy['candy']:\n",
    "    print(\"\\t\" + eachCandy)\n",
    "    \n",
    "# You can nest a list inside a dictionary any time you want more than\n",
    "# one value to be associated with a single key in a dictionary."
   ]
  },
  {
   "cell_type": "code",
   "execution_count": null,
   "id": "b00fe83d",
   "metadata": {},
   "outputs": [],
   "source": [
    "Halloween = {\n",
    "    'timmy': ['snickers','mars'],\n",
    "    'suzie': ['skittles','kitkat'],\n",
    "    'joey': ['haribo','snickers'],\n",
    "    'johnny': ['candy corn','mars'],\n",
    "    'hanna': ['haribo'],\n",
    "    }\n",
    "\n",
    "for name, candies in Halloween.items():\n",
    "    print(f\"\\n{name.title()} likes the following candies:\")\n",
    "    for candy in candies:\n",
    "        print(f\"\\t{candy.title()}\")\n",
    "        \n",
    "# You should not nest lists and dictionaries too deeply. If you’re nesting items much\n",
    "# deeper than what you see in the preceding examples or you’re working with someone\n",
    "# else’s code with significant levels of nesting, most likely a simpler way to solve the\n",
    "# problem exists."
   ]
  },
  {
   "cell_type": "markdown",
   "id": "990c35d8",
   "metadata": {},
   "source": [
    "## a dictionary in a dictionary"
   ]
  },
  {
   "cell_type": "code",
   "execution_count": null,
   "id": "ddfd3cc7",
   "metadata": {},
   "outputs": [],
   "source": [
    "# a dictionary in a dictionary\n",
    "\n",
    "# For example, if you have several users\n",
    "# for a website, each with a unique username, you can use the usernames as\n",
    "# the keys in a dictionary. You can then store information about each user by\n",
    "# using a dictionary as the value associated with their username. In the following\n",
    "# listing, we store three pieces of information about each user: their\n",
    "# first name, last name, and location.\n",
    "\n",
    "users = {\n",
    "    'msco': {\n",
    "        'first': 'michael',\n",
    "        'last': 'scott',\n",
    "        'position': 'regional manager',\n",
    "        },\n",
    "    'dshr': {\n",
    "        'first': 'dwight',\n",
    "        'last': 'shrute',\n",
    "        'position': 'assistant to the regional manager',\n",
    "        },\n",
    "    }\n",
    "\n",
    "for username, user_info in users.items():\n",
    "    print(f\"\\nUsername: {username}\")\n",
    "    full_name = f\"{user_info['first']} {user_info['last']}\"\n",
    "    position = user_info['position']\n",
    "\n",
    "    print(f\"\\tFull name: {full_name.title()}\")\n",
    "    print(f\"\\tJob title: {position.title()}\")"
   ]
  }
 ],
 "metadata": {
  "kernelspec": {
   "display_name": "Python 3 (ipykernel)",
   "language": "python",
   "name": "python3"
  },
  "language_info": {
   "codemirror_mode": {
    "name": "ipython",
    "version": 3
   },
   "file_extension": ".py",
   "mimetype": "text/x-python",
   "name": "python",
   "nbconvert_exporter": "python",
   "pygments_lexer": "ipython3",
   "version": "3.12.0"
  }
 },
 "nbformat": 4,
 "nbformat_minor": 5
}
