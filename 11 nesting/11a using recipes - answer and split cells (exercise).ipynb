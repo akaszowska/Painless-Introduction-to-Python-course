{
 "cells": [
  {
   "cell_type": "markdown",
   "id": "9c247009",
   "metadata": {},
   "source": [
    "# making recipes from a cookbook - part a\n",
    "Make a grocery list based on recipes below. \n",
    "\n",
    "your program will first list available recipes, then ask the user to select a recipe and how many portions the user wants to cook. Then the program will list:\n",
    "- how much of each ingredient the user will need to make the specified number of portions of a recipe (for example, how much of each ingredient do I need to make two portions of brownies?)\n",
    "- how much of each ingredient the user will need to make one portion of ALL available recipes (if I want to bake one of everything, how much of each ingredient will I use, in total?)\n",
    "- how much of each ingredient the user will need to make the specified number of portions of ALL available recipes (for example, if I want to invite 5 friends over, and bake 5 portions of each recipe for them, how much of each ingredient will I use, in total?)\n",
    "\n",
    "# part b\n",
    "using the same recipes, ask user to input what they have in the kitchen (and how much), and list:\n",
    "- which recipes they can make one portion of (given what I have in the kitchen, what can I bake from the cookbook?)\n",
    "- which recipes they can make a specified portion of (given what I have in the kitchen, if I want to bake five portions, what can I bake?)\n",
    "\n",
    "# part c\n",
    "using the same recipes, allow the user to add new recipes to the cookbook - uses a while loop, ignore if we have not yet covered while loops"
   ]
  },
  {
   "cell_type": "markdown",
   "id": "951a0ab1",
   "metadata": {},
   "source": [
    "## recipes \n",
    "(each recipe is for 1 portion, and 1 portion can feed 4 people - if you want to make enough for just one person, then you need 1/4 portion): \n",
    "\n",
    "brownies: 1 1/2 cups sugar, 3/4 cups flour, 2/3 cup cocoa powder, 1/2 cup sugar, 1/2 cup chocolate chips, 3/4 teaspoon salt, 2 eggs, 1/2 cup oil, 2 tablespoons water, 1/2 teaspoon vanilla\n",
    "\n",
    "pancakes: 1 1/2 cup flour, 3 1/2 teaspoons baking powder, 1/4 teaspoon salt, 1 tablespoon sugar, 1 egg, 3 tablespoons butter, 1 cup milk\n",
    "\n",
    "muffins: 2 cups flour, 3 teaspoons baking powder, 1/2 teaspoon salt, 3/4 cup sugar, 1 egg, 1 cup milk, 1/4 cup oil"
   ]
  },
  {
   "cell_type": "markdown",
   "id": "cceb724d",
   "metadata": {},
   "source": [
    "## code starts below"
   ]
  },
  {
   "cell_type": "markdown",
   "id": "b4e61503",
   "metadata": {},
   "source": [
    "### import functions:"
   ]
  },
  {
   "cell_type": "code",
   "execution_count": null,
   "id": "a9c123c1",
   "metadata": {},
   "outputs": [],
   "source": [
    "from collections import defaultdict"
   ]
  },
  {
   "cell_type": "markdown",
   "id": "aad62461",
   "metadata": {},
   "source": [
    "### assumptions/constants:\n",
    "recipe dictionary"
   ]
  },
  {
   "cell_type": "code",
   "execution_count": null,
   "id": "6ded63e5",
   "metadata": {},
   "outputs": [],
   "source": [
    "ingredients = dict()\n",
    "\n",
    "# every value of this dict is a list of items\n",
    "# item format: [<amount>, <unit>, <ingredient>]\n",
    "\n",
    "ingredients[\"brownies\"] = [[1.5, \"cup\", \"sugar\"],\n",
    "                           [0.75, \"cup\", \"flour\"],\n",
    "                           [0.66, \"cup\", \"cocoa powder\"],\n",
    "                           [0.5, \"cup\", \"chocolate chips\"],\n",
    "                           [2, \"piece\", \"egg\"],\n",
    "                           [0.5, \"cup\", \"oil\"],\n",
    "                           [2, \"tablespoon\", \"water\"],\n",
    "                           [0.5, \"teaspoon\", \"vanilla\"]]\n",
    "\n",
    "ingredients[\"pancakes\"] = [[1.5, \"cup\", \"flour\"],\n",
    "                           [3.5, \"teaspoon\", \"baking powder\"],\n",
    "                           [0.25, \"teaspoon\", \"salt\"],\n",
    "                           [1, \"cup\", \"milk\"],\n",
    "                           [1, \"tablespoon\", \"sugar\"],\n",
    "                           [1, \"piece\", \"egg\"]]\n",
    "\n",
    "ingredients[\"muffins\"] = [[2, \"cup\", \"flour\"],\n",
    "                          [3, \"teaspoon\", \"baking powder\"],\n",
    "                          [0.5, \"teaspoon\", \"salt\"],\n",
    "                          [0.75, \"cup\", \"sugar\"],\n",
    "                          [1, \"cup\", \"milk\"],\n",
    "                          [0.25, \"cup\", \"oil\"],\n",
    "                          [1, \"piece\", \"egg\"]]\n"
   ]
  },
  {
   "cell_type": "markdown",
   "id": "f97717ef",
   "metadata": {},
   "source": [
    "### operations:"
   ]
  },
  {
   "cell_type": "markdown",
   "id": "21bbc0b6",
   "metadata": {},
   "source": [
    "list available recipes:"
   ]
  },
  {
   "cell_type": "code",
   "execution_count": null,
   "id": "bb59aad3",
   "metadata": {},
   "outputs": [],
   "source": [
    "print(\"These recipes are available:\\n\")\n",
    "for availableRecipes in ingredients:\n",
    "    print(availableRecipes)\n",
    "print(\"\\n\")"
   ]
  },
  {
   "cell_type": "markdown",
   "id": "990a6e76",
   "metadata": {},
   "source": [
    "user input: what would you like to bake?"
   ]
  },
  {
   "cell_type": "code",
   "execution_count": null,
   "id": "2a15d927",
   "metadata": {},
   "outputs": [],
   "source": [
    "wantedName = input(\"What would you like to bake? \")"
   ]
  },
  {
   "cell_type": "markdown",
   "id": "1e743be0",
   "metadata": {},
   "source": [
    "to bake one portion of wanted recipe: "
   ]
  },
  {
   "cell_type": "code",
   "execution_count": null,
   "id": "41099e84",
   "metadata": {},
   "outputs": [],
   "source": [
    "print(\"To bake one portion of\", wantedName, \"you will need:\\n\")\n",
    "for eachIngredient in ingredients[wantedName]:\n",
    "       print(eachIngredient[0],eachIngredient[1]+\"s\",eachIngredient[2])"
   ]
  },
  {
   "cell_type": "markdown",
   "id": "12c51a60",
   "metadata": {},
   "source": [
    "user input: how many would you like to bake?"
   ]
  },
  {
   "cell_type": "code",
   "execution_count": null,
   "id": "71aa1022",
   "metadata": {},
   "outputs": [],
   "source": [
    "wantedAmount = float(input(\"How many portions? \"))"
   ]
  },
  {
   "cell_type": "markdown",
   "id": "63eae7b2",
   "metadata": {},
   "source": [
    "to make X amount you need the following shopping list:"
   ]
  },
  {
   "cell_type": "code",
   "execution_count": null,
   "id": "5b959996",
   "metadata": {},
   "outputs": [],
   "source": [
    "print(\"To bake\", wantedAmount, \"portions of\", wantedName, \"you need:\\n\")\n",
    "for neededIngredient in ingredients[wantedName]:\n",
    "    neededAmount = neededIngredient[0] * wantedAmount\n",
    "    print(neededAmount, neededIngredient[1]+\"s of\", neededIngredient[2])"
   ]
  },
  {
   "cell_type": "markdown",
   "id": "1c120e1b",
   "metadata": {},
   "source": [
    "to make one portion of each recipe in cookbook:"
   ]
  },
  {
   "cell_type": "code",
   "execution_count": null,
   "id": "39fc94a5",
   "metadata": {},
   "outputs": [],
   "source": [
    "ultimateAmount = defaultdict(float)\n",
    "ultimateUnit = dict()\n",
    "\n",
    "for availableRecipes in ingredients:\n",
    "    for eachIngredient in ingredients[availableRecipes]:\n",
    "        ultimateAmount[eachIngredient[2]] += eachIngredient[0]\n",
    "        ultimateUnit[eachIngredient[2]] = eachIngredient[1]\n",
    "\n",
    "print(\"To bake one portion of all available recipes you need to buy:\\n\")\n",
    "for eachIngredient in ultimateAmount:\n",
    "    print(ultimateAmount[eachIngredient], ultimateUnit[eachIngredient]+\"s of\", eachIngredient)"
   ]
  },
  {
   "cell_type": "markdown",
   "id": "ded998fa",
   "metadata": {},
   "source": [
    "## part b code"
   ]
  },
  {
   "cell_type": "markdown",
   "id": "266e83e6",
   "metadata": {},
   "source": [
    "how much of each ingredient do you have at home? user input"
   ]
  },
  {
   "cell_type": "code",
   "execution_count": null,
   "id": "b90facf6",
   "metadata": {},
   "outputs": [],
   "source": [
    "userAmount = dict()\n",
    "skipRedundancy = set()\n",
    "\n",
    "for availableRecipes in ingredients:\n",
    "    for eachIngredient in ingredients[availableRecipes]:\n",
    "        if eachIngredient[2] in skipRedundancy:\n",
    "            pass\n",
    "        else:\n",
    "            userAmount[eachIngredient[2]] = float(input(f\"how many {eachIngredient[1]}s of {eachIngredient[2]} do you have? \"))\n",
    "            skipRedundancy.add(eachIngredient[2])\n",
    "            \n",
    "print(userAmount)"
   ]
  },
  {
   "cell_type": "markdown",
   "id": "953930b6",
   "metadata": {},
   "source": [
    "do you have enough ingredients in your kitchen to bake one portion of recipe of choice (user input)?"
   ]
  },
  {
   "cell_type": "code",
   "execution_count": null,
   "id": "9a687bb3",
   "metadata": {},
   "outputs": [],
   "source": [
    "recipeCheck = input(\"I would like to bake one portion of: \")\n",
    "missingIngredient = list()\n",
    "\n",
    "for eachIngredient in ingredients[recipeCheck]:\n",
    "    if eachIngredient[0] > userAmount[eachIngredient[2]]:\n",
    "        missingIngredient.append(eachIngredient[2])\n",
    "        \n",
    "if len(missingIngredient) == 0:\n",
    "    print(f\"CONGRATULATIONS! You can bake one portion of {recipeCheck}!\")\n",
    "else: \n",
    "    print(f\"Sorry, you do not have enough of: {missingIngredient}.\")"
   ]
  },
  {
   "cell_type": "markdown",
   "id": "31b2a651",
   "metadata": {},
   "source": [
    "which recipes could you make one portion of, given the ingredients you have in your kitchen?"
   ]
  },
  {
   "cell_type": "code",
   "execution_count": null,
   "id": "64cb020b",
   "metadata": {},
   "outputs": [],
   "source": [
    "canMake = set()\n",
    "\n",
    "for availableRecipes in ingredients:\n",
    "    for eachIngredient in ingredients[availableRecipes]:           \n",
    "        if eachIngredient[0] <= userAmount[eachIngredient[2]]:\n",
    "            canMake.add(availableRecipes)\n",
    "\n",
    "print(f\"You have enough ingredients to make one portion of the following recipes: {canMake}\")"
   ]
  },
  {
   "cell_type": "markdown",
   "id": "07489887",
   "metadata": {},
   "source": [
    "if you want to make X portions (user input), which recipes could you make X portions of?"
   ]
  },
  {
   "cell_type": "code",
   "execution_count": null,
   "id": "1ec9dc9d",
   "metadata": {},
   "outputs": [],
   "source": [
    "canMakeEnough = set()\n",
    "howManyWant = int(input(\"How many guests will you host? \"))\n",
    "\n",
    "for availableRecipes in ingredients:\n",
    "    for eachIngredient in ingredients[availableRecipes]:           \n",
    "        if eachIngredient[0] * howManyWant < userAmount[eachIngredient[2]]:\n",
    "            canMakeEnough.add(availableRecipes)\n",
    "            \n",
    "if len(canMakeEnough) == 0:\n",
    "    print(f\"you cannot make any recipes if {howManyWant} guests come over.\")\n",
    "else:\n",
    "    print(f\"You have enough ingredients to make {canMakeEnough} for {howManyWant} guests!\")"
   ]
  },
  {
   "cell_type": "markdown",
   "id": "f4970387",
   "metadata": {},
   "source": [
    "## part c code"
   ]
  },
  {
   "cell_type": "markdown",
   "id": "61ab680c",
   "metadata": {},
   "source": [
    "user adding recipes to cookbook"
   ]
  },
  {
   "cell_type": "code",
   "execution_count": null,
   "id": "bd13b7c2",
   "metadata": {},
   "outputs": [],
   "source": [
    "newRecipeName = input(\"what is this recipe for? \")\n",
    "newRecipe = list()\n",
    "\n",
    "howManyIngredients = int(input(\"how many ingredients? \"))\n",
    "newIngredientCount = 0\n",
    "\n",
    "print(\"I will ask you to write one ingredient at a time: what it is, then what unit it is measured in, \\\n",
    "then how much of that unit is needed in recipe. For example, 1 cup flour means you first write \\\n",
    "flour, then cup, then 1.\")\n",
    "\n",
    "while newIngredientCount < howManyIngredients:  \n",
    "    whatIngredient = input(f\"enter ingredient {newIngredientCount+1}: \")\n",
    "    whatMeasureIng = input(\"how is it measured? (options: cup, tablespoon, teaspoon, piece): \")\n",
    "    howMuchIng = float(input(\"how much is needed? \"))\n",
    "        \n",
    "    newIngredient = list()\n",
    "    newIngredient.append(howMuchIng)\n",
    "    newIngredient.append(whatMeasureIng)\n",
    "    newIngredient.append(whatIngredient)\n",
    "    \n",
    "    newRecipe.append(newIngredient)\n",
    "    \n",
    "    newIngredientCount += 1\n",
    "\n",
    "ingredients[newRecipeName] = newRecipe\n",
    "\n",
    "print(\"The following recipes are available to you: \")\n",
    "for availableRecipes in ingredients:\n",
    "    print(availableRecipes)\n"
   ]
  },
  {
   "cell_type": "code",
   "execution_count": null,
   "id": "408620ad",
   "metadata": {},
   "outputs": [],
   "source": []
  }
 ],
 "metadata": {
  "kernelspec": {
   "display_name": "Python 3 (ipykernel)",
   "language": "python",
   "name": "python3"
  },
  "language_info": {
   "codemirror_mode": {
    "name": "ipython",
    "version": 3
   },
   "file_extension": ".py",
   "mimetype": "text/x-python",
   "name": "python",
   "nbconvert_exporter": "python",
   "pygments_lexer": "ipython3",
   "version": "3.12.0"
  }
 },
 "nbformat": 4,
 "nbformat_minor": 5
}
