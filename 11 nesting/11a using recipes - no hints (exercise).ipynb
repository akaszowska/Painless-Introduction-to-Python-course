{
 "cells": [
  {
   "cell_type": "markdown",
   "id": "9c247009",
   "metadata": {},
   "source": [
    "# making recipes from a cookbook - part a\n",
    "Make a grocery list based on recipes below. \n",
    "\n",
    "your program will first list available recipes, then ask the user to select a recipe and how many portions the user wants to cook. Then the program will list:\n",
    "- how much of each ingredient the user will need to make the specified number of portions of a recipe (for example, how much of each ingredient do I need to make two portions of brownies?)\n",
    "- how much of each ingredient the user will need to make one portion of ALL available recipes (if I want to bake one of everything, how much of each ingredient will I use, in total?)\n",
    "- how much of each ingredient the user will need to make the specified number of portions of ALL available recipes (for example, if I want to invite 5 friends over, and bake 5 portions of each recipe for them, how much of each ingredient will I use, in total?)\n",
    "\n",
    "# part b\n",
    "using the same recipes, ask user to input what they have in the kitchen (and how much), and list:\n",
    "- which recipes they can make one portion of (given what I have in the kitchen, what can I bake from the cookbook?)\n",
    "- which recipes they can make a specified portion of (given what I have in the kitchen, if I want to bake five portions, what can I bake?)\n",
    "\n",
    "# part c\n",
    "using the same recipes, allow the user to add new recipes to the cookbook - uses a while loop, ignore if we have not yet covered while loops"
   ]
  },
  {
   "cell_type": "markdown",
   "id": "951a0ab1",
   "metadata": {},
   "source": [
    "## recipes \n",
    "(each recipe is for 1 portion, and 1 portion can feed 4 people - if you want to make enough for just one person, then you need 1/4 portion): \n",
    "\n",
    "brownies: 1 1/2 cups sugar, 3/4 cups flour, 2/3 cup cocoa powder, 1/2 cup sugar, 1/2 cup chocolate chips, 3/4 teaspoon salt, 2 eggs, 1/2 cup oil, 2 tablespoons water, 1/2 teaspoon vanilla\n",
    "\n",
    "pancakes: 1 1/2 cup flour, 3 1/2 teaspoons baking powder, 1/4 teaspoon salt, 1 tablespoon sugar, 1 egg, 3 tablespoons butter, 1 cup milk\n",
    "\n",
    "muffins: 2 cups flour, 3 teaspoons baking powder, 1/2 teaspoon salt, 3/4 cup sugar, 1 egg, 1 cup milk, 1/4 cup oil"
   ]
  }
 ],
 "metadata": {
  "kernelspec": {
   "display_name": "Python 3 (ipykernel)",
   "language": "python",
   "name": "python3"
  },
  "language_info": {
   "codemirror_mode": {
    "name": "ipython",
    "version": 3
   },
   "file_extension": ".py",
   "mimetype": "text/x-python",
   "name": "python",
   "nbconvert_exporter": "python",
   "pygments_lexer": "ipython3",
   "version": "3.12.0"
  }
 },
 "nbformat": 4,
 "nbformat_minor": 5
}
