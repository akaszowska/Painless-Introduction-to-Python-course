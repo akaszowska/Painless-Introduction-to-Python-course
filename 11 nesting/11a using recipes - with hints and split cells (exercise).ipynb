{
 "cells": [
  {
   "cell_type": "markdown",
   "id": "9c247009",
   "metadata": {},
   "source": [
    "# making recipes from a cookbook - part a\n",
    "Make a grocery list based on recipes below. \n",
    "\n",
    "your program will first list available recipes, then ask the user to select a recipe and how many portions the user wants to cook. Then the program will list:\n",
    "- how much of each ingredient the user will need to make the specified number of portions of a recipe (for example, how much of each ingredient do I need to make two portions of brownies?)\n",
    "- how much of each ingredient the user will need to make one portion of ALL available recipes (if I want to bake one of everything, how much of each ingredient will I use, in total?)\n",
    "- how much of each ingredient the user will need to make the specified number of portions of ALL available recipes (for example, if I want to invite 5 friends over, and bake 5 portions of each recipe for them, how much of each ingredient will I use, in total?)\n",
    "\n",
    "# part b\n",
    "using the same recipes, ask user to input what they have in the kitchen (and how much), and list:\n",
    "- which recipes they can make one portion of (given what I have in the kitchen, what can I bake from the cookbook?)\n",
    "- which recipes they can make a specified portion of (given what I have in the kitchen, if I want to bake five portions, what can I bake?)\n",
    "\n",
    "# part c\n",
    "using the same recipes, allow the user to add new recipes to the cookbook - uses a while loop, ignore if we have not yet covered while loops"
   ]
  },
  {
   "cell_type": "markdown",
   "id": "951a0ab1",
   "metadata": {},
   "source": [
    "## recipes \n",
    "(each recipe is for 1 portion, and 1 portion can feed 4 people - if you want to make enough for just one person, then you need 1/4 portion): \n",
    "\n",
    "brownies: 1 1/2 cups sugar, 3/4 cups flour, 2/3 cup cocoa powder, 1/2 cup sugar, 1/2 cup chocolate chips, 3/4 teaspoon salt, 2 eggs, 1/2 cup oil, 2 tablespoons water, 1/2 teaspoon vanilla\n",
    "\n",
    "pancakes: 1 1/2 cup flour, 3 1/2 teaspoons baking powder, 1/4 teaspoon salt, 1 tablespoon sugar, 1 egg, 3 tablespoons butter, 1 cup milk\n",
    "\n",
    "muffins: 2 cups flour, 3 teaspoons baking powder, 1/2 teaspoon salt, 3/4 cup sugar, 1 egg, 1 cup milk, 1/4 cup oil"
   ]
  },
  {
   "cell_type": "markdown",
   "id": "cceb724d",
   "metadata": {},
   "source": [
    "## code starts below"
   ]
  },
  {
   "cell_type": "markdown",
   "id": "b4e61503",
   "metadata": {},
   "source": [
    "### import functions:"
   ]
  },
  {
   "cell_type": "code",
   "execution_count": null,
   "id": "a9c123c1",
   "metadata": {},
   "outputs": [],
   "source": [
    "from collections import defaultdict"
   ]
  },
  {
   "cell_type": "markdown",
   "id": "aad62461",
   "metadata": {},
   "source": [
    "### assumptions/constants:\n",
    "recipe dictionary"
   ]
  },
  {
   "cell_type": "code",
   "execution_count": null,
   "id": "6ded63e5",
   "metadata": {},
   "outputs": [],
   "source": [
    "# create your dictionary of recipes: each recipe is a list of items, therefore: \n",
    "\n",
    "# every value of this dict is a list of items\n",
    "# item format: [<amount>, <unit>, <ingredient>]\n",
    "\n",
    "# every key of this dictionary is a recipe name"
   ]
  },
  {
   "cell_type": "markdown",
   "id": "f97717ef",
   "metadata": {},
   "source": [
    "### operations:"
   ]
  },
  {
   "cell_type": "markdown",
   "id": "21bbc0b6",
   "metadata": {},
   "source": [
    "list available recipes:"
   ]
  },
  {
   "cell_type": "code",
   "execution_count": null,
   "id": "bb59aad3",
   "metadata": {},
   "outputs": [],
   "source": [
    "# use a for-loop to print every key from recipe dictionary"
   ]
  },
  {
   "cell_type": "markdown",
   "id": "990a6e76",
   "metadata": {},
   "source": [
    "user input: what would you like to bake?"
   ]
  },
  {
   "cell_type": "code",
   "execution_count": null,
   "id": "2a15d927",
   "metadata": {},
   "outputs": [],
   "source": [
    "# simple user input"
   ]
  },
  {
   "cell_type": "markdown",
   "id": "1e743be0",
   "metadata": {},
   "source": [
    "to bake one portion of wanted recipe: "
   ]
  },
  {
   "cell_type": "code",
   "execution_count": null,
   "id": "41099e84",
   "metadata": {},
   "outputs": [],
   "source": [
    "# use a for-loop to print each ingredient (therefore: each list containing an ingredient)\n",
    "# from the recipes dictionary "
   ]
  },
  {
   "cell_type": "markdown",
   "id": "12c51a60",
   "metadata": {},
   "source": [
    "user input: how many would you like to bake?"
   ]
  },
  {
   "cell_type": "code",
   "execution_count": null,
   "id": "71aa1022",
   "metadata": {},
   "outputs": [],
   "source": [
    "# user input\n",
    "# remmeber! input() returns a string, and here you want a float or integer "
   ]
  },
  {
   "cell_type": "markdown",
   "id": "63eae7b2",
   "metadata": {},
   "source": [
    "to make X amount you need the following shopping list:"
   ]
  },
  {
   "cell_type": "code",
   "execution_count": null,
   "id": "5b959996",
   "metadata": {},
   "outputs": [],
   "source": [
    "# use a for-loop to multiply required ingredients by the number chosen by the user above\n",
    "# print the result of that multiplication "
   ]
  },
  {
   "cell_type": "markdown",
   "id": "1c120e1b",
   "metadata": {},
   "source": [
    "to make one portion of each recipe in cookbook:"
   ]
  },
  {
   "cell_type": "code",
   "execution_count": null,
   "id": "39fc94a5",
   "metadata": {},
   "outputs": [],
   "source": [
    "# create a default dictionary with float default input\n",
    "# use a for-loop to go through every recipe (every key in dictionary)\n",
    "# and then use a nested for-loop to go through every ingredient (every list)\n",
    "# then add each ingredient to a \"total\" of that ingredient in the default dictionary\n",
    "\n",
    "# print the result"
   ]
  },
  {
   "cell_type": "markdown",
   "id": "ded998fa",
   "metadata": {},
   "source": [
    "# 3D-b code"
   ]
  },
  {
   "cell_type": "markdown",
   "id": "266e83e6",
   "metadata": {},
   "source": [
    "how much of each ingredient do you have at home? user input"
   ]
  },
  {
   "cell_type": "code",
   "execution_count": null,
   "id": "b90facf6",
   "metadata": {},
   "outputs": [],
   "source": [
    "# understand the task: \n",
    "# user inputs what they have in the fridge, and only the ingredients that are relevant\n",
    "# for baking from our cookbook. \n",
    "# therefore the code will ask the user to specify how much of each ingredient that shows\n",
    "# up in the cookbook the user has at home\n",
    "\n",
    "# code flow:\n",
    "# first, create an empty dictionary: that is where you will put your user's input\n",
    "\n",
    "# second, make sure that the user is asked about each ingredient only once: I suggest\n",
    "# making an empty set here, where any time the user inputs an ingredient into the\n",
    "# dictionary, that same ingredient name is added to the set (you will use that later)\n",
    "\n",
    "# now, make a for loop: \n",
    "# for every recipe in the cookbook...\n",
    "# (nested for loop) for every ingredient in recipe...\n",
    "# (nested if statement) if the user was already asked about the ingredient (or: if this\n",
    "# ingredient is already in the empty set from second step), then pass\n",
    "# else ask the user for how much of that ingredient they have (user input), and add that information to your \n",
    "# dictionary from first step, and then add that ingredient to the redundancy control set from second step\n",
    "\n",
    "# print the dictionary from first step to confirm that your code worked "
   ]
  },
  {
   "cell_type": "markdown",
   "id": "953930b6",
   "metadata": {},
   "source": [
    "do you have enough ingredients in your kitchen to bake one portion of recipe of choice (user input)?"
   ]
  },
  {
   "cell_type": "code",
   "execution_count": null,
   "id": "9a687bb3",
   "metadata": {},
   "outputs": [],
   "source": [
    "# first, user input - which recipe do I want to bake?\n",
    "\n",
    "# make empty list of missing ingredients: this is where you put all the ingredients that fail the \"do I have enough\" test\n",
    "\n",
    "# for loop: for each ingredient in the recipe that I want to bake...\n",
    "# nested if statement: if the recipe requires more or equal amount than what I have, add that ingredient to \n",
    "# the empty list of missing ingredients\n",
    "\n",
    "# if statement: if missing ingredient list is empty, print \"yay\"\n",
    "# else print \"boo\" (or another message that tells the user they do not have enough of a specific ingredient to bake)"
   ]
  },
  {
   "cell_type": "markdown",
   "id": "31b2a651",
   "metadata": {},
   "source": [
    "which recipes could you make one portion of, given the ingredients you have in your kitchen?"
   ]
  },
  {
   "cell_type": "code",
   "execution_count": null,
   "id": "64cb020b",
   "metadata": {},
   "outputs": [],
   "source": [
    "# make an empty set: this is where you put recipes the user can bake\n",
    "\n",
    "# for loop: for each available recipe from cookbook,\n",
    "# nested for loop: for each ingredient in that recipe...\n",
    "# nested if statement: if required ingredient is less or equal in volume to what user has in the kitchen,\n",
    "# add that recipe to empty set\n",
    "\n",
    "# print set content to tell user what they can bake one portion of"
   ]
  },
  {
   "cell_type": "markdown",
   "id": "07489887",
   "metadata": {},
   "source": [
    "if you want to make X portions (user input), which recipes could you make X portions of?"
   ]
  },
  {
   "cell_type": "code",
   "execution_count": null,
   "id": "1ec9dc9d",
   "metadata": {},
   "outputs": [],
   "source": [
    "# make an empty set: this is where you put the recipes that the user can bake\n",
    "\n",
    "# user input: how many guests will they host?\n",
    "\n",
    "# for look: for every recipe in cookbook...\n",
    "# nested for loop: for every ingredient in recipe...\n",
    "# if required amount * how many guests is less than what I have at home...\n",
    "# add recipe to empty set from the beginning\n",
    "\n",
    "# if statement: if my set is not empty, then print which recipes I can make for my guests\n"
   ]
  },
  {
   "cell_type": "markdown",
   "id": "61ab680c",
   "metadata": {},
   "source": [
    "user adding recipes to cookbook:  this one is tricky, it requires a while-loop, so if we haven't covered them yet, then ignore this part"
   ]
  },
  {
   "cell_type": "code",
   "execution_count": null,
   "id": "bd13b7c2",
   "metadata": {},
   "outputs": [],
   "source": [
    "# create a new recipe name with user input\n",
    "# create an empty list for ingredients\n",
    "\n",
    "# ask user how many ingredients there will be in a recipe\n",
    "# initiate ingredient counter at 0\n",
    "\n",
    "# print instructions for user\n",
    "\n",
    "# while loop: while ingredient counter is less than number of ingredients in recipe, ask for user input\n",
    "# use that user input to create a list of each ingredient (how much, what measure, what - refer to original dictionary\n",
    "# with recipes from the beginning of this challenge)\n",
    "# append new ingredient to new recipe\n",
    "# increase ingredient counter by 1\n",
    "\n",
    "# assign new recipe as a value in original recipe dictionary, with recipe name as key\n",
    "# print all recipes from the dictionary to check if it worked "
   ]
  }
 ],
 "metadata": {
  "kernelspec": {
   "display_name": "Python 3 (ipykernel)",
   "language": "python",
   "name": "python3"
  },
  "language_info": {
   "codemirror_mode": {
    "name": "ipython",
    "version": 3
   },
   "file_extension": ".py",
   "mimetype": "text/x-python",
   "name": "python",
   "nbconvert_exporter": "python",
   "pygments_lexer": "ipython3",
   "version": "3.12.0"
  }
 },
 "nbformat": 4,
 "nbformat_minor": 5
}
