{
 "cells": [
  {
   "cell_type": "markdown",
   "id": "fc816b74",
   "metadata": {},
   "source": [
    "# WHILE LOOPS\n",
    "DEFINITION: a while-loop keeps running as long as (or: while) a certain condition is true\n",
    "(for comparison, a for-loop executes a block of code once FOR each item in a list etc.)"
   ]
  },
  {
   "cell_type": "markdown",
   "id": "8fa4ec52",
   "metadata": {},
   "source": [
    "example: using a while loop to count down from 10 to 1"
   ]
  },
  {
   "cell_type": "code",
   "execution_count": null,
   "id": "4c88a703",
   "metadata": {},
   "outputs": [],
   "source": [
    "myNumber = 10 # current number counter: starts at 1\n",
    "\n",
    "while myNumber >= 1: # while current numbers is less or equal than one\n",
    "    print(myNumber) # print that number\n",
    "    myNumber -= 1 # decrease current number counter by 1"
   ]
  },
  {
   "cell_type": "markdown",
   "id": "f9ec48e1",
   "metadata": {},
   "source": [
    "## using a flag\n",
    "In more complicated programs, there's usually more than one event that could stop the program from running.\n",
    "Think about computer games: there are many ways to end the game, such as running out of time, running out of items, etc. Trying to test all those conditions with individual while statements becomes complicated in messy.\n",
    "For a program that should run as long as many conditions are true, we define a single variable that determines whether or not the program is active. This variable is called a flag. \n",
    "A flag set to true means program runs. A flag set to false means program stops. "
   ]
  },
  {
   "cell_type": "code",
   "execution_count": null,
   "id": "100b7900",
   "metadata": {},
   "outputs": [],
   "source": [
    "prompt = \"\\nInput a number, and I will return a square of it:\"\n",
    "prompt += \"\\nEnter '0' to end the program. \"\n",
    "\n",
    "active = True # this is our flag!\n",
    "\n",
    "while active: \n",
    "    message = input(prompt)\n",
    "    \n",
    "    if message == '0':\n",
    "        active = False\n",
    "    else:\n",
    "        square = int(message) ** 2\n",
    "        print(square)"
   ]
  },
  {
   "cell_type": "markdown",
   "id": "84e29153",
   "metadata": {},
   "source": [
    "mini-puzzle: rewrite your code for rock-paper-scissors game using a while statement and a flag, so that the user can keep playing the game until they say \"no\""
   ]
  },
  {
   "cell_type": "code",
   "execution_count": null,
   "id": "fe732bf2",
   "metadata": {},
   "outputs": [],
   "source": [
    "active = True # this is our flag!\n",
    "\n",
    "while active: \n",
    "    INSERT ROCK PAPER SCISSORS GAME HERE\n",
    "    \n",
    "    ASK USER IF THEY WANT TO KEEP GOING (yes/no)\n",
    "    if USER SAYS == 'no':\n",
    "        active = False"
   ]
  },
  {
   "cell_type": "markdown",
   "id": "867047de",
   "metadata": {},
   "source": [
    "## using break to exit a loop\n",
    "to exit a while loop immediately and without running any remaining code regardless of anything, use the break statement:"
   ]
  },
  {
   "cell_type": "code",
   "execution_count": null,
   "id": "5d7f8de0",
   "metadata": {},
   "outputs": [],
   "source": [
    "prompt = \"\\nPlease enter the name of a candy you would like to eat for Halloween:\"\n",
    "prompt += \"\\n(Enter 'quit' when you are finished.) \"\n",
    "\n",
    "while True:\n",
    "    candy = input(prompt)\n",
    "    if candy == 'quit':\n",
    "        break\n",
    "    else:\n",
    "        print(f\"I'd love some {candy}!\")"
   ]
  },
  {
   "cell_type": "markdown",
   "id": "085e6584",
   "metadata": {},
   "source": [
    "## using continue in a loop\n",
    "return to the beginning of the loop based on the result of a conditional test"
   ]
  },
  {
   "cell_type": "markdown",
   "id": "daec9188",
   "metadata": {},
   "source": [
    "print numbers between 1 and 100 that are divisible by 7:"
   ]
  },
  {
   "cell_type": "code",
   "execution_count": null,
   "id": "bff5cf17",
   "metadata": {},
   "outputs": [],
   "source": [
    "myNumber = 0\n",
    "while myNumber < 100:\n",
    "    myNumber += 1\n",
    "    if myNumber % 7 != 0: # modulo: if zero, then number is divisible by 7\n",
    "        continue # continue, or ignore rest of loop, and return to beginning\n",
    "    print(myNumber)"
   ]
  },
  {
   "cell_type": "markdown",
   "id": "eb15159d",
   "metadata": {},
   "source": [
    "## infinite loops"
   ]
  },
  {
   "cell_type": "code",
   "execution_count": null,
   "id": "586b1d6b",
   "metadata": {},
   "outputs": [],
   "source": [
    "# this code will run until you terminate it!\n",
    "\n",
    "x = 1\n",
    "while x <= 5:\n",
    "    print(x)"
   ]
  },
  {
   "cell_type": "markdown",
   "id": "f7a403e8",
   "metadata": {},
   "source": [
    "## using a while loop with lists and dicitonaries"
   ]
  },
  {
   "cell_type": "markdown",
   "id": "dd30f27c",
   "metadata": {},
   "source": [
    "task: moving items from one list to another\n",
    "\n",
    "example: you have a list of homework for courses you need to finish. After you finish, you move them to a spearate list of finished homework. "
   ]
  },
  {
   "cell_type": "code",
   "execution_count": null,
   "id": "ca194958",
   "metadata": {},
   "outputs": [],
   "source": [
    "# Start with homework that is not yet finished,\n",
    "# and an empty list to hold finished homework.\n",
    "unfinished_homework = ['math', 'history', 'physics', 'literature']\n",
    "finished_homework = []\n",
    "\n",
    "# finish each homework until there is no more unfinished homework. \n",
    "# Move each finished homework into the list of finished homework.\n",
    "while unfinished_homework:\n",
    "    current_homework = unfinished_homework.pop()\n",
    "    print(f\"I just finished my {current_homework} homework.\")\n",
    "    finished_homework.append(current_homework)\n",
    "    \n",
    "# Display all confirmed users.\n",
    "print(\"\\nThe following homework is finished:\")\n",
    "for finished_course in finished_homework:\n",
    "    print(finished_course)"
   ]
  },
  {
   "cell_type": "markdown",
   "id": "28367ece",
   "metadata": {},
   "source": [
    "removing all instances of specific values from a list\n",
    "(snickers contains nuts, which a lot of people are allergic to)"
   ]
  },
  {
   "cell_type": "code",
   "execution_count": null,
   "id": "333459e5",
   "metadata": {},
   "outputs": [],
   "source": [
    "candy = ['mars', 'snickers', 'mars', 'twix', 'snickers', 'milky way', 'snickers']\n",
    "print(candy)\n",
    "\n",
    "while 'snickers' in candy:\n",
    "    candy.remove('snickers')\n",
    "    \n",
    "print(candy)"
   ]
  },
  {
   "cell_type": "markdown",
   "id": "f7545491",
   "metadata": {},
   "source": [
    "filling a dictionary with user input:"
   ]
  },
  {
   "cell_type": "code",
   "execution_count": null,
   "id": "059a3771",
   "metadata": {},
   "outputs": [],
   "source": [
    "homework = {}\n",
    "\n",
    "# Set a flag to indicate that polling is active.\n",
    "active = True\n",
    "\n",
    "while active:\n",
    "    course = input(\"\\nWhat is the course? \")\n",
    "    assignment = input(\"\\nWhat is the assignment? \")\n",
    "\n",
    "    homework[course] = assignment\n",
    "\n",
    "    repeat = input(\"\\nWould you like to record more homework? (yes/no) \")\n",
    "    if repeat == 'no':\n",
    "        active = False\n",
    "        \n",
    "# Polling is complete. Show the results.\n",
    "print(\"\\nHOMEWORK DUE:\")\n",
    "for course, assignment in homework.items():\n",
    "    print(f\"You have to finish {assignment} for {course} course.\")"
   ]
  }
 ],
 "metadata": {
  "kernelspec": {
   "display_name": "Python 3 (ipykernel)",
   "language": "python",
   "name": "python3"
  },
  "language_info": {
   "codemirror_mode": {
    "name": "ipython",
    "version": 3
   },
   "file_extension": ".py",
   "mimetype": "text/x-python",
   "name": "python",
   "nbconvert_exporter": "python",
   "pygments_lexer": "ipython3",
   "version": "3.12.0"
  }
 },
 "nbformat": 4,
 "nbformat_minor": 5
}
