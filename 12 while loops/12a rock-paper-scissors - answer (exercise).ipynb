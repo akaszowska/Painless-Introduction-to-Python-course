{
 "cells": [
  {
   "cell_type": "markdown",
   "id": "8a198f5b",
   "metadata": {},
   "source": [
    "# rock-paper-scissors\n",
    "task: write a game of rock paper scissors\n",
    "\n",
    "hint: import function called \"random\" and use random.choice() to have a computer choose one random object from a list\n",
    "imported functions are always in the first line of your code: technically, as long as you import them before you use them, you will be fine. But you want to import them all at the beginning of your script, so they are easy to locate as you troubleshoot later or write more code. "
   ]
  },
  {
   "cell_type": "code",
   "execution_count": 1,
   "id": "6ba54ee2",
   "metadata": {},
   "outputs": [
    {
     "data": {
      "text/plain": [
       "'leek'"
      ]
     },
     "execution_count": 1,
     "metadata": {},
     "output_type": "execute_result"
    }
   ],
   "source": [
    "# code example for hint\n",
    "\n",
    "import random\n",
    "vegetables = ['potato','carrot','leek']\n",
    "random.choice(vegetables)"
   ]
  },
  {
   "cell_type": "code",
   "execution_count": null,
   "id": "d47eb794",
   "metadata": {
    "scrolled": true
   },
   "outputs": [
    {
     "name": "stdout",
     "output_type": "stream",
     "text": [
      "What's your action? (rock, paper, scissors): rock\n",
      "\n",
      "You played rock, computer played rock.\n",
      "\n",
      "Both players selected rock. It's a tie!\n",
      "Would you like to play another game? (yes/no): yes\n",
      "What's your action? (rock, paper, scissors): paper\\\n",
      "\n",
      "You played paper\\, computer played paper.\n",
      "\n",
      "Would you like to play another game? (yes/no): yes\n",
      "What's your action? (rock, paper, scissors): paper\n",
      "\n",
      "You played paper, computer played paper.\n",
      "\n",
      "Both players selected paper. It's a tie!\n",
      "Would you like to play another game? (yes/no): yes\n",
      "What's your action? (rock, paper, scissors): paper\n",
      "\n",
      "You played paper, computer played scissors.\n",
      "\n",
      "Scissors cuts paper! You lose.\n"
     ]
    }
   ],
   "source": [
    "import random\n",
    "\n",
    "actionChoice = [\"paper\",\"rock\",\"scissors\"]\n",
    "active = True \n",
    "\n",
    "\n",
    "### rock paper scissors game starts here: \n",
    "while active:\n",
    "    computerAction = random.choice(actionChoice)\n",
    "    userAction = input(\"What's your action? (rock, paper, scissors): \")\n",
    "\n",
    "    print(f\"\\nYou played {userAction}, computer played {computerAction}.\\n\")\n",
    "\n",
    "    if userAction == computerAction:\n",
    "        print(f\"Both players selected {userAction}. It's a tie!\")\n",
    "    elif userAction == \"rock\":\n",
    "        if computerAction == \"scissors\":\n",
    "            print(\"Rock smashes scissors! You win!\")\n",
    "        else:\n",
    "            print(\"Paper covers rock! You lose.\")\n",
    "    elif userAction == \"paper\":\n",
    "        if computerAction == \"rock\":\n",
    "            print(\"Paper covers rock! You win!\")\n",
    "        else: \n",
    "            print(\"Scissors cuts paper! You lose.\")\n",
    "    elif userAction == \"scissors\":\n",
    "        if computerAction == \"paper\":\n",
    "            print(\"Scissors cuts paper! You win!\")\n",
    "        else:\n",
    "            print(\"Rock smashes scissors! You lose.\")\n",
    "            \n",
    "    keepPlaying = input(\"Would you like to play another game? (yes/no): \")\n",
    "    if keepPlaying == \"no\":\n",
    "        active = False\n",
    "        print(\"Thanks for playing!\")"
   ]
  }
 ],
 "metadata": {
  "kernelspec": {
   "display_name": "Python 3 (ipykernel)",
   "language": "python",
   "name": "python3"
  },
  "language_info": {
   "codemirror_mode": {
    "name": "ipython",
    "version": 3
   },
   "file_extension": ".py",
   "mimetype": "text/x-python",
   "name": "python",
   "nbconvert_exporter": "python",
   "pygments_lexer": "ipython3",
   "version": "3.12.0"
  }
 },
 "nbformat": 4,
 "nbformat_minor": 5
}
