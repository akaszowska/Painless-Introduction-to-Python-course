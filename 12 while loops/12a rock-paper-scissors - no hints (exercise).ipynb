{
 "cells": [
  {
   "cell_type": "markdown",
   "id": "8a198f5b",
   "metadata": {},
   "source": [
    "# rock-paper-scissors\n",
    "write a game of rock paper scissors\n",
    "\n",
    "hint: import function called \"random\" and use random.choice() to have a computer choose one random object from a list\n",
    "imported functions are always in the first line of your code: technically, as long as you import them before you use them, you will be fine. But you want to import them all at the beginning of your script, so they are easy to locate as you troubleshoot later or write more code. "
   ]
  },
  {
   "cell_type": "code",
   "execution_count": 1,
   "id": "6ba54ee2",
   "metadata": {},
   "outputs": [
    {
     "data": {
      "text/plain": [
       "'leek'"
      ]
     },
     "execution_count": 1,
     "metadata": {},
     "output_type": "execute_result"
    }
   ],
   "source": [
    "# code example for hint\n",
    "\n",
    "import random\n",
    "vegetables = ['potato','carrot','leek']\n",
    "random.choice(vegetables)"
   ]
  },
  {
   "cell_type": "code",
   "execution_count": null,
   "id": "d47eb794",
   "metadata": {},
   "outputs": [],
   "source": [
    "import random\n"
   ]
  }
 ],
 "metadata": {
  "kernelspec": {
   "display_name": "Python 3 (ipykernel)",
   "language": "python",
   "name": "python3"
  },
  "language_info": {
   "codemirror_mode": {
    "name": "ipython",
    "version": 3
   },
   "file_extension": ".py",
   "mimetype": "text/x-python",
   "name": "python",
   "nbconvert_exporter": "python",
   "pygments_lexer": "ipython3",
   "version": "3.12.0"
  }
 },
 "nbformat": 4,
 "nbformat_minor": 5
}
