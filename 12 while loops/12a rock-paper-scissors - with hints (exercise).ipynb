{
 "cells": [
  {
   "cell_type": "markdown",
   "id": "8a198f5b",
   "metadata": {},
   "source": [
    "# rock-paper-scissors\n",
    "write a game of rock paper scissors\n",
    "\n",
    "hint: import function called \"random\" and use random.choice() to have a computer choose one random object from a list\n",
    "imported functions are always in the first line of your code: technically, as long as you import them before you use them, you will be fine. But you want to import them all at the beginning of your script, so they are easy to locate as you troubleshoot later or write more code. "
   ]
  },
  {
   "cell_type": "code",
   "execution_count": 1,
   "id": "6ba54ee2",
   "metadata": {},
   "outputs": [
    {
     "data": {
      "text/plain": [
       "'leek'"
      ]
     },
     "execution_count": 1,
     "metadata": {},
     "output_type": "execute_result"
    }
   ],
   "source": [
    "# code example for hint\n",
    "\n",
    "import random\n",
    "vegetables = ['potato','carrot','leek']\n",
    "random.choice(vegetables)"
   ]
  },
  {
   "cell_type": "code",
   "execution_count": null,
   "id": "d47eb794",
   "metadata": {},
   "outputs": [],
   "source": [
    "import random\n",
    "\n",
    "# define possible action choices: rock, paper, or scissors\n",
    "\n",
    "# define computer's action using random.choice function\n",
    "\n",
    "# user chooses their action\n",
    "\n",
    "# print confirmation to the user that the user chose action X, and state which action the computer chose \n",
    "\n",
    "# now, evaluate who won: user or computer?\n",
    "# write conditional statements where you compare user's and computer's actions, \n",
    "# and print outcome based on that comparison\n",
    "# your choices are: \n",
    "# 1) user and computer chose the same action, it's a tie\n",
    "# 2) user chose rock; if computer chose scissors, user wins. If computer chose paper, computer wins.\n",
    "# 3) user chose paper; if computer chose rock, user wins. If computer chose scissors, computer wins.\n",
    "# 4) user chose scissors; if computer chose paper, user wins. If computer chose rock, computer wins. "
   ]
  }
 ],
 "metadata": {
  "kernelspec": {
   "display_name": "Python 3 (ipykernel)",
   "language": "python",
   "name": "python3"
  },
  "language_info": {
   "codemirror_mode": {
    "name": "ipython",
    "version": 3
   },
   "file_extension": ".py",
   "mimetype": "text/x-python",
   "name": "python",
   "nbconvert_exporter": "python",
   "pygments_lexer": "ipython3",
   "version": "3.12.0"
  }
 },
 "nbformat": 4,
 "nbformat_minor": 5
}
