{
 "cells": [
  {
   "cell_type": "markdown",
   "id": "4eae6754",
   "metadata": {},
   "source": [
    "# ERRORS IN PYTHON\n",
    "There are two kinds of errors: syntax, and exceptions.\n",
    "\n",
    "When you encounter an error, it will stop your code from executing. This is sometimes very inconvenient. "
   ]
  },
  {
   "cell_type": "markdown",
   "id": "99368b29",
   "metadata": {},
   "source": [
    "## syntax errors\n",
    "the most common kind: typos, wrong indentation, etc.\n",
    "information about the error is included in the error message."
   ]
  },
  {
   "cell_type": "code",
   "execution_count": 1,
   "id": "4994ff62",
   "metadata": {},
   "outputs": [
    {
     "ename": "SyntaxError",
     "evalue": "invalid syntax (603230334.py, line 3)",
     "output_type": "error",
     "traceback": [
      "\u001b[1;36m  Input \u001b[1;32mIn [1]\u001b[1;36m\u001b[0m\n\u001b[1;33m    while True\u001b[0m\n\u001b[1;37m              ^\u001b[0m\n\u001b[1;31mSyntaxError\u001b[0m\u001b[1;31m:\u001b[0m invalid syntax\n"
     ]
    }
   ],
   "source": [
    "# run this code as-is: do not fix the error, this is a demonstration \n",
    "\n",
    "while True\n",
    "    print (\"Hello, world\")"
   ]
  },
  {
   "cell_type": "markdown",
   "id": "d8afda6b",
   "metadata": {},
   "source": [
    "## exceptions\n",
    "Even if a statement or expression is syntactically correct, it may cause an error when we execute it.\n",
    "Those errors are called exceptions: unwanted events that interrupt the normal flow of the program. \n",
    "when an exception occurs in the program, we get a system-generated message. But in Python, we can provide a meaningful message to the user about the issue rather than relying on a system-generated message (which is not always understandable anyway). "
   ]
  },
  {
   "cell_type": "code",
   "execution_count": 2,
   "id": "6d4443ab",
   "metadata": {},
   "outputs": [
    {
     "ename": "ZeroDivisionError",
     "evalue": "division by zero",
     "output_type": "error",
     "traceback": [
      "\u001b[1;31m---------------------------------------------------------------------------\u001b[0m",
      "\u001b[1;31mZeroDivisionError\u001b[0m                         Traceback (most recent call last)",
      "Input \u001b[1;32mIn [2]\u001b[0m, in \u001b[0;36m<cell line: 1>\u001b[1;34m()\u001b[0m\n\u001b[1;32m----> 1\u001b[0m \u001b[38;5;241m10\u001b[39m \u001b[38;5;241m*\u001b[39m (\u001b[38;5;241;43m1\u001b[39;49m\u001b[38;5;241;43m/\u001b[39;49m\u001b[38;5;241;43m0\u001b[39;49m)\n",
      "\u001b[1;31mZeroDivisionError\u001b[0m: division by zero"
     ]
    }
   ],
   "source": [
    "10 * (1/0)"
   ]
  },
  {
   "cell_type": "code",
   "execution_count": 3,
   "id": "f34d095f",
   "metadata": {},
   "outputs": [
    {
     "ename": "NameError",
     "evalue": "name 'spam' is not defined",
     "output_type": "error",
     "traceback": [
      "\u001b[1;31m---------------------------------------------------------------------------\u001b[0m",
      "\u001b[1;31mNameError\u001b[0m                                 Traceback (most recent call last)",
      "Input \u001b[1;32mIn [3]\u001b[0m, in \u001b[0;36m<cell line: 1>\u001b[1;34m()\u001b[0m\n\u001b[1;32m----> 1\u001b[0m \u001b[38;5;241m4\u001b[39m \u001b[38;5;241m+\u001b[39m \u001b[43mspam\u001b[49m\u001b[38;5;241m*\u001b[39m\u001b[38;5;241m3\u001b[39m\n",
      "\u001b[1;31mNameError\u001b[0m: name 'spam' is not defined"
     ]
    }
   ],
   "source": [
    "4 + spam*3"
   ]
  },
  {
   "cell_type": "code",
   "execution_count": 4,
   "id": "d290ee23",
   "metadata": {},
   "outputs": [
    {
     "ename": "TypeError",
     "evalue": "can only concatenate str (not \"int\") to str",
     "output_type": "error",
     "traceback": [
      "\u001b[1;31m---------------------------------------------------------------------------\u001b[0m",
      "\u001b[1;31mTypeError\u001b[0m                                 Traceback (most recent call last)",
      "Input \u001b[1;32mIn [4]\u001b[0m, in \u001b[0;36m<cell line: 1>\u001b[1;34m()\u001b[0m\n\u001b[1;32m----> 1\u001b[0m \u001b[38;5;124;43m'\u001b[39;49m\u001b[38;5;124;43m2\u001b[39;49m\u001b[38;5;124;43m'\u001b[39;49m\u001b[43m \u001b[49m\u001b[38;5;241;43m+\u001b[39;49m\u001b[43m \u001b[49m\u001b[38;5;241;43m2\u001b[39;49m\n",
      "\u001b[1;31mTypeError\u001b[0m: can only concatenate str (not \"int\") to str"
     ]
    }
   ],
   "source": [
    "'2' + 2"
   ]
  },
  {
   "cell_type": "markdown",
   "id": "6d1ba7f2",
   "metadata": {},
   "source": [
    "## exception handling using try... except... finally"
   ]
  },
  {
   "cell_type": "markdown",
   "id": "4c29dc75",
   "metadata": {},
   "source": [
    "Handling of exception ensures that the flow of the program does not get interrupted when\n",
    "an exception occurs which is done by trapping run-time errors. Handling of exceptions\n",
    "results in the execution of all the statements in the program."
   ]
  },
  {
   "cell_type": "markdown",
   "id": "b6427301",
   "metadata": {},
   "source": [
    "in simpler terms: the syntax goes something like this\n",
    "\n",
    "try:\n",
    "    do something\n",
    "except:\n",
    "    do something else when an error occurs"
   ]
  },
  {
   "cell_type": "code",
   "execution_count": 2,
   "id": "f04dc8be",
   "metadata": {},
   "outputs": [
    {
     "name": "stdout",
     "output_type": "stream",
     "text": [
      "an error occured, cannot complete operation\n"
     ]
    }
   ],
   "source": [
    "try:\n",
    "    answer = 12/0\n",
    "    print(answer)\n",
    "except:\n",
    "    print(\"an error occured, cannot complete operation\")"
   ]
  },
  {
   "cell_type": "code",
   "execution_count": null,
   "id": "70358621",
   "metadata": {},
   "outputs": [],
   "source": [
    "try:\n",
    "    userInput1 = int(input(\"Please enter a number: \"))\n",
    "    userInput2 = int(input(\"Please enter another number: \"))\n",
    "    answer = userInput1/userInput2\n",
    "    print(f\"The answer is {answer}.\") \n",
    "except ValueError: \n",
    "    print (\"Error: You did not enter a number\") \n",
    "except ZeroDivisionError: \n",
    "    print (\"Error: Cannot divide by zero\")"
   ]
  },
  {
   "cell_type": "code",
   "execution_count": null,
   "id": "1994adef",
   "metadata": {},
   "outputs": [],
   "source": [
    "try:\n",
    "    userInput = int(input(\"Please choose a number between 0 and 15: \"))\n",
    "    print(f\"You entered {userInput}.\")\n",
    "except ValueError: \n",
    "    print(\"That was not a number!\")\n",
    "else: \n",
    "    print(\"That will be the number of cookies you get for dinner.\")\n",
    "finally: # finally is always executed regardless of the actions done about the error\n",
    "    print(\"Don't forget to brush your teeth.\")"
   ]
  },
  {
   "cell_type": "markdown",
   "id": "756447e1",
   "metadata": {},
   "source": [
    "## define something to be an error!"
   ]
  },
  {
   "cell_type": "code",
   "execution_count": null,
   "id": "10aa0fbd",
   "metadata": {},
   "outputs": [],
   "source": [
    "name = \"Suzie\"\n",
    "if len(name) < 10:\n",
    "    raise ValueError(f\"username {name} too short, must be minimum 10 characters.\")"
   ]
  },
  {
   "cell_type": "markdown",
   "id": "de465eff",
   "metadata": {},
   "source": [
    "# same problem, different code..."
   ]
  },
  {
   "cell_type": "markdown",
   "id": "b1dd141d",
   "metadata": {},
   "source": [
    "## example: doing math on user input\n",
    "I am writing code that will take user's input, and multiply it by 2:"
   ]
  },
  {
   "cell_type": "code",
   "execution_count": null,
   "id": "dd6049fa",
   "metadata": {},
   "outputs": [],
   "source": [
    "# simplest option\n",
    "\n",
    "userInput = float(input(\"Give me a number to multiply by 2: \"))\n",
    "print(f\"{userInput} * 2 = {userInput*2}\")"
   ]
  },
  {
   "cell_type": "code",
   "execution_count": null,
   "id": "ea6dc332",
   "metadata": {},
   "outputs": [],
   "source": [
    "# but what if I want the user to keep giving me numbers until they say\n",
    "# \"stop\"?\n",
    "\n",
    "active = True # flag\n",
    "while active: \n",
    "    userInput = input(\"Give me a number to multiply by 2: \")\n",
    "    if userInput == \"stop\": \n",
    "        active = False\n",
    "    else: \n",
    "        print(f\"{userInput} * 2 = {float(userInput)*2}\")\n",
    "        \n",
    "# here my only input choices are numbers or \"stop\", \n",
    "# otherwise code crashes"
   ]
  },
  {
   "cell_type": "code",
   "execution_count": null,
   "id": "e33db86e",
   "metadata": {},
   "outputs": [],
   "source": [
    "while True:\n",
    "    userInput = input(\"Give me a number to multiply by 2: \")\n",
    "    if userInput == \"stop\": \n",
    "        break\n",
    "    elif not userInput.isdigit():\n",
    "        print(\"sorry, I can only multiply numbers\")\n",
    "    else: \n",
    "        print(f\"{userInput} * 2 = {float(userInput)*2}\")\n",
    "print(\"thanks for doing math with me!\")"
   ]
  },
  {
   "cell_type": "code",
   "execution_count": null,
   "id": "e4da2b58",
   "metadata": {},
   "outputs": [],
   "source": [
    "while True:\n",
    "    userInput = input(\"Give me a number to multiply by 2: \")\n",
    "    if userInput == \"stop\": break\n",
    "    try:\n",
    "        num = float(userInput) # assume here that conversion of text to number will work\n",
    "    except:\n",
    "        print(\"Not a number!\") # when conversion fails\n",
    "    else:\n",
    "        print(float(userInput) * 2)\n",
    "print(\"thanks for doing math with me!\")"
   ]
  }
 ],
 "metadata": {
  "kernelspec": {
   "display_name": "Python 3 (ipykernel)",
   "language": "python",
   "name": "python3"
  },
  "language_info": {
   "codemirror_mode": {
    "name": "ipython",
    "version": 3
   },
   "file_extension": ".py",
   "mimetype": "text/x-python",
   "name": "python",
   "nbconvert_exporter": "python",
   "pygments_lexer": "ipython3",
   "version": "3.12.0"
  }
 },
 "nbformat": 4,
 "nbformat_minor": 5
}
