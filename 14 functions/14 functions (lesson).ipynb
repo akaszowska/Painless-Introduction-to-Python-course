{
 "cells": [
  {
   "cell_type": "markdown",
   "id": "9a3ba9b5",
   "metadata": {},
   "source": [
    "# FUNCTIONS\n",
    "as in, writing our own!"
   ]
  },
  {
   "cell_type": "code",
   "execution_count": null,
   "id": "5fe652c7",
   "metadata": {},
   "outputs": [],
   "source": [
    "def happy_halloween():\n",
    "    \"\"\"Display a message.\"\"\"\n",
    "    print(\"Trick or treat!\")\n",
    "    \n",
    "happy_halloween()"
   ]
  },
  {
   "cell_type": "markdown",
   "id": "5a4f5c2d",
   "metadata": {},
   "source": [
    "What did we just do there?\n",
    "\n",
    "The keyword def informs python that we are defining a function.\n",
    "\n",
    "The first line of code tells python the name of the function, and what kind of information the function needs (if applicable). Empty parentheses means no extra information is needed to run the function. We then have \":\" at the end. \n",
    "\n",
    "Any indented lines that follow def function() make up the body of the function.\n",
    "\n",
    "The comment in line two, in triple quotes, is called a docstring, and it describes what the funciton does. Python looks for triple quotations in functions, so it can generate documentation for the functions. \n",
    "\n",
    "The line print(\"Trick or treat!\") is the only actual code here, so happy_halloween() does only one thing: it prints \"Trick or treat!\". \n",
    "\n",
    "To call the function - meaning, to use it - we simply type the function's name and any required inputs. "
   ]
  },
  {
   "cell_type": "code",
   "execution_count": null,
   "id": "c753b567",
   "metadata": {},
   "outputs": [],
   "source": [
    "def happy_halloween(costume):\n",
    "    \"\"\"Display a message.\"\"\"\n",
    "    print(f\"Trick or treat, you scary {costume.title()}!\")\n",
    "    \n",
    "happy_halloween('zombie')\n",
    "happy_halloween() # error - costume name was missing"
   ]
  },
  {
   "cell_type": "markdown",
   "id": "e5bb457f",
   "metadata": {},
   "source": [
    "parameter: costume - a piece of information the function needs to do its job\n",
    "\n",
    "argument: 'zombie' - a value; a piece of information that's passed form a function call to a function"
   ]
  },
  {
   "cell_type": "markdown",
   "id": "3caf60d0",
   "metadata": {},
   "source": [
    "A function can have multiple parameters, so a function call may need mulitple arguments.\n",
    "\n",
    "Positional arguments need to be in the same order when they are written.\n",
    "\n",
    "Keyword arguments are name-value pairs that you pass to a function. You directly associate the name and the value within the argument, so when you pass the argument to the function, the order does not matter. "
   ]
  },
  {
   "cell_type": "markdown",
   "id": "dbf12708",
   "metadata": {},
   "source": [
    "## positional arguments"
   ]
  },
  {
   "cell_type": "code",
   "execution_count": null,
   "id": "f5a01563",
   "metadata": {},
   "outputs": [],
   "source": [
    "def happy_halloween(costume, candy):\n",
    "    \"\"\"Display information for trick or treaters.\"\"\"\n",
    "    print(f\"\\nI am dressed as a {costume}.\")\n",
    "    print(f\"I got a ton of {candy} for my halloween performance as a {costume}.\")\n",
    "\n",
    "happy_halloween('zombie', 'snickers')\n",
    "happy_halloween('princess', 'm&ms')\n",
    "\n",
    "happy_halloween('kitkat', 'firefighter')"
   ]
  },
  {
   "cell_type": "markdown",
   "id": "d3dca77c",
   "metadata": {},
   "source": [
    "## keyword arguments"
   ]
  },
  {
   "cell_type": "code",
   "execution_count": null,
   "id": "b9898a49",
   "metadata": {},
   "outputs": [],
   "source": [
    "def happy_halloween(costume, candy):\n",
    "    \"\"\"Display information for trick or treaters.\"\"\"\n",
    "    print(f\"\\nI am dressed as a {costume}.\")\n",
    "    print(f\"I got a ton of {candy} for my halloween performance as a {costume}.\")\n",
    "\n",
    "happy_halloween(costume='zombie', candy='snickers')\n",
    "happy_halloween(candy='kitkat', costume='firefighter') "
   ]
  },
  {
   "cell_type": "markdown",
   "id": "6e8093e3",
   "metadata": {},
   "source": [
    "## default values\n",
    "When writing a function, you can write a default value for each parameter.\n",
    "\n",
    "If an argument for a parameter is provided in the function call, Python uses the argument value.\n",
    "\n",
    "If not, it uses the parameter's default value. "
   ]
  },
  {
   "cell_type": "code",
   "execution_count": null,
   "id": "780156bb",
   "metadata": {},
   "outputs": [],
   "source": [
    "def happy_halloween(costume, candy='chocolate'):\n",
    "    \"\"\"Display information for trick or treaters.\"\"\"\n",
    "    print(f\"\\nI am dressed as a {costume}.\")\n",
    "    print(f\"I got a ton of {candy} for my halloween performance as a {costume}.\")\n",
    "    \n",
    "happy_halloween(costume='zombie')"
   ]
  },
  {
   "cell_type": "markdown",
   "id": "d8a01a56",
   "metadata": {},
   "source": [
    "## equivalent function calls"
   ]
  },
  {
   "cell_type": "code",
   "execution_count": null,
   "id": "6f26e8e2",
   "metadata": {},
   "outputs": [],
   "source": [
    "def happy_halloween(costume, candy='chocolate'): # order matters: defaults are last\n",
    "    \"\"\"Display information for trick or treaters.\"\"\"\n",
    "    print(f\"\\nI am dressed as a {costume}.\")\n",
    "    print(f\"I got a ton of {candy} for my halloween performance as a {costume}.\")\n",
    "\n",
    "# a kid dressed as a zombie:\n",
    "happy_halloween(costume='zombie')\n",
    "happy_halloween('zombie')\n",
    "    \n",
    "# a kid dressed as a firefighter\n",
    "happy_halloween('firefighter','snickers')\n",
    "happy_halloween(costume='firefighter',candy='snickers')\n",
    "happy_halloween(candy='snickers',costume='firefighter')"
   ]
  },
  {
   "cell_type": "markdown",
   "id": "77db9604",
   "metadata": {},
   "source": [
    "## return values\n",
    "A function can process some data and then return a value or set of values.\n",
    "\n",
    "The return statement takes a value from inside the function and sends it back to the line that called the function."
   ]
  },
  {
   "cell_type": "code",
   "execution_count": null,
   "id": "ecec142f",
   "metadata": {},
   "outputs": [],
   "source": [
    "def bake(cake, flavor):\n",
    "    \"\"\"Return a dessert.\"\"\"\n",
    "    finished_baking = f\"{flavor} {cake}\"\n",
    "    return finished_baking\n",
    "\n",
    "dessert = bake('cookies','chocolate')\n",
    "print(dessert)"
   ]
  },
  {
   "cell_type": "markdown",
   "id": "403cef1d",
   "metadata": {},
   "source": [
    "## making an argument optional"
   ]
  },
  {
   "cell_type": "code",
   "execution_count": null,
   "id": "1853c601",
   "metadata": {},
   "outputs": [],
   "source": [
    "def bake(cake, flavor, adjective=''):\n",
    "    \"\"\"Return a dessert.\"\"\"\n",
    "    if adjective:\n",
    "        finished_baking = f\"{adjective} {flavor} {cake}\"\n",
    "    else:\n",
    "        finished_baking = f\"{flavor} {cake}\"\n",
    "    return finished_baking\n",
    "\n",
    "dessert = bake('cookies','chocolate')\n",
    "print(dessert)\n",
    "\n",
    "dessert = bake('cookies','chocolate','delicious')\n",
    "print(dessert)"
   ]
  },
  {
   "cell_type": "markdown",
   "id": "b94b7499",
   "metadata": {},
   "source": [
    "## returning a dictionary"
   ]
  },
  {
   "cell_type": "code",
   "execution_count": null,
   "id": "41b81267",
   "metadata": {},
   "outputs": [],
   "source": [
    "def bake(cake, flavor, adjective=None): # none is a placeholder value, \n",
    "                                        # for when a variable has no specific value assigned to it\n",
    "    \"\"\"Return a dictionary about a dessert\"\"\"\n",
    "    finished_baking = {'name': cake, 'flavor': flavor}\n",
    "    if adjective:\n",
    "        finished_baking['description'] = adjective\n",
    "    return finished_baking\n",
    "\n",
    "dessert = bake('cookies','chocolate')\n",
    "print(make_this)\n",
    "\n",
    "dessert = bake('cookies','chocolate','delicious')\n",
    "print(make_this)"
   ]
  },
  {
   "cell_type": "markdown",
   "id": "c8759200",
   "metadata": {},
   "source": [
    "## using a function with a while loop!"
   ]
  },
  {
   "cell_type": "code",
   "execution_count": null,
   "id": "005d5765",
   "metadata": {},
   "outputs": [],
   "source": [
    "def multiply(one, two):\n",
    "    \"\"\"Return a product of multiplying two numbers.\"\"\"\n",
    "    return one * two\n",
    "\n",
    "# This is an infinite loop!\n",
    "while True:\n",
    "    print(\"\\nLet's do some multiplication!:\")\n",
    "    print(\"(enter 'q' at any time to quit)\")\n",
    "    first = input(\"First number: \")\n",
    "    if first == 'q':\n",
    "        break\n",
    "    second = input(\"Second number: \")\n",
    "    if second == 'q':\n",
    "        break\n",
    "    \n",
    "    product = multiply(int(first), int(second))  # I use my function here\n",
    "                                # note that the input function by default returns a string, \n",
    "                                # and we need integers to multiply\n",
    "    print(f\"\\nProduct of {first} and {second} is {product}!\")"
   ]
  },
  {
   "cell_type": "markdown",
   "id": "2da7a52a",
   "metadata": {},
   "source": [
    "## passing a list"
   ]
  },
  {
   "cell_type": "code",
   "execution_count": null,
   "id": "2e01cd15",
   "metadata": {},
   "outputs": [],
   "source": [
    "def my_favorite(foods):\n",
    "    \"\"\"Print a list of your favorite foods.\"\"\"\n",
    "    for food in foods:\n",
    "        message = f\"I love {food}!\"\n",
    "        print(message)\n",
    "\n",
    "things_I_like = ['chocolate','bananas','mashed potatoes']\n",
    "my_favorite(things_I_like)"
   ]
  },
  {
   "cell_type": "markdown",
   "id": "0e27ccb3",
   "metadata": {},
   "source": [
    "## modifying a list in a function"
   ]
  },
  {
   "cell_type": "code",
   "execution_count": null,
   "id": "77a53de7",
   "metadata": {},
   "outputs": [],
   "source": [
    "# start with a list of ingredients you have in your pantry.\n",
    "ingredients_in_pantry = ['raisins','flour','sugar','vanilla']\n",
    "used_ingredients = []\n",
    "\n",
    "# simulate using each ingredient in your pantry\n",
    "# move each ingredient to used_ingredients after using\n",
    "\n",
    "while ingredients_in_pantry:\n",
    "    ingredient = ingredients_in_pantry.pop()\n",
    "    used_ingredients.append(ingredient)\n",
    "    \n",
    "print(\"\\nThe following ingredients need to be replenished:\")\n",
    "for ingredient in used_ingredients:\n",
    "    print(ingredient)"
   ]
  },
  {
   "cell_type": "code",
   "execution_count": null,
   "id": "2f53eb58",
   "metadata": {
    "scrolled": true
   },
   "outputs": [],
   "source": [
    "def cook_with(ingredients, used_ingredients):\n",
    "    while ingredients:\n",
    "        current_ingredient = ingredients.pop()\n",
    "        print(f\"Cooking with: {current_ingredient}\")\n",
    "        used_ingredients.append(current_ingredient)\n",
    "\n",
    "def run_out_of(used_ingredients):\n",
    "    for current_ingredient in used_ingredients:\n",
    "        print(current_ingredient)\n",
    "\n",
    "in_pantry = ['raisins','flour','sugar','vanilla']\n",
    "need_to_buy = []\n",
    "\n",
    "cook_with(in_pantry, need_to_buy)\n",
    "run_out_of(need_to_buy)"
   ]
  },
  {
   "cell_type": "code",
   "execution_count": null,
   "id": "6442c6cc",
   "metadata": {},
   "outputs": [],
   "source": [
    "# same code as above, but different variable names:\n",
    "def cook_with(a, b):\n",
    "    while a:\n",
    "        current = a.pop()\n",
    "        print(f\"Cooking with: {current}\")\n",
    "        b.append(current)\n",
    "\n",
    "def run_out_of(c):\n",
    "    for current in c:\n",
    "        print(current)\n",
    "\n",
    "in_pantry = ['raisins','flour','sugar','vanilla']\n",
    "need_to_buy = []\n",
    "\n",
    "cook_with(in_pantry, need_to_buy)\n",
    "run_out_of(need_to_buy)\n",
    "\n",
    "# when you define a function and parameter names, \n",
    "# the parameter names must be consisten within\n",
    "# the body of the function only. \n",
    "\n",
    "# this means the parameter name is a placeholder\n",
    "# for the input once you call on a function.\n",
    "\n",
    "# so I define parameter before_hug, which\n",
    "# simply refers to some kind of a list that will be\n",
    "# manipulated by my function. Once I call on my\n",
    "# function in actual code, then I can input \n",
    "# my actual list of cats there, and that list can\n",
    "# have whatever variable name I want it to have."
   ]
  },
  {
   "cell_type": "markdown",
   "id": "ca803428",
   "metadata": {},
   "source": [
    "### rewriting code as functions is called REFACTORING\n",
    "\n",
    "Breaking down your long scripts into smaller functions makes your code easier to edit later: if you do it correctly, then you can reuse that chunk of code over and over again without copying the whole chunk any time you want to use it. This makes your code more readable and reusable, so it is a good programming practice."
   ]
  },
  {
   "cell_type": "markdown",
   "id": "4b717eb9",
   "metadata": {},
   "source": [
    "## passing an arbitrary number of arguments\n",
    "Sometimes you don't know how many arguments a function will need."
   ]
  },
  {
   "cell_type": "code",
   "execution_count": null,
   "id": "d164878a",
   "metadata": {},
   "outputs": [],
   "source": [
    "def halloween_shopping(*candy): # args\n",
    "    \"\"\"Make a shopping list of halloween candy.\"\"\"\n",
    "    print(candy)\n",
    "\n",
    "halloween_shopping('snickers')\n",
    "halloween_shopping('snickers','mars','twix')"
   ]
  },
  {
   "cell_type": "code",
   "execution_count": null,
   "id": "d95ebd9c",
   "metadata": {},
   "outputs": [],
   "source": [
    "def halloween_shopping(*candy): # args\n",
    "    \"\"\"Make a shopping list of halloween candy.\"\"\"\n",
    "    print(\"Remember to buy the following for Halloween:\")\n",
    "    for yum in candy:\n",
    "        print(f\" - {yum}\")\n",
    "\n",
    "halloween_shopping('snickers')\n",
    "halloween_shopping('snickers','mars','twix')"
   ]
  },
  {
   "cell_type": "markdown",
   "id": "7c3d9d87",
   "metadata": {},
   "source": [
    "## mixing positional and arbitrary arguments"
   ]
  },
  {
   "cell_type": "code",
   "execution_count": null,
   "id": "31384e28",
   "metadata": {},
   "outputs": [],
   "source": [
    "def halloween_shopping(shopper, *candy): # args\n",
    "    \"\"\"Make a shopping list of halloween candy.\"\"\"\n",
    "    print(f\"{shopper.title()}, please remember to buy the following for Halloween:\")\n",
    "    for yum in candy:\n",
    "        print(f\" - {yum}\")\n",
    "\n",
    "halloween_shopping('Andy', 'snickers')\n",
    "halloween_shopping('Honey','mars','twix')"
   ]
  },
  {
   "cell_type": "markdown",
   "id": "e0bcf1fc",
   "metadata": {},
   "source": [
    "# ADVICE FOR WRITING FUNCTIONS"
   ]
  },
  {
   "cell_type": "markdown",
   "id": "508d1235",
   "metadata": {},
   "source": [
    "some things to keep in mind:\n",
    "- naming convention: make sure your functions have descriptive names, and only use lowercase letters and underscores \n",
    "- docstring: remember to explain what your function does in a comment (\"\"\") \n",
    "- if your program or module has more than one function, separate them by two blank lines so it is easier to see where one function ends and the next one begins\n",
    "- all import statements should be written at the beginning of the file (but after the docstring)"
   ]
  }
 ],
 "metadata": {
  "kernelspec": {
   "display_name": "Python 3 (ipykernel)",
   "language": "python",
   "name": "python3"
  },
  "language_info": {
   "codemirror_mode": {
    "name": "ipython",
    "version": 3
   },
   "file_extension": ".py",
   "mimetype": "text/x-python",
   "name": "python",
   "nbconvert_exporter": "python",
   "pygments_lexer": "ipython3",
   "version": "3.12.0"
  }
 },
 "nbformat": 4,
 "nbformat_minor": 5
}
