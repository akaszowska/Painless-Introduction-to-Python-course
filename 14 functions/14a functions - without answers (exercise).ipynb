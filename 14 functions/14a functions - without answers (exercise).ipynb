{
 "cells": [
  {
   "cell_type": "markdown",
   "id": "e1df87ea",
   "metadata": {},
   "source": [
    "# functions: exercise (answers)"
   ]
  },
  {
   "cell_type": "markdown",
   "id": "11914d9f-33fd-434c-a666-3588ec7a7868",
   "metadata": {},
   "source": [
    "### reverse\n",
    "\n",
    "write a function called <i>reverse</i> to reverse a string.\n",
    "\n",
    "TEST:\n",
    "\n",
    "input: reverse(\"potato\")\n",
    "\n",
    "output: 'otatop'"
   ]
  },
  {
   "cell_type": "code",
   "execution_count": null,
   "id": "d4bf80b9",
   "metadata": {},
   "outputs": [],
   "source": []
  },
  {
   "cell_type": "markdown",
   "id": "1d1738a9",
   "metadata": {},
   "source": [
    "### multiplyall\n",
    "\n",
    "write a function called <i>multiplyall</i> to multiple all numbers in a list.\n",
    "\n",
    "TEST:\n",
    "\n",
    "input:\n",
    "\n",
    "mylist = [1, 2, 3, 4, 5, 6]\n",
    "\n",
    "multiplyall(mylist)\n",
    "\n",
    "output: 720"
   ]
  },
  {
   "cell_type": "code",
   "execution_count": null,
   "id": "dbc6a27d",
   "metadata": {},
   "outputs": [],
   "source": []
  },
  {
   "cell_type": "markdown",
   "id": "75bf1ab1",
   "metadata": {},
   "source": [
    "### fahrenheit\n",
    "\n",
    "write a function called <i>fahrenheit</i> that converts a temperature in Fahrenheit to a temperature in Celsius. \n",
    "\n",
    "conversion: \n",
    "celsius = (fahrenheit - 32) * 5/9\n",
    "\n",
    "TEST:\n",
    "\n",
    "input: fahrenheit(98.6)\n",
    "\n",
    "output: 37.0"
   ]
  },
  {
   "cell_type": "code",
   "execution_count": null,
   "id": "59846d25",
   "metadata": {},
   "outputs": [],
   "source": []
  },
  {
   "cell_type": "markdown",
   "id": "8cac0fb1",
   "metadata": {},
   "source": [
    "### onlyletters\n",
    "\n",
    "write a function called <i>onlyletters</i> that takes any string and returns a string of only letters, all lower case.\n",
    "\n",
    "TEST:\n",
    "\n",
    "input:\n",
    "\n",
    "onlyletters(\"What a wonderful day for SCIENCE!\")\n",
    "\n",
    "output: \n",
    "\n",
    "\"whatawonderfuldayforscience\""
   ]
  },
  {
   "cell_type": "code",
   "execution_count": null,
   "id": "907af25a",
   "metadata": {},
   "outputs": [],
   "source": []
  },
  {
   "cell_type": "markdown",
   "id": "29282e8c",
   "metadata": {},
   "source": [
    "### countletters\n",
    "\n",
    "write a funciton called <i>countletters</i> that counts how many times each letter (case insensitive) of the alphabet is used in the string. Return a dictionary that contains only the counts for letters that are used. Use <i>onlyletters</i> function from above inside your <i>countletters</i> function.\n",
    "\n",
    "TEST:\n",
    "\n",
    "input:\n",
    "\n",
    "countletters(\"What a wonderful day for science!\")\n",
    "\n",
    "output:\n",
    "\n",
    "{'a': 3, 'c': 2, 'd': 2, 'e': 3, 'f': 2, 'h': 1, 'i': 1, 'l': 1, 'n': 2, 'o': 2, 'r': 2, 's': 1, 't': 1, 'u': 1, 'w': 2, 'y': 1}"
   ]
  },
  {
   "cell_type": "code",
   "execution_count": null,
   "id": "545a7899",
   "metadata": {},
   "outputs": [],
   "source": []
  },
  {
   "cell_type": "markdown",
   "id": "81f1112f",
   "metadata": {},
   "source": [
    "### whatever\n",
    "\n",
    "write a function that takes any number of any input arguments, and returns \"whatever, dude\".\n",
    "\n",
    "TEST:\n",
    "\n",
    "input:\n",
    "\n",
    "whatever(1,2,3,4)\n",
    "\n",
    "whatever(\"I am the king of the world\")\n",
    "\n",
    "output:\n",
    "\n",
    "Whatever, dude.\n",
    "\n",
    "Whatever, dude."
   ]
  },
  {
   "cell_type": "code",
   "execution_count": null,
   "id": "cc6071f7",
   "metadata": {},
   "outputs": [],
   "source": []
  },
  {
   "cell_type": "markdown",
   "id": "b60237a1",
   "metadata": {},
   "source": [
    "### beer\n",
    "\n",
    "Write a function that takes the first argument of current time and returns a decision whether it is time to get beer yet or not. The function also has an optional argument of day of the week. \n",
    "\n",
    "If the user inputs only one argument, time, then it is time to get beer between 16:30 and 23:59. \n",
    "If the user inputs time and weekday, then it is time to get beer: Monday-Thursday after 16:30 until 23:59, Friday starting at 16:30 until Sunday at 23:59. \n",
    "\n",
    "TEST:\n",
    "\n",
    "those should evaluate as false: beer(\"15:00\"), beer(\"8:00\",\"Monday\")\n",
    "\n",
    "those should evaluate as true: beer(\"16:30\"), beer(\"8:00\",\"Saturday\")"
   ]
  },
  {
   "cell_type": "code",
   "execution_count": null,
   "id": "ca135258",
   "metadata": {},
   "outputs": [],
   "source": []
  }
 ],
 "metadata": {
  "kernelspec": {
   "display_name": "Python 3 (ipykernel)",
   "language": "python",
   "name": "python3"
  },
  "language_info": {
   "codemirror_mode": {
    "name": "ipython",
    "version": 3
   },
   "file_extension": ".py",
   "mimetype": "text/x-python",
   "name": "python",
   "nbconvert_exporter": "python",
   "pygments_lexer": "ipython3",
   "version": "3.12.0"
  }
 },
 "nbformat": 4,
 "nbformat_minor": 5
}
