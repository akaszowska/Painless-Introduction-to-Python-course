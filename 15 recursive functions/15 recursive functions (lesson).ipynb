{
 "cells": [
  {
   "cell_type": "markdown",
   "id": "7df055c7",
   "metadata": {},
   "source": [
    "## case study: factorials\n",
    "a factorial is a non-negative integer n, denoted by n!, and it is a product of all positive integers less than or equal n. (https://en.wikipedia.org/wiki/Factorial)\n",
    "\n",
    "    a factorial of 1, denoted 1!, equals 1.\n",
    "    a factorial of 2, 2! = 2 * 1! = 2 * 1\n",
    "    3! = 3 * 2! = 3 * 2 * 1\n",
    "    4! = 4 * 3! = 4 * 3 * 2 * 1\n",
    "    5! = 5 * 4! = 5 * 4 * 3 * 2 * 1\n",
    "    and so on\n",
    "    \n",
    "In the case of solving a factorial, the base case is 1!, because 1! ALWAYS EQUALS 1. That's it. Earth is round, chocolate is delicious, and 1! equals 1. The ground truths of the universe. \n",
    "\n",
    "The next factorial is 2!. To solve 2!, we calculate 2 * 1!. Remember, 1! is the base case, so 1! is always 1. Therefore, 2 * 1! = 2 * 1 = 2. Therefore, solving 2! requires us to decompose 2! into the base case and \"the other stuff\", which here is one recursive case.\n",
    "\n",
    "The next factorial is 3!. To solve 3!, we calculate 3 * 2!. So to solve 3!, we need to also solve 2!, which we already know requires us to solve 1! as well... to solve 3!, we use one base case (1!) and two recursions (one to solve 2!, one to solve 3!). We cannot solve 2! without first solving 1!, and we cannot solve 3! without first solving 2!. "
   ]
  },
  {
   "cell_type": "markdown",
   "id": "893788a9",
   "metadata": {},
   "source": [
    "## solving factorials with a for-loop"
   ]
  },
  {
   "cell_type": "code",
   "execution_count": 2,
   "id": "da0f9d8b",
   "metadata": {},
   "outputs": [
    {
     "name": "stdout",
     "output_type": "stream",
     "text": [
      "5! = 120\n"
     ]
    }
   ],
   "source": [
    "number = 5\n",
    "factorial_number = 1 \n",
    "for i in range(1, number+1):\n",
    "    factorial_number *= i\n",
    "print(f\"{number}! = {factorial_number}\")"
   ]
  },
  {
   "cell_type": "markdown",
   "id": "310e1c21",
   "metadata": {},
   "source": [
    "but what if I want to solve my factorial problem with a function?"
   ]
  },
  {
   "cell_type": "markdown",
   "id": "471be21f",
   "metadata": {},
   "source": [
    "# RECURSIVE FUNCTIONS\n",
    "\n",
    "A recursive function is a function that calls on itself. The function will continue to call itself and repeat specific behavior until some specific condition is met to return a defined result. \n",
    "\n",
    "All recursive functions have two parts: a base case (where calling on the function with a specific argument will return a predefined result), and recursive case (where calling on the function will require the function to call on itself again). \n",
    "\n",
    "Take factorials: for a factorial, the base case is 1!, because 1! ALWAYS EQUALS 1. Then, 2! = 2 * 1!, so 2! is 2 multiplied by the base case. Then, 3! = 3 * 2! = 3 * 2 * 1!, so 3! is 3 multiplied by 2!, and 2! is 2 multiplied by the base case. Then, 4!... Do you see where this is going? We cannot solve more complex numbers without the base case, and to get to the base case - we need to keep recursing."
   ]
  },
  {
   "cell_type": "markdown",
   "id": "9249b818",
   "metadata": {},
   "source": [
    "solving factorials with a function looks like this:"
   ]
  },
  {
   "cell_type": "code",
   "execution_count": null,
   "id": "bc8a22d6",
   "metadata": {},
   "outputs": [],
   "source": [
    "def factorial(n):\n",
    "    if n==1:\n",
    "        return n\n",
    "    else:\n",
    "        return n*(factorial(n-1))"
   ]
  },
  {
   "cell_type": "markdown",
   "id": "c7e565e1",
   "metadata": {},
   "source": [
    "so what happened in my function? \n",
    "\n",
    "this is the same function as above, but I added a lot of print statements so you can see what happens step by step:"
   ]
  },
  {
   "cell_type": "code",
   "execution_count": null,
   "id": "1e534dfe",
   "metadata": {},
   "outputs": [],
   "source": [
    "number = 5\n",
    "print(f\"To solve factorial({number}), I first must break down the process step by step, all the way down to my base case:\\n\\n\")\n",
    "\n",
    "def factorial(n):\n",
    "    if n==1:\n",
    "        print(f\"In this step, n={n}: factorial({n}) equals 1, because that's how math works.\") \n",
    "        print(f\"procedure: when n==1, the function returns n.\")\n",
    "        print(f\"Therefore, factorial(1) returns 1, always.\")\n",
    "        print(f\"return: factorial(1) = 1\\n\\n\")\n",
    "        return n\n",
    "    else:\n",
    "        print(f\"In this step, n={n}: we are now solving factorial({n}).\")\n",
    "        print(f\"procedure: when n!=1, the function returns n*(factorial(n-1)).\")\n",
    "        print(f\"This comes out as {n}*factorial({n-1}). As you see, the function returns a number ({n}) and refers back to itself.\")\n",
    "        print(f\"This means that {n}*factorial({n-1}) is put on a stack (can't solve it, will do it later), and the function will next try to solve factorial({n-1}).\")\n",
    "        print(f\"return: {n} * factorial({n-1}), which is effectively equal to factorial({n}).\")\n",
    "        print(f\"add to the stack: {n}.\\n\\n\")\n",
    "        return n*(factorial(n-1))\n",
    "\n",
    "factorial(number)\n",
    "\n",
    "print(\"Now I am all the way down to factorial(1).\")\n",
    "print(\"so to get all the way back up to factorial(5), I am retracing my steps, from bottom to top.\")\n",
    "print(\"I am addressing my stack in from my recursive function where last in, first out:\")\n",
    "print(\"factorial(1) = 1\")\n",
    "print(\"factorial(2) = 2*factorial(1) = 2*1 = 2 --> 2 was last in the stack, so it is first out\")\n",
    "print(\"factorial(3) = 3*factorial(2) = 3*2 = 6\")\n",
    "print(\"factorial(4) = 4*factorial(3) = 4*6 = 24\")\n",
    "print(\"factorial(5) = 5*factorial(4) = 5*24 = 120 --> 5 was first in the stack, so it is last out\")"
   ]
  },
  {
   "cell_type": "markdown",
   "id": "9809d4d8",
   "metadata": {},
   "source": [
    "### another example of a recursive function: sum of items in list"
   ]
  },
  {
   "cell_type": "code",
   "execution_count": null,
   "id": "87060462",
   "metadata": {},
   "outputs": [],
   "source": [
    "def list_sum(num_List):\n",
    "    if len(num_List) == 1:\n",
    "        return num_List[0]\n",
    "    else:\n",
    "        return num_List[0] + list_sum(num_List[1:])\n",
    "\n",
    "mylist = [2,4,6,8]\n",
    "\n",
    "list_sum(mylist)"
   ]
  }
 ],
 "metadata": {
  "kernelspec": {
   "display_name": "Python 3 (ipykernel)",
   "language": "python",
   "name": "python3"
  },
  "language_info": {
   "codemirror_mode": {
    "name": "ipython",
    "version": 3
   },
   "file_extension": ".py",
   "mimetype": "text/x-python",
   "name": "python",
   "nbconvert_exporter": "python",
   "pygments_lexer": "ipython3",
   "version": "3.12.0"
  }
 },
 "nbformat": 4,
 "nbformat_minor": 5
}
