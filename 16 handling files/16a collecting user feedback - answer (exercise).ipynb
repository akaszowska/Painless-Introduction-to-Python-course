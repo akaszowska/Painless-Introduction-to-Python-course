{
 "cells": [
  {
   "cell_type": "markdown",
   "id": "fecfc186",
   "metadata": {},
   "source": [
    "# collecting user feedback (and manipulating reviews): exercise (answers)"
   ]
  },
  {
   "cell_type": "markdown",
   "id": "3d14e404",
   "metadata": {},
   "source": [
    "write code that will create a csv file (extension can be either .txt or .csv, up to you),where users can rate their experience using a product\n",
    "\n",
    "your program will take user input and convert it to a csv file. If a file already exists, then new user reviews will be appended to the old user reviews in the same file.\n",
    "\n",
    "The user needs to provide the following information: user name, product name, star rating, any other comments\n",
    "\n",
    "BUT! the user should not able to give a rating lower than 4 or 5 stars; if the user inputs a rating of 3 or lower, your program will keep asking the user if they're sure, repeatedly, until the user inputs 4 or 5. "
   ]
  },
  {
   "cell_type": "code",
   "execution_count": 1,
   "id": "ec5b3b31",
   "metadata": {},
   "outputs": [
    {
     "name": "stdout",
     "output_type": "stream",
     "text": [
      "Welcome to the product rating program.\n",
      "What is your name? Aleksandra\n",
      "what is the product? a thermos\n",
      "what is your rating, out of 5? 2\n",
      "are you sure? try rating again, out of 5: 5\n",
      "any other comments? no\n",
      "Would you like to add another person? (y/n) n\n",
      "Thanks for participating!\n"
     ]
    }
   ],
   "source": [
    "import csv\n",
    "\n",
    "print(\"Welcome to the product rating program.\")\n",
    "\n",
    "with open('ratings.csv', mode='a', newline='') as ratings_file:\n",
    "    ratings_writer = csv.writer(ratings_file, delimiter=';', quotechar='\"')\n",
    "    \n",
    "    # write headers\n",
    "    ratings_writer.writerow(['user name','product name','rating','comments'])\n",
    "    \n",
    "    writing_active = True\n",
    "    while writing_active:\n",
    "        name = input('What is your name? ')\n",
    "        product = input(\"what is the product? \")\n",
    "        rating = int(input(\"what is your rating, out of 5? \"))\n",
    "        while rating <= 3:\n",
    "            rating = int(input(\"are you sure? try rating again, out of 5: \"))\n",
    "        comments = input(\"any other comments? \")\n",
    "        ratings_writer.writerow([name.title(), product, rating, f'\"{comments}\"'])\n",
    "        repeat = input(\"Would you like to add another person? (y/n) \")\n",
    "        if repeat == 'n':\n",
    "            writing_active = False\n",
    "\n",
    "print(\"Thanks for participating!\")"
   ]
  },
  {
   "cell_type": "code",
   "execution_count": null,
   "id": "938e61eb",
   "metadata": {},
   "outputs": [],
   "source": [
    "import csv\n",
    "\n",
    "print(\"Welcome to the product rating program.\")\n",
    "\n",
    "with open('ratings.csv', mode='a', newline='') as ratings_file:\n",
    "    ratings_writer = csv.writer(ratings_file, delimiter=';', quotechar='\"')\n",
    "    \n",
    "    # write headers\n",
    "    ratings_writer.writerow(['user name','product name','rating','comments'])\n",
    "    \n",
    "    writing_active = True\n",
    "    while writing_active:\n",
    "        name = input('What is your name? ')\n",
    "        product = input(\"what is the product? \")\n",
    "        \n",
    "        try: \n",
    "            rating = int(input(\"what is your rating, out of 5? \"))\n",
    "        except ValueError:\n",
    "            print(\"That was NOT a number! You have to put a number.\")\n",
    "            rating = int(input(\"try again: rating, out of 5: \"))\n",
    "           \n",
    "            while rating <= 3:     \n",
    "                rating = int(input(\"try again: rating, out of 5: \"))\n",
    "        comments = input(\"any other comments? \")\n",
    "        ratings_writer.writerow([name, product, rating, f'\"{comments}\"'])\n",
    "        repeat = input(\"Would you like to add another person? (y/n) \")\n",
    "        if repeat == 'n':\n",
    "            writing_active = False\n",
    "\n",
    "print(\"Thanks for participating!\")"
   ]
  },
  {
   "cell_type": "code",
   "execution_count": null,
   "id": "e5783740",
   "metadata": {},
   "outputs": [],
   "source": [
    "import csv\n",
    "\n",
    "print(\"Welcome to the product rating program.\")\n",
    "\n",
    "good_rating = {4,5,\"4\",\"5\",\"four\",\"five\",\"4 stars\",\"5 stars\"}\n",
    "\n",
    "with open('ratings.csv', mode='a', newline='') as ratings_file:\n",
    "    ratings_writer = csv.writer(ratings_file, delimiter=';', quotechar='\"')\n",
    "    \n",
    "    # write headers\n",
    "    ratings_writer.writerow(['user name','product name','rating','comments'])\n",
    "    \n",
    "    writing_active = True\n",
    "    while writing_active:\n",
    "        name = input('What is your name? ')\n",
    "        product = input(\"what is the product? \")\n",
    "        rating = input(\"what is your rating, out of 5? \")\n",
    "        while rating not in good_rating:     \n",
    "            rating = input(\"try again: rating, out of 5: \")\n",
    "        comments = input(\"any other comments? \")\n",
    "        ratings_writer.writerow([name, product, rating, f'\"{comments}\"'])\n",
    "        repeat = input(\"Would you like to add another person? (y/n) \")\n",
    "        if repeat == 'n':\n",
    "            writing_active = False\n",
    "\n",
    "print(\"Thanks for participating!\") "
   ]
  }
 ],
 "metadata": {
  "kernelspec": {
   "display_name": "Python 3 (ipykernel)",
   "language": "python",
   "name": "python3"
  },
  "language_info": {
   "codemirror_mode": {
    "name": "ipython",
    "version": 3
   },
   "file_extension": ".py",
   "mimetype": "text/x-python",
   "name": "python",
   "nbconvert_exporter": "python",
   "pygments_lexer": "ipython3",
   "version": "3.12.0"
  }
 },
 "nbformat": 4,
 "nbformat_minor": 5
}
