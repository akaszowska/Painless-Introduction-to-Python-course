{
 "cells": [
  {
   "cell_type": "markdown",
   "id": "fecfc186",
   "metadata": {},
   "source": [
    "# collecting user feedback (and manipulating reviews)"
   ]
  },
  {
   "cell_type": "markdown",
   "id": "3d14e404",
   "metadata": {},
   "source": [
    "write code that will create a csv file (extension can be either .txt or .csv, up to you),where users can rate their experience using a product\n",
    "\n",
    "your program will take user input and convert it to a csv file. If a file already exists, then new user reviews will be appended to the old user reviews in the same file.\n",
    "\n",
    "The user needs to provide the following information: user name, product name, star rating, any other comments\n",
    "\n",
    "BUT! the user should not able to give a rating lower than 4 or 5 stars; if the user inputs a rating of 3 or lower, your program will keep asking the user if they're sure, repeatedly, until the user inputs 4 or 5. "
   ]
  },
  {
   "cell_type": "code",
   "execution_count": null,
   "id": "ec5b3b31",
   "metadata": {},
   "outputs": [],
   "source": []
  }
 ],
 "metadata": {
  "kernelspec": {
   "display_name": "Python 3 (ipykernel)",
   "language": "python",
   "name": "python3"
  },
  "language_info": {
   "codemirror_mode": {
    "name": "ipython",
    "version": 3
   },
   "file_extension": ".py",
   "mimetype": "text/x-python",
   "name": "python",
   "nbconvert_exporter": "python",
   "pygments_lexer": "ipython3",
   "version": "3.9.12"
  }
 },
 "nbformat": 4,
 "nbformat_minor": 5
}
