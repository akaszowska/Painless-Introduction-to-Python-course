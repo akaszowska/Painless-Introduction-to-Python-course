{
 "cells": [
  {
   "cell_type": "markdown",
   "id": "b58a64bb",
   "metadata": {},
   "source": [
    "# STORING FUNCTIONS AS MODULES\n",
    "\n",
    "https://docs.python.org/3/tutorial/modules.html"
   ]
  },
  {
   "cell_type": "markdown",
   "id": "47f35057",
   "metadata": {},
   "source": [
    "A module is a file ending in .py that contains the code you want to import into your program.\n",
    "\n",
    "The module we will be working today is called \"math\".\n",
    "\n",
    "We start by importing the math module. The following line tells Python to import the math.py file, and copy all the functions from there into our program:"
   ]
  },
  {
   "cell_type": "code",
   "execution_count": 1,
   "id": "5a0bd22b",
   "metadata": {
    "scrolled": true
   },
   "outputs": [],
   "source": [
    "import math"
   ]
  },
  {
   "cell_type": "markdown",
   "id": "5e2018e0",
   "metadata": {},
   "source": [
    "# finding out what functions are in a module"
   ]
  },
  {
   "cell_type": "code",
   "execution_count": 2,
   "id": "b22fd246",
   "metadata": {},
   "outputs": [
    {
     "data": {
      "text/plain": [
       "['__doc__',\n",
       " '__loader__',\n",
       " '__name__',\n",
       " '__package__',\n",
       " '__spec__',\n",
       " 'acos',\n",
       " 'acosh',\n",
       " 'asin',\n",
       " 'asinh',\n",
       " 'atan',\n",
       " 'atan2',\n",
       " 'atanh',\n",
       " 'cbrt',\n",
       " 'ceil',\n",
       " 'comb',\n",
       " 'copysign',\n",
       " 'cos',\n",
       " 'cosh',\n",
       " 'degrees',\n",
       " 'dist',\n",
       " 'e',\n",
       " 'erf',\n",
       " 'erfc',\n",
       " 'exp',\n",
       " 'exp2',\n",
       " 'expm1',\n",
       " 'fabs',\n",
       " 'factorial',\n",
       " 'floor',\n",
       " 'fmod',\n",
       " 'frexp',\n",
       " 'fsum',\n",
       " 'gamma',\n",
       " 'gcd',\n",
       " 'hypot',\n",
       " 'inf',\n",
       " 'isclose',\n",
       " 'isfinite',\n",
       " 'isinf',\n",
       " 'isnan',\n",
       " 'isqrt',\n",
       " 'lcm',\n",
       " 'ldexp',\n",
       " 'lgamma',\n",
       " 'log',\n",
       " 'log10',\n",
       " 'log1p',\n",
       " 'log2',\n",
       " 'modf',\n",
       " 'nan',\n",
       " 'nextafter',\n",
       " 'perm',\n",
       " 'pi',\n",
       " 'pow',\n",
       " 'prod',\n",
       " 'radians',\n",
       " 'remainder',\n",
       " 'sin',\n",
       " 'sinh',\n",
       " 'sqrt',\n",
       " 'tan',\n",
       " 'tanh',\n",
       " 'tau',\n",
       " 'trunc',\n",
       " 'ulp']"
      ]
     },
     "execution_count": 2,
     "metadata": {},
     "output_type": "execute_result"
    }
   ],
   "source": [
    "dir(math)"
   ]
  },
  {
   "cell_type": "markdown",
   "id": "b301ef21",
   "metadata": {},
   "source": [
    "## help()\n",
    "\n",
    "If you want to call on a function that is part of an external module, you need to first use the module name, followed by a dot, followed by the name of the function. To access function \"sqrt\" from the \"math\" module, we must refer to it as \"math.sqrt\"\n",
    "\n",
    "the help() function lets you access the docstring of the function:"
   ]
  },
  {
   "cell_type": "code",
   "execution_count": 5,
   "id": "1fe183fa",
   "metadata": {},
   "outputs": [
    {
     "name": "stdout",
     "output_type": "stream",
     "text": [
      "Help on built-in function sqrt in module math:\n",
      "\n",
      "sqrt(x, /)\n",
      "    Return the square root of x.\n",
      "\n"
     ]
    }
   ],
   "source": [
    "help(math.sqrt)"
   ]
  },
  {
   "cell_type": "markdown",
   "id": "31b1025f-3d72-4233-9caf-a0a48d1c8bf3",
   "metadata": {},
   "source": [
    "## importing a specific function\n",
    "\n",
    "If you want to import only one function from the module, you can do it like that:\n",
    "\n",
    "importing a single function means you no longer need to use the module.function convention to refer to that function."
   ]
  },
  {
   "cell_type": "code",
   "execution_count": 6,
   "id": "6938049a",
   "metadata": {},
   "outputs": [
    {
     "data": {
      "text/plain": [
       "4.0"
      ]
     },
     "execution_count": 6,
     "metadata": {},
     "output_type": "execute_result"
    }
   ],
   "source": [
    "# importing specific functions:\n",
    "from math import sqrt # you can put multiple here, separate by ,\n",
    "\n",
    "sqrt(16) # we imported the function directly, so no need for 'math.'"
   ]
  },
  {
   "cell_type": "markdown",
   "id": "762f2c43-2349-4ce9-9e00-5b38784e3a59",
   "metadata": {},
   "source": [
    "## using 'as' to give a function an alias\n",
    "Useful if the name of a function you're importing might conflict with other names in your program, or the function name is long:"
   ]
  },
  {
   "cell_type": "code",
   "execution_count": 8,
   "id": "e05a9fba",
   "metadata": {},
   "outputs": [
    {
     "data": {
      "text/plain": [
       "1.0"
      ]
     },
     "execution_count": 8,
     "metadata": {},
     "output_type": "execute_result"
    }
   ],
   "source": [
    "from math import remainder as rmdr\n",
    "rmdr(16,5)"
   ]
  },
  {
   "cell_type": "markdown",
   "id": "76a3ae0b",
   "metadata": {},
   "source": [
    "## using 'as' to give a module an alias"
   ]
  },
  {
   "cell_type": "code",
   "execution_count": 9,
   "id": "d93cf536",
   "metadata": {},
   "outputs": [
    {
     "data": {
      "text/plain": [
       "4.0"
      ]
     },
     "execution_count": 9,
     "metadata": {},
     "output_type": "execute_result"
    }
   ],
   "source": [
    "import math as m\n",
    "\n",
    "m.sqrt(16)"
   ]
  },
  {
   "cell_type": "markdown",
   "id": "42bc551e",
   "metadata": {},
   "source": [
    "## import all functions in a module"
   ]
  },
  {
   "cell_type": "code",
   "execution_count": null,
   "id": "e0ff8328",
   "metadata": {},
   "outputs": [],
   "source": [
    "from math import *\n",
    "\n",
    "sqrt(16)\n",
    "remainder(16,5)"
   ]
  }
 ],
 "metadata": {
  "kernelspec": {
   "display_name": "Python 3 (ipykernel)",
   "language": "python",
   "name": "python3"
  },
  "language_info": {
   "codemirror_mode": {
    "name": "ipython",
    "version": 3
   },
   "file_extension": ".py",
   "mimetype": "text/x-python",
   "name": "python",
   "nbconvert_exporter": "python",
   "pygments_lexer": "ipython3",
   "version": "3.12.0"
  }
 },
 "nbformat": 4,
 "nbformat_minor": 5
}
