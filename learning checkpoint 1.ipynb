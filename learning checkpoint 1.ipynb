{
 "cells": [
  {
   "cell_type": "markdown",
   "id": "1a4229bf",
   "metadata": {},
   "source": [
    "# Python skills checkpoint"
   ]
  },
  {
   "cell_type": "markdown",
   "id": "1b8e2113",
   "metadata": {},
   "source": [
    "## what is this file? \n",
    "You have been learning about programming in Python for several weeks now. Like with any other language (both human and programming), it is important to have a strong foundation in basic concepts before moving onto more complex things. Below you will see a list of operations that you should be familiar with at this point in your learning. Treat this file as a checkpoint of sorts: you should be able to complete all assignments here WITH relying on your class notes and other resources that are posted on moodle."
   ]
  },
  {
   "cell_type": "markdown",
   "id": "67504cb4",
   "metadata": {},
   "source": [
    "### 1. print and input functions, variables, fstrings, basic arithmetic functions and data types"
   ]
  },
  {
   "cell_type": "markdown",
   "id": "0186af3c",
   "metadata": {},
   "source": [
    "use the print() function to print the following sentence: \n",
    "\n",
    "I like potatoes a lot."
   ]
  },
  {
   "cell_type": "code",
   "execution_count": null,
   "id": "37ac3b44",
   "metadata": {},
   "outputs": [],
   "source": []
  },
  {
   "cell_type": "markdown",
   "id": "445486dc",
   "metadata": {},
   "source": [
    "put the word _potatoes_ into a variable called _vegetable_, and use the print() function to print the following sentence: \n",
    "\n",
    "I like potatoes a lot. \n",
    "\n",
    "The word _potato_ should be printed by inserting the _vegetable_ variable into an fstring. "
   ]
  },
  {
   "cell_type": "code",
   "execution_count": null,
   "id": "495bdfd2",
   "metadata": {},
   "outputs": [],
   "source": []
  },
  {
   "cell_type": "markdown",
   "id": "3834b188",
   "metadata": {},
   "source": [
    "create two variables, _a_ and _b_. Variable _a_ equals 5, and variable _b_ equals 2.\n",
    "\n",
    "now create the following variables:\n",
    "\n",
    "    c is a sum of a and b\n",
    "    d is a difference between a and b\n",
    "    e is a result of multiplication of a and b\n",
    "    f is a result of dividing a by b\n",
    "\n",
    "print all results using the following format: (operation) of (a) and (b) equals (c/d/e/f), for example: sum of 5 and 2 equals 7. "
   ]
  },
  {
   "cell_type": "code",
   "execution_count": null,
   "id": "b74d7c2e",
   "metadata": {},
   "outputs": [],
   "source": []
  },
  {
   "cell_type": "markdown",
   "id": "2c15412e",
   "metadata": {},
   "source": [
    "write a piece of code that replicates the code below (with _a_ and _b_), but now _a_ and _b_ are user's inputs. "
   ]
  },
  {
   "cell_type": "code",
   "execution_count": null,
   "id": "b3976a3e",
   "metadata": {},
   "outputs": [],
   "source": []
  },
  {
   "cell_type": "markdown",
   "id": "66e2dc86",
   "metadata": {},
   "source": [
    "use input() function to ask the user about their name, and then print a greeting (for example, hello (name))."
   ]
  },
  {
   "cell_type": "code",
   "execution_count": null,
   "id": "42244c63",
   "metadata": {},
   "outputs": [],
   "source": []
  },
  {
   "cell_type": "markdown",
   "id": "d51f0bf8",
   "metadata": {},
   "source": [
    "use type() function to learn which data types are contained by the following variables:"
   ]
  },
  {
   "cell_type": "code",
   "execution_count": null,
   "id": "0aab8413",
   "metadata": {},
   "outputs": [],
   "source": [
    "var1 = \"hello, world\"\n",
    "var2 = 1.2\n",
    "var3 = 1_000_000_000\n",
    "var4 = True\n",
    "var5 = (1,2,3)\n",
    "var6 = [1,2,3]\n",
    "var7 = {1: \"one\", 2: \"two\"}"
   ]
  },
  {
   "cell_type": "markdown",
   "id": "43335dde",
   "metadata": {},
   "source": [
    "find and explain the mistake in code below:"
   ]
  },
  {
   "cell_type": "code",
   "execution_count": null,
   "id": "5410c52b",
   "metadata": {},
   "outputs": [],
   "source": [
    "print = \"Hi there!\""
   ]
  },
  {
   "cell_type": "markdown",
   "id": "17beebda",
   "metadata": {},
   "source": [
    "### 2. strings"
   ]
  },
  {
   "cell_type": "markdown",
   "id": "64982671",
   "metadata": {},
   "source": [
    "create a variable called _myString_ that contains the following string:\n",
    "\n",
    "I'm a student at AAU. "
   ]
  },
  {
   "cell_type": "code",
   "execution_count": null,
   "id": "50d91328",
   "metadata": {},
   "outputs": [],
   "source": []
  },
  {
   "cell_type": "markdown",
   "id": "352c141a",
   "metadata": {},
   "source": [
    "Below you see a variable _myString_. Create three new variables: one that contains myString in all capital letters (using .upper()), one that contains myString in all lower case letters (using .lower()), and one that capitalizes every first letter of each word (using .title())"
   ]
  },
  {
   "cell_type": "code",
   "execution_count": null,
   "id": "c052851d",
   "metadata": {},
   "outputs": [],
   "source": [
    "myString = \"I study at AAU, and it is AwEsOmE!!!\""
   ]
  },
  {
   "cell_type": "markdown",
   "id": "85f447a3",
   "metadata": {},
   "source": [
    "Below you see a variable _myString_. Create three new variables: one that contains the same string but without the whitespace on the right side, one that contains the same string but without the whitespace on the left side, and one that contains no whitespaces on either side. Use .rstrip(), .lstrip(), and .strip(), respectively. "
   ]
  },
  {
   "cell_type": "code",
   "execution_count": 1,
   "id": "e9ebe04e",
   "metadata": {},
   "outputs": [
    {
     "name": "stdout",
     "output_type": "stream",
     "text": [
      " cookies\n",
      "cookies \n",
      "cookies\n"
     ]
    }
   ],
   "source": [
    "myString = \" cookies \"\n",
    "\n",
    "food = \" cookies \"\n",
    "print(food.rstrip())\n",
    "print(food.lstrip())\n",
    "print(food.strip())\n",
    "\n",
    "variablenameR = food.rstrip()\n",
    "varnameL = food.lstrip()\n",
    "varS = food.strip()"
   ]
  },
  {
   "cell_type": "markdown",
   "id": "6ca3c410",
   "metadata": {},
   "source": [
    "What is the length of the following string: \"I like programming a lot but this is getting annoying\" ?"
   ]
  },
  {
   "cell_type": "code",
   "execution_count": null,
   "id": "4bd08c3e",
   "metadata": {},
   "outputs": [],
   "source": []
  },
  {
   "cell_type": "markdown",
   "id": "c945e590",
   "metadata": {},
   "source": [
    "string slicing: create a variable containing the string \"I like programming a lot but this is getting annoying\"\n",
    "\n",
    "then, using string slicing, print the following:\n",
    "\n",
    "    programming\n",
    "    but\n",
    "    ing (from annoying)  \n",
    "    ing (from programming)\n",
    "    I"
   ]
  },
  {
   "cell_type": "code",
   "execution_count": null,
   "id": "1a8ac465",
   "metadata": {},
   "outputs": [],
   "source": []
  },
  {
   "cell_type": "markdown",
   "id": "d6962123",
   "metadata": {},
   "source": [
    "### 3. boolean values"
   ]
  },
  {
   "cell_type": "markdown",
   "id": "a5efc3df",
   "metadata": {},
   "source": [
    "assess whether the outcome of the following statements will be true or false:\n",
    "\n",
    "    1 == 1 \n",
    "    1 < 1\n",
    "    1 >= 1\n",
    "    \"potato\" > \"potato\"\n",
    "    \"potato\" > \"tomato\"\n",
    "    1 == 1 and \"potato\" == \"potato\"\n",
    "    1 == 1 and \"potato\" > \"potato\"\n",
    "    1 == 1 or \"potato\" > \"potato\"\n",
    "    not 1 == 1"
   ]
  },
  {
   "cell_type": "code",
   "execution_count": 3,
   "id": "3ea1d539",
   "metadata": {},
   "outputs": [
    {
     "name": "stdout",
     "output_type": "stream",
     "text": [
      "True\n"
     ]
    },
    {
     "data": {
      "text/plain": [
       "False"
      ]
     },
     "execution_count": 3,
     "metadata": {},
     "output_type": "execute_result"
    }
   ],
   "source": [
    "print(1 == 1)\n",
    "1 < 1\n",
    "1 >= 1\n",
    "\"potato\" > \"potato\"\n",
    "\"potato\" > \"tomato\"\n",
    "1 == 1 and \"potato\" == \"potato\"\n",
    "1 == 1 and \"potato\" > \"potato\"\n",
    "1 == 1 or \"potato\" > \"potato\"\n",
    "not 1 == 1"
   ]
  },
  {
   "cell_type": "markdown",
   "id": "e3bf0840",
   "metadata": {},
   "source": [
    "### 4. lists"
   ]
  },
  {
   "cell_type": "markdown",
   "id": "376a2899",
   "metadata": {},
   "source": [
    "create an empty list called _emptyList_"
   ]
  },
  {
   "cell_type": "code",
   "execution_count": null,
   "id": "235f8fd2",
   "metadata": {},
   "outputs": [],
   "source": []
  },
  {
   "cell_type": "markdown",
   "id": "1e42d300",
   "metadata": {},
   "source": [
    "indexing lists: using the list below called _colors_ and using indexing, print the following:\n",
    "\n",
    "    red\n",
    "    red, green, blue\n",
    "    Green"
   ]
  },
  {
   "cell_type": "code",
   "execution_count": null,
   "id": "45bb9adf",
   "metadata": {},
   "outputs": [],
   "source": [
    "colors = [\"red\",\"green\",\"blue\"]"
   ]
  },
  {
   "cell_type": "markdown",
   "id": "2d50f35c",
   "metadata": {},
   "source": [
    "using the _colors_ list above, print a message that red is your favorite color:"
   ]
  },
  {
   "cell_type": "code",
   "execution_count": null,
   "id": "c61d4107",
   "metadata": {},
   "outputs": [],
   "source": []
  },
  {
   "cell_type": "markdown",
   "id": "5dfc9869",
   "metadata": {},
   "source": [
    "using the _colors_ list above and relying on methods, do the following:\n",
    "\n",
    "    add \"yellow\" to the end of the list\n",
    "    insert \"pink\" between \"red\" and \"green\"\n",
    "    remove \"green\" from the list\n",
    "    sort the list alphabetically"
   ]
  },
  {
   "cell_type": "code",
   "execution_count": null,
   "id": "19daf877",
   "metadata": {},
   "outputs": [],
   "source": []
  },
  {
   "cell_type": "markdown",
   "id": "95e289a1",
   "metadata": {},
   "source": [
    "### 5. sets"
   ]
  },
  {
   "cell_type": "markdown",
   "id": "3928ddfa",
   "metadata": {},
   "source": [
    "create an empty set called _emptySet_"
   ]
  },
  {
   "cell_type": "code",
   "execution_count": null,
   "id": "2f03ced6",
   "metadata": {},
   "outputs": [],
   "source": []
  },
  {
   "cell_type": "markdown",
   "id": "f89cb8bc",
   "metadata": {},
   "source": [
    "make a list of 10 different numbers (whatever numbers you want), and then convert that list into a set. "
   ]
  },
  {
   "cell_type": "code",
   "execution_count": null,
   "id": "37e66cd0",
   "metadata": {},
   "outputs": [],
   "source": []
  },
  {
   "cell_type": "markdown",
   "id": "89620ca2",
   "metadata": {},
   "source": [
    "perform relevant set operations on the sets below to get the desired outcome:"
   ]
  },
  {
   "cell_type": "code",
   "execution_count": null,
   "id": "0c0c728d",
   "metadata": {},
   "outputs": [],
   "source": [
    "A = {1, 2, 3}\n",
    "B = {3, 4, 5}\n",
    "\n",
    "# outcome: {1, 2, 3, 4, 5}\n",
    "\n",
    "# outcome: {3}\n",
    "\n",
    "# outcome: {1, 2}"
   ]
  },
  {
   "cell_type": "markdown",
   "id": "40c1fc34",
   "metadata": {},
   "source": [
    "check if 3 is present in set A:"
   ]
  },
  {
   "cell_type": "code",
   "execution_count": null,
   "id": "8df2804d",
   "metadata": {},
   "outputs": [],
   "source": [
    "A = {1, 2, 3}"
   ]
  },
  {
   "cell_type": "markdown",
   "id": "61c2df10",
   "metadata": {},
   "source": [
    "### 6. for loops"
   ]
  },
  {
   "cell_type": "markdown",
   "id": "25eaa2e5",
   "metadata": {},
   "source": [
    "make a list of your favorite movies and/or tv shows, and use a for loop to print the following statement for each title: \n",
    "\n",
    "    I would much rather be watching (title) than doing homework!\n",
    "\n",
    "and then at the end of the output, print the following statement once:\n",
    "\n",
    "    Honestly I would much rather be doing anything other than homework..."
   ]
  },
  {
   "cell_type": "code",
   "execution_count": null,
   "id": "8c168658",
   "metadata": {},
   "outputs": [],
   "source": []
  },
  {
   "cell_type": "markdown",
   "id": "0ab86c3a",
   "metadata": {},
   "source": [
    "below you see a list of numbers called _originalList_. Use a for loop to create another list where each number is a square of the numbers from _originalList_. The new list should look like this: [1, 4, 9, 16, 25, 36, 49, 64, 81, 100]\n",
    "\n",
    "(squares means number**2) "
   ]
  },
  {
   "cell_type": "code",
   "execution_count": null,
   "id": "51acbfdc",
   "metadata": {},
   "outputs": [],
   "source": [
    "originalList = [1,2,3,4,5,6,7,8,9,10]"
   ]
  },
  {
   "cell_type": "markdown",
   "id": "9b1884fc",
   "metadata": {},
   "source": [
    "use a for loop to calculate the sum of first 10 numbers from the list _numbers_ below. "
   ]
  },
  {
   "cell_type": "code",
   "execution_count": null,
   "id": "dc03ff83",
   "metadata": {},
   "outputs": [],
   "source": [
    "numbers = [5, 12, 38, 4, 66, 9, 18, 45, 102, 36, 7, 65, 36, 21, 83]"
   ]
  },
  {
   "cell_type": "markdown",
   "id": "24906fd5",
   "metadata": {},
   "source": [
    "### 7. conditional tests"
   ]
  },
  {
   "cell_type": "markdown",
   "id": "bfe6d0bf",
   "metadata": {},
   "source": [
    "use if statements to code the following decision sequence: \n",
    "\n",
    "if a number is smaller or equal 21, print \"this number is smaller or equal than 21\"\n",
    "or if a number is larger than 21 and smaller than 50, print \"this number is larger than 21 but smaller than 50\"\n",
    "or if the number is equal or larger than 50, print \"this number is larger or equal 50\""
   ]
  },
  {
   "cell_type": "code",
   "execution_count": null,
   "id": "d6f185e2",
   "metadata": {},
   "outputs": [],
   "source": []
  },
  {
   "cell_type": "markdown",
   "id": "e6a64eac",
   "metadata": {},
   "source": [
    "combining conditional tests with input(): ask the user if it is raining (answer choices: yes, no, maybe), and then depending on the answer, print a recommendation:\n",
    "\n",
    "    if it is raining then stay home, do not go to class\n",
    "    if it is not raining then go to class\n",
    "    if it is maybe raining then look out the window\n",
    "    otherwise print \"sorry, you didn't answer my question\""
   ]
  },
  {
   "cell_type": "code",
   "execution_count": null,
   "id": "a8115b9a",
   "metadata": {},
   "outputs": [],
   "source": []
  },
  {
   "cell_type": "markdown",
   "id": "3f44f48d",
   "metadata": {},
   "source": [
    "use a combination of for loops and if statements for the following problem: below, you see a list of words called _animals_. Use a for loop to go through the list, and print only the words that start with the letter a."
   ]
  },
  {
   "cell_type": "code",
   "execution_count": 5,
   "id": "4168e4f3",
   "metadata": {},
   "outputs": [
    {
     "name": "stdout",
     "output_type": "stream",
     "text": [
      "cat\n",
      "cow\n",
      "chicken\n"
     ]
    }
   ],
   "source": [
    "animals = ['cat','cow','dog','donkey','duck','goat','horse','pig',\n",
    "           'sheep','turkey','elephant','zebra','giraffe','chicken']\n",
    "\n",
    "for everyAnimal in animals:\n",
    "    if everyAnimal[0] == \"a\":\n",
    "        print(everyAnimal)"
   ]
  },
  {
   "cell_type": "markdown",
   "id": "8912d3bf",
   "metadata": {},
   "source": [
    "use a combination of for loops and if statements for the following problem: use the list _animals_. Create two more lists: _animalsC_, which will contain all animals that start with letter C, and _animalsD_, which will contain all animals that start with letter D."
   ]
  },
  {
   "cell_type": "code",
   "execution_count": null,
   "id": "0ec72851",
   "metadata": {},
   "outputs": [],
   "source": []
  },
  {
   "cell_type": "markdown",
   "id": "f85508ab",
   "metadata": {},
   "source": [
    "use a combination of for loops and if statements for the following problem: use the list _animals_. Print a statement which tells us how many animals start with letter G. "
   ]
  },
  {
   "cell_type": "code",
   "execution_count": null,
   "id": "7258ef08",
   "metadata": {},
   "outputs": [],
   "source": []
  },
  {
   "cell_type": "markdown",
   "id": "409fe18e",
   "metadata": {},
   "source": [
    "### 8. dictionaries"
   ]
  },
  {
   "cell_type": "markdown",
   "id": "578a4054",
   "metadata": {},
   "source": [
    "create an empty dictionary:"
   ]
  },
  {
   "cell_type": "code",
   "execution_count": null,
   "id": "09f0dd4c",
   "metadata": {},
   "outputs": [],
   "source": []
  },
  {
   "cell_type": "markdown",
   "id": "5e625f91",
   "metadata": {},
   "source": [
    "for the dictionary _friends_, print the following:\n",
    "\n",
    "    list of keys\n",
    "    list of values"
   ]
  },
  {
   "cell_type": "code",
   "execution_count": null,
   "id": "27420ee5",
   "metadata": {},
   "outputs": [],
   "source": [
    "friends = {'Bing': 'Chandler', 'Green': 'Rachel', 'Geller': 'Monica'}"
   ]
  },
  {
   "cell_type": "markdown",
   "id": "b4874090",
   "metadata": {},
   "source": [
    "add a new key:value pair to the _friends_ dictionary: Buffay:Phoebe"
   ]
  },
  {
   "cell_type": "code",
   "execution_count": null,
   "id": "0ca2b2bc",
   "metadata": {},
   "outputs": [],
   "source": []
  },
  {
   "cell_type": "markdown",
   "id": "4da35f1b",
   "metadata": {},
   "source": [
    "remove Geller:Monica from _friends_"
   ]
  },
  {
   "cell_type": "code",
   "execution_count": null,
   "id": "0726fafb",
   "metadata": {},
   "outputs": [],
   "source": []
  },
  {
   "cell_type": "markdown",
   "id": "07e43711",
   "metadata": {},
   "source": [
    "loop through the _friends_ dictionary, and for every pair print:\n",
    "\n",
    "    (firstname's) last name is (lastname). "
   ]
  },
  {
   "cell_type": "code",
   "execution_count": null,
   "id": "f6f4da20",
   "metadata": {},
   "outputs": [],
   "source": []
  },
  {
   "cell_type": "markdown",
   "id": "a8ec409f",
   "metadata": {},
   "source": [
    "use .get() to check if Tribbiani, Joey is in _friends_"
   ]
  },
  {
   "cell_type": "code",
   "execution_count": null,
   "id": "986ea808",
   "metadata": {},
   "outputs": [],
   "source": []
  },
  {
   "cell_type": "markdown",
   "id": "149b4e7a",
   "metadata": {},
   "source": [
    "use .keys() to see if Tribbiani is in _friends_"
   ]
  },
  {
   "cell_type": "code",
   "execution_count": null,
   "id": "36b0459c",
   "metadata": {},
   "outputs": [],
   "source": []
  },
  {
   "cell_type": "markdown",
   "id": "48335167",
   "metadata": {},
   "source": [
    "### 9. nesting"
   ]
  },
  {
   "cell_type": "markdown",
   "id": "5f3be46c",
   "metadata": {},
   "source": [
    "for every sweet in the _sweets_ dictionary, print the following statement:\n",
    "\n",
    "    This is a (size) portion of (candy name) made by (brand). Have some, it's (flavor)!\n",
    "    \n",
    "so, one output line would be:\n",
    "\n",
    "    This is a medium portion of gummy bears made by Haribo. Have some, it's fruity!"
   ]
  },
  {
   "cell_type": "code",
   "execution_count": 19,
   "id": "29507084",
   "metadata": {},
   "outputs": [
    {
     "name": "stdout",
     "output_type": "stream",
     "text": [
      "This is a medium portion of gummy bears made by haribo. Try it, it's fruity.\n",
      "This is a small portion of chocolate made by marabou. Try it, it's hazelnut.\n",
      "This is a small portion of toffifee made by storck. Try it, it's toffee.\n"
     ]
    }
   ],
   "source": [
    "sweets = {\n",
    "    'gummy bears': {\n",
    "        'brand': 'haribo',\n",
    "        'size': 'medium',\n",
    "        'flavor': 'fruity'},\n",
    "    'chocolate': {\n",
    "        'brand': 'marabou',\n",
    "        'size': 'small',\n",
    "        'flavor': 'hazelnut'},\n",
    "    'toffifee': {\n",
    "        'brand': 'storck',\n",
    "        'size': 'small',\n",
    "        'flavor': 'toffee'}    \n",
    "          }\n",
    "\n",
    "for eachCandy, candyInfo in sweets.items():\n",
    "    print(f\"This is a {candyInfo['size']} portion of {eachCandy} \\\n",
    "    made by {candyInfo['brand']}. Try it, it's \\\n",
    "    {candyInfo['flavor']}.\")"
   ]
  },
  {
   "cell_type": "markdown",
   "id": "f1c3f4b8",
   "metadata": {},
   "source": [
    "### 10. while loops"
   ]
  },
  {
   "cell_type": "markdown",
   "id": "328bcdf3",
   "metadata": {},
   "source": [
    "count from 1 to 5 using a while loop:"
   ]
  },
  {
   "cell_type": "code",
   "execution_count": null,
   "id": "979922f6",
   "metadata": {},
   "outputs": [],
   "source": []
  },
  {
   "cell_type": "markdown",
   "id": "b0dad008",
   "metadata": {},
   "source": [
    "use a while loop to remove all values 'potato' from the list _removePotato_ below:"
   ]
  },
  {
   "cell_type": "code",
   "execution_count": null,
   "id": "15320b91",
   "metadata": {},
   "outputs": [],
   "source": [
    "removePotato = ['potato','tomato','cucumber','potato','broccoli','potato','peas']"
   ]
  },
  {
   "cell_type": "markdown",
   "id": "4291e784",
   "metadata": {},
   "source": [
    "use a while loop and a flag in a short script where:\n",
    "\n",
    "    you ask the user if they would like a cookie\n",
    "    the user responds yes\n",
    "    print \"here's a cookie then! another one?\"\n",
    "    the user responds yes\n",
    "    print \"here's a cookie then! another one?\"\n",
    "    and keeps going infinitely until the user says \"no\"\n",
    "    then print \"don't forget to eat your dinner!\""
   ]
  },
  {
   "cell_type": "code",
   "execution_count": null,
   "id": "28dbd733",
   "metadata": {},
   "outputs": [],
   "source": []
  }
 ],
 "metadata": {
  "kernelspec": {
   "display_name": "Python 3 (ipykernel)",
   "language": "python",
   "name": "python3"
  },
  "language_info": {
   "codemirror_mode": {
    "name": "ipython",
    "version": 3
   },
   "file_extension": ".py",
   "mimetype": "text/x-python",
   "name": "python",
   "nbconvert_exporter": "python",
   "pygments_lexer": "ipython3",
   "version": "3.12.0"
  }
 },
 "nbformat": 4,
 "nbformat_minor": 5
}
