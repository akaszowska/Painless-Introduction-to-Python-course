{
 "cells": [
  {
   "cell_type": "markdown",
   "id": "a70a2de5",
   "metadata": {},
   "source": [
    "# Python skills checkpoint 2"
   ]
  },
  {
   "cell_type": "markdown",
   "id": "f2945f92",
   "metadata": {},
   "source": [
    "## what is this file?\n",
    "This file contains a review of programming skills and concepts you mastered in the second half of this course. Like with the first checkpoint, you should be able to complete all assignments here WITH relying on your class notes and other resources that are posted on moodle. "
   ]
  },
  {
   "cell_type": "markdown",
   "id": "5ccd7f33",
   "metadata": {},
   "source": [
    "### 11. working with files"
   ]
  },
  {
   "cell_type": "markdown",
   "id": "ae881f8f",
   "metadata": {},
   "source": [
    "first, download a Plain Text (UTF-8) file of Frankenstein from https://www.gutenberg.org/ebooks/41445\n",
    "\n",
    "save that file on your hard drive as frankenstein.txt"
   ]
  },
  {
   "cell_type": "markdown",
   "id": "0e6e955c",
   "metadata": {},
   "source": [
    "read in frankenstein.txt, and then count how many words there are in the file"
   ]
  },
  {
   "cell_type": "code",
   "execution_count": null,
   "id": "73fac8e0",
   "metadata": {},
   "outputs": [],
   "source": []
  },
  {
   "cell_type": "markdown",
   "id": "49874ca4",
   "metadata": {},
   "source": [
    "check how many times the word \"and\" is used in frankenstein.txt"
   ]
  },
  {
   "cell_type": "code",
   "execution_count": null,
   "id": "5a63c579",
   "metadata": {},
   "outputs": [],
   "source": []
  },
  {
   "cell_type": "markdown",
   "id": "4c941569",
   "metadata": {},
   "source": [
    "create a .csv file called <i>kittens.csv</i>, that contains four headers: name, color, size, and fluffiness. Include one more row of data which describe a cat named whiskers, with color=black, size=medium, and fluffiness=3.  "
   ]
  },
  {
   "cell_type": "code",
   "execution_count": null,
   "id": "e6504cb3",
   "metadata": {},
   "outputs": [],
   "source": []
  },
  {
   "cell_type": "markdown",
   "id": "ce48e63e",
   "metadata": {},
   "source": [
    "read in your file <i>kittens.csv</i> and append to it three more cats: salem (white, small, 5); garfield (red, large, 4); and lola (gray, small, 2)"
   ]
  },
  {
   "cell_type": "code",
   "execution_count": null,
   "id": "ef4bf82b",
   "metadata": {},
   "outputs": [],
   "source": []
  },
  {
   "cell_type": "markdown",
   "id": "42d0f8b4",
   "metadata": {},
   "source": [
    "calculate average fluffiness of the cats in <i>kittens.csv</i>. Average is a sum of all fluffiness scores divided by the number of cats."
   ]
  },
  {
   "cell_type": "code",
   "execution_count": null,
   "id": "ca2f72b1",
   "metadata": {},
   "outputs": [],
   "source": []
  },
  {
   "cell_type": "markdown",
   "id": "0fd5e9a5",
   "metadata": {},
   "source": [
    "### 12. functions"
   ]
  },
  {
   "cell_type": "markdown",
   "id": "f9021709",
   "metadata": {},
   "source": [
    "write a function called <i>McDonalds</i>: the function takes only one parameter, which is a string, and returns a statement: \"(argument)? I'm lovin' it!\"\n",
    "\n",
    "test:\n",
    "McDonalds(\"puppies\")\n",
    "\n",
    "result:\n",
    "Puppies? I'm lovin' it!"
   ]
  },
  {
   "cell_type": "code",
   "execution_count": null,
   "id": "7c896eda",
   "metadata": {},
   "outputs": [],
   "source": []
  },
  {
   "cell_type": "markdown",
   "id": "c3c42b18",
   "metadata": {},
   "source": [
    "write a function called <i>power_up</i>: the function takes only one parameter, which is an integer, and returns the value of that integer's square (for example, for integer a the value is equal to a*a)\n",
    "\n",
    "test: \n",
    "power_up(2)\n",
    "\n",
    "result: \n",
    "4"
   ]
  },
  {
   "cell_type": "code",
   "execution_count": null,
   "id": "3644057c",
   "metadata": {},
   "outputs": [],
   "source": []
  },
  {
   "cell_type": "markdown",
   "id": "68d92ecd",
   "metadata": {},
   "source": [
    "write function called <i>color_me</i>: the function takes two parameters (color and item), which are both strings, and returns the following statement: \"I want Santa to bring me a (color) (item) for Christmas!\"\n",
    "\n",
    "test: \n",
    "color_me(\"purple\",\"hat\")\n",
    "\n",
    "result:\n",
    "I want Santa to bring me a purple hat for Christmas!\n",
    "\n",
    "2nd test: \n",
    "color_me(what=\"duck\", which=\"yellow\")\n",
    "\n",
    "2nd result: \n",
    "I want Santa to bring me a yellow duck for Christmas!"
   ]
  },
  {
   "cell_type": "code",
   "execution_count": null,
   "id": "351b26ed",
   "metadata": {},
   "outputs": [],
   "source": []
  },
  {
   "cell_type": "markdown",
   "id": "7b3db245",
   "metadata": {},
   "source": [
    "### 13. working with modules"
   ]
  },
  {
   "cell_type": "markdown",
   "id": "5e612c97",
   "metadata": {},
   "source": [
    "module <i>math</i> contains a function called <i>sqrt</i>, which calculates a square root of a number. \n",
    "\n",
    "how would you import the module and/or the function for the following code to work:"
   ]
  },
  {
   "cell_type": "code",
   "execution_count": 6,
   "id": "4d476f2c",
   "metadata": {},
   "outputs": [
    {
     "name": "stdout",
     "output_type": "stream",
     "text": [
      "2.0\n"
     ]
    }
   ],
   "source": [
    "# (your code goes here)\n",
    "\n",
    "a = math.sqrt(4)\n",
    "print(a)"
   ]
  },
  {
   "cell_type": "code",
   "execution_count": null,
   "id": "36e0f7b6",
   "metadata": {},
   "outputs": [],
   "source": [
    "# (your code goes here)\n",
    "\n",
    "a = sqrt(4)\n",
    "print(a)"
   ]
  },
  {
   "cell_type": "code",
   "execution_count": null,
   "id": "a3888a0f",
   "metadata": {},
   "outputs": [],
   "source": [
    "# (your code goes here)\n",
    "\n",
    "a = numbers.sqrt(4)\n",
    "print(a)"
   ]
  },
  {
   "cell_type": "code",
   "execution_count": null,
   "id": "c8387015",
   "metadata": {},
   "outputs": [],
   "source": [
    "# (your code goes here)\n",
    "\n",
    "a = roots(4)\n",
    "print(a)"
   ]
  },
  {
   "cell_type": "markdown",
   "id": "04e0f9f1",
   "metadata": {},
   "source": [
    "### 14. error handling"
   ]
  },
  {
   "cell_type": "markdown",
   "id": "613659bc",
   "metadata": {},
   "source": [
    "what happens in the code snippet below?"
   ]
  },
  {
   "cell_type": "code",
   "execution_count": 9,
   "id": "92b6e345",
   "metadata": {},
   "outputs": [
    {
     "name": "stdout",
     "output_type": "stream",
     "text": [
      "Do you love puppies? yes/no: no\n"
     ]
    },
    {
     "ename": "ValueError",
     "evalue": "It is not possible for anyone to hate puppies",
     "output_type": "error",
     "traceback": [
      "\u001b[1;31m---------------------------------------------------------------------------\u001b[0m",
      "\u001b[1;31mValueError\u001b[0m                                Traceback (most recent call last)",
      "Input \u001b[1;32mIn [9]\u001b[0m, in \u001b[0;36m<cell line: 2>\u001b[1;34m()\u001b[0m\n\u001b[0;32m      1\u001b[0m user \u001b[38;5;241m=\u001b[39m \u001b[38;5;28minput\u001b[39m(\u001b[38;5;124m\"\u001b[39m\u001b[38;5;124mDo you love puppies? yes/no: \u001b[39m\u001b[38;5;124m\"\u001b[39m)\n\u001b[0;32m      2\u001b[0m \u001b[38;5;28;01mif\u001b[39;00m user \u001b[38;5;241m==\u001b[39m \u001b[38;5;124m\"\u001b[39m\u001b[38;5;124mno\u001b[39m\u001b[38;5;124m\"\u001b[39m:\n\u001b[1;32m----> 3\u001b[0m     \u001b[38;5;28;01mraise\u001b[39;00m \u001b[38;5;167;01mValueError\u001b[39;00m(\u001b[38;5;124m\"\u001b[39m\u001b[38;5;124mIt is not possible for anyone to hate puppies\u001b[39m\u001b[38;5;124m\"\u001b[39m)\n",
      "\u001b[1;31mValueError\u001b[0m: It is not possible for anyone to hate puppies"
     ]
    }
   ],
   "source": [
    "user = input(\"Do you love puppies? yes/no: \")\n",
    "if user == \"no\":\n",
    "    raise ValueError(\"It is not possible for anyone to hate puppies\")"
   ]
  },
  {
   "cell_type": "markdown",
   "id": "34a25e07",
   "metadata": {},
   "source": [
    "find 5 syntax errors in code below"
   ]
  },
  {
   "cell_type": "code",
   "execution_count": null,
   "id": "f0d87697",
   "metadata": {},
   "outputs": [],
   "source": [
    "import random\n",
    "\n",
    "actionChoice = [\"paper\";\"rock\";\"scissors\"]\n",
    "active = True \n",
    "\n",
    "\n",
    "### rock paper scissors game starts here: \n",
    "while active:\n",
    "    computerAction = random.choice(actionChoice)\n",
    "    userAction = input(\"What's your action? (rock, paper, scissors): )\n",
    "\n",
    "    print(f\"\\nYou played {userAction}, computer played {computerAction}.\\n\")\n",
    "\n",
    "    if userAction == computerAction\n",
    "        print(f\"Both players selected {userAction}. It's a tie!\")\n",
    "    elif userAction == \"rock\":\n",
    "        if computerAction == \"scissors\":\n",
    "            print(\"Rock smashes scissors! You win!\")\n",
    "        else: \n",
    "        print(\"Paper covers rock! You lose.\")\n",
    "    elif userAction == \"paper\":\n",
    "        if computerAction == \"rock\":\n",
    "            print(\"Paper covers rock! You win!\")\n",
    "        else:\n",
    "            print(\"Scissors cuts paper! You lose.\")\n",
    "    elif userAction == \"scissors\":\n",
    "        if computerAction == \"paper\":\n",
    "            print(\"Scissors cuts paper! You win!\")\n",
    "        else:\n",
    "            print(\"Rock smashes scissors! You lose.\")\n",
    "            \n",
    "    keepPlaying = input(\"Would you like to play another game? (yes/no): \")\n",
    "    if keepPlaying == \"no\":\n",
    "    active = False\n",
    "        print(\"Thanks for playing!\")"
   ]
  },
  {
   "cell_type": "markdown",
   "id": "e8656cb2",
   "metadata": {},
   "source": [
    "### 15. regular expressions"
   ]
  },
  {
   "cell_type": "markdown",
   "id": "d2a08c93",
   "metadata": {},
   "source": [
    "what does the script below do?"
   ]
  },
  {
   "cell_type": "code",
   "execution_count": null,
   "id": "25a01c3b",
   "metadata": {},
   "outputs": [],
   "source": [
    "import re\n",
    "\n",
    "user_email = input('enter your email address: ')\n",
    "valid_email = re.compile(r'\\b[A-Za-z0-9._%+-]+@[A-Za-z0-9.-]+\\.[A-Z|a-z]{2,}\\b')\n",
    "\n",
    "if re.fullmatch(valid_email, user_email):\n",
    "    print(\"your email is valid\")\n",
    "else:\n",
    "    print(\"this is not a valid email address\")"
   ]
  },
  {
   "cell_type": "markdown",
   "id": "e1d79a01",
   "metadata": {},
   "source": [
    "what does the script below do?"
   ]
  },
  {
   "cell_type": "code",
   "execution_count": null,
   "id": "cd4fce13",
   "metadata": {},
   "outputs": [],
   "source": [
    "import re\n",
    "\n",
    "address = '20 Main Street'\n",
    "print(re.sub('Street$', 'St.', address))"
   ]
  },
  {
   "cell_type": "markdown",
   "id": "58f20cb6",
   "metadata": {},
   "source": [
    "### 16. recursive functions"
   ]
  },
  {
   "cell_type": "markdown",
   "id": "1d4cd9d8",
   "metadata": {},
   "source": [
    "below you see two functions. Which one is recursive?"
   ]
  },
  {
   "cell_type": "code",
   "execution_count": 15,
   "id": "07703020",
   "metadata": {},
   "outputs": [
    {
     "data": {
      "text/plain": [
       "120"
      ]
     },
     "execution_count": 15,
     "metadata": {},
     "output_type": "execute_result"
    }
   ],
   "source": [
    "def factorial_v1(number):\n",
    "    factorial_number = 1 \n",
    "    for i in range(1, number+1):\n",
    "        factorial_number *= i\n",
    "    return factorial_number\n",
    "\n",
    "def factorial_v2(number):\n",
    "    if number==1:\n",
    "        return number\n",
    "    else:\n",
    "        return number*(factorial_v2(number-1))"
   ]
  }
 ],
 "metadata": {
  "kernelspec": {
   "display_name": "Python 3 (ipykernel)",
   "language": "python",
   "name": "python3"
  },
  "language_info": {
   "codemirror_mode": {
    "name": "ipython",
    "version": 3
   },
   "file_extension": ".py",
   "mimetype": "text/x-python",
   "name": "python",
   "nbconvert_exporter": "python",
   "pygments_lexer": "ipython3",
   "version": "3.12.0"
  }
 },
 "nbformat": 4,
 "nbformat_minor": 5
}
